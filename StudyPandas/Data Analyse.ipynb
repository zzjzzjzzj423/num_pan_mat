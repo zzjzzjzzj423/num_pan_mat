{
 "cells": [
  {
   "cell_type": "code",
   "id": "initial_id",
   "metadata": {
    "collapsed": true,
    "ExecuteTime": {
     "end_time": "2025-08-18T14:32:33.458123Z",
     "start_time": "2025-08-18T14:32:33.451155Z"
    }
   },
   "source": [
    "import pandas as pd\n",
    "\n",
    "df=pd.read_csv('/Users/zijian/Public/code_p/num_pan_mat/data/employees.csv')\n",
    "print(type(df))\n",
    "print('---------')\n",
    "print(df.head())\n",
    "print('---------')\n",
    "print(df.salary.mean())\n",
    "print('---------')"
   ],
   "outputs": [
    {
     "name": "stdout",
     "output_type": "stream",
     "text": [
      "<class 'pandas.core.frame.DataFrame'>\n",
      "---------\n",
      "   employee_id first_name last_name     email  phone_number   job_id   salary  \\\n",
      "0          100     Steven      King     SKING  515.123.4567  AD_PRES  24000.0   \n",
      "1          101      N_ann   Kochhar  NKOCHHAR  515.123.4568    AD_VP  17000.0   \n",
      "2          102        Lex   De Haan   LDEHAAN  515.123.4569    AD_VP  17000.0   \n",
      "3          103  Alexander    Hunold   AHUNOLD  590.423.4567  IT_PROG   9000.0   \n",
      "4          104      Bruce     Ernst    BERNST  590.423.4568  IT_PROG   6000.0   \n",
      "\n",
      "   commission_pct  manager_id  department_id  \n",
      "0             NaN         NaN           90.0  \n",
      "1             NaN       100.0           90.0  \n",
      "2             NaN       100.0           90.0  \n",
      "3             NaN       102.0           60.0  \n",
      "4             NaN       103.0           60.0  \n",
      "---------\n",
      "6461.682242990654\n",
      "---------\n"
     ]
    }
   ],
   "execution_count": 4
  },
  {
   "metadata": {
    "ExecuteTime": {
     "end_time": "2025-08-18T14:37:51.966476Z",
     "start_time": "2025-08-18T14:37:51.962536Z"
    }
   },
   "cell_type": "code",
   "source": [
    "df=df.tail()\n",
    "df.to_csv('data/new.csv')"
   ],
   "id": "7e86cb7b65a8999",
   "outputs": [],
   "execution_count": 11
  },
  {
   "metadata": {
    "ExecuteTime": {
     "end_time": "2025-08-18T14:40:24.477448Z",
     "start_time": "2025-08-18T14:40:24.470049Z"
    }
   },
   "cell_type": "code",
   "source": [
    "df=pd.read_json('/Users/zijian/Public/code_p/num_pan_mat/data/data1.json')\n",
    "df\n"
   ],
   "id": "e612da5aeb28b5a2",
   "outputs": [
    {
     "data": {
      "text/plain": [
       "   id name  age\n",
       "0   1   张三   25\n",
       "1   2   李四   30\n",
       "2   3   王五   28"
      ],
      "text/html": [
       "<div>\n",
       "<style scoped>\n",
       "    .dataframe tbody tr th:only-of-type {\n",
       "        vertical-align: middle;\n",
       "    }\n",
       "\n",
       "    .dataframe tbody tr th {\n",
       "        vertical-align: top;\n",
       "    }\n",
       "\n",
       "    .dataframe thead th {\n",
       "        text-align: right;\n",
       "    }\n",
       "</style>\n",
       "<table border=\"1\" class=\"dataframe\">\n",
       "  <thead>\n",
       "    <tr style=\"text-align: right;\">\n",
       "      <th></th>\n",
       "      <th>id</th>\n",
       "      <th>name</th>\n",
       "      <th>age</th>\n",
       "    </tr>\n",
       "  </thead>\n",
       "  <tbody>\n",
       "    <tr>\n",
       "      <th>0</th>\n",
       "      <td>1</td>\n",
       "      <td>张三</td>\n",
       "      <td>25</td>\n",
       "    </tr>\n",
       "    <tr>\n",
       "      <th>1</th>\n",
       "      <td>2</td>\n",
       "      <td>李四</td>\n",
       "      <td>30</td>\n",
       "    </tr>\n",
       "    <tr>\n",
       "      <th>2</th>\n",
       "      <td>3</td>\n",
       "      <td>王五</td>\n",
       "      <td>28</td>\n",
       "    </tr>\n",
       "  </tbody>\n",
       "</table>\n",
       "</div>"
      ]
     },
     "execution_count": 13,
     "metadata": {},
     "output_type": "execute_result"
    }
   ],
   "execution_count": 13
  },
  {
   "metadata": {
    "ExecuteTime": {
     "end_time": "2025-08-18T14:41:51.350499Z",
     "start_time": "2025-08-18T14:41:51.346115Z"
    }
   },
   "cell_type": "code",
   "source": [
    "import json\n",
    "with open('/Users/zijian/Public/code_p/num_pan_mat/data/test.json') as f:\n",
    "    data = json.load(f)\n"
   ],
   "id": "a14bda817c9aedd3",
   "outputs": [
    {
     "name": "stdout",
     "output_type": "stream",
     "text": [
      "{'users': [{'id': 1, 'name': '张三', 'age': 28, 'email': 'zhangsan@example.com', 'is_active': True, 'join_date': '2022-03-15'}, {'id': 2, 'name': '李四', 'age': 35, 'email': 'lisi@example.com', 'is_active': False, 'join_date': '2021-11-02'}, {'id': 3, 'name': '王五', 'age': 24, 'email': 'wangwu@example.com', 'is_active': True, 'join_date': '2023-01-20'}]}\n"
     ]
    }
   ],
   "execution_count": 14
  },
  {
   "metadata": {
    "ExecuteTime": {
     "end_time": "2025-08-18T14:46:42.661166Z",
     "start_time": "2025-08-18T14:46:42.658291Z"
    }
   },
   "cell_type": "code",
   "source": [
    "print(type(data))\n",
    "print(data)\n",
    "print(type(data['users']))\n",
    "print(data['users'])"
   ],
   "id": "f32114706b8e4668",
   "outputs": [
    {
     "name": "stdout",
     "output_type": "stream",
     "text": [
      "<class 'dict'>\n",
      "{'users': [{'id': 1, 'name': '张三', 'age': 28, 'email': 'zhangsan@example.com', 'is_active': True, 'join_date': '2022-03-15'}, {'id': 2, 'name': '李四', 'age': 35, 'email': 'lisi@example.com', 'is_active': False, 'join_date': '2021-11-02'}, {'id': 3, 'name': '王五', 'age': 24, 'email': 'wangwu@example.com', 'is_active': True, 'join_date': '2023-01-20'}]}\n",
      "<class 'list'>\n",
      "[{'id': 1, 'name': '张三', 'age': 28, 'email': 'zhangsan@example.com', 'is_active': True, 'join_date': '2022-03-15'}, {'id': 2, 'name': '李四', 'age': 35, 'email': 'lisi@example.com', 'is_active': False, 'join_date': '2021-11-02'}, {'id': 3, 'name': '王五', 'age': 24, 'email': 'wangwu@example.com', 'is_active': True, 'join_date': '2023-01-20'}]\n"
     ]
    }
   ],
   "execution_count": 20
  },
  {
   "metadata": {
    "ExecuteTime": {
     "end_time": "2025-08-18T14:43:06.643008Z",
     "start_time": "2025-08-18T14:43:06.640819Z"
    }
   },
   "cell_type": "code",
   "source": "df=pd.DataFrame(data['users'])",
   "id": "c9a3440e29580e70",
   "outputs": [],
   "execution_count": 16
  },
  {
   "metadata": {
    "ExecuteTime": {
     "end_time": "2025-08-18T14:43:15.053071Z",
     "start_time": "2025-08-18T14:43:15.049881Z"
    }
   },
   "cell_type": "code",
   "source": "df",
   "id": "5102128a42a116c3",
   "outputs": [
    {
     "data": {
      "text/plain": [
       "   id name  age                 email  is_active   join_date\n",
       "0   1   张三   28  zhangsan@example.com       True  2022-03-15\n",
       "1   2   李四   35      lisi@example.com      False  2021-11-02\n",
       "2   3   王五   24    wangwu@example.com       True  2023-01-20"
      ],
      "text/html": [
       "<div>\n",
       "<style scoped>\n",
       "    .dataframe tbody tr th:only-of-type {\n",
       "        vertical-align: middle;\n",
       "    }\n",
       "\n",
       "    .dataframe tbody tr th {\n",
       "        vertical-align: top;\n",
       "    }\n",
       "\n",
       "    .dataframe thead th {\n",
       "        text-align: right;\n",
       "    }\n",
       "</style>\n",
       "<table border=\"1\" class=\"dataframe\">\n",
       "  <thead>\n",
       "    <tr style=\"text-align: right;\">\n",
       "      <th></th>\n",
       "      <th>id</th>\n",
       "      <th>name</th>\n",
       "      <th>age</th>\n",
       "      <th>email</th>\n",
       "      <th>is_active</th>\n",
       "      <th>join_date</th>\n",
       "    </tr>\n",
       "  </thead>\n",
       "  <tbody>\n",
       "    <tr>\n",
       "      <th>0</th>\n",
       "      <td>1</td>\n",
       "      <td>张三</td>\n",
       "      <td>28</td>\n",
       "      <td>zhangsan@example.com</td>\n",
       "      <td>True</td>\n",
       "      <td>2022-03-15</td>\n",
       "    </tr>\n",
       "    <tr>\n",
       "      <th>1</th>\n",
       "      <td>2</td>\n",
       "      <td>李四</td>\n",
       "      <td>35</td>\n",
       "      <td>lisi@example.com</td>\n",
       "      <td>False</td>\n",
       "      <td>2021-11-02</td>\n",
       "    </tr>\n",
       "    <tr>\n",
       "      <th>2</th>\n",
       "      <td>3</td>\n",
       "      <td>王五</td>\n",
       "      <td>24</td>\n",
       "      <td>wangwu@example.com</td>\n",
       "      <td>True</td>\n",
       "      <td>2023-01-20</td>\n",
       "    </tr>\n",
       "  </tbody>\n",
       "</table>\n",
       "</div>"
      ]
     },
     "execution_count": 17,
     "metadata": {},
     "output_type": "execute_result"
    }
   ],
   "execution_count": 17
  },
  {
   "metadata": {
    "ExecuteTime": {
     "end_time": "2025-08-18T14:49:27.022375Z",
     "start_time": "2025-08-18T14:49:27.019547Z"
    }
   },
   "cell_type": "code",
   "source": [
    "# 缺失值处理\n",
    "import numpy as np\n",
    "\n",
    "s=pd.Series([1,2,np.nan,None,pd.NA])\n",
    "print(s)"
   ],
   "id": "26091ae736e86d53",
   "outputs": [
    {
     "name": "stdout",
     "output_type": "stream",
     "text": [
      "0       1\n",
      "1       2\n",
      "2     NaN\n",
      "3    None\n",
      "4    <NA>\n",
      "dtype: object\n"
     ]
    }
   ],
   "execution_count": 21
  },
  {
   "metadata": {
    "ExecuteTime": {
     "end_time": "2025-08-18T14:49:44.971261Z",
     "start_time": "2025-08-18T14:49:44.967783Z"
    }
   },
   "cell_type": "code",
   "source": "print(s.isna())",
   "id": "b32a6e1eb246d286",
   "outputs": [
    {
     "name": "stdout",
     "output_type": "stream",
     "text": [
      "0    False\n",
      "1    False\n",
      "2     True\n",
      "3     True\n",
      "4     True\n",
      "dtype: bool\n"
     ]
    }
   ],
   "execution_count": 22
  },
  {
   "metadata": {
    "ExecuteTime": {
     "end_time": "2025-08-18T14:49:58.824675Z",
     "start_time": "2025-08-18T14:49:58.822311Z"
    }
   },
   "cell_type": "code",
   "source": "print(s.isnull())",
   "id": "b8e791ba3c01707a",
   "outputs": [
    {
     "name": "stdout",
     "output_type": "stream",
     "text": [
      "0    False\n",
      "1    False\n",
      "2     True\n",
      "3     True\n",
      "4     True\n",
      "dtype: bool\n"
     ]
    }
   ],
   "execution_count": 23
  },
  {
   "metadata": {
    "ExecuteTime": {
     "end_time": "2025-08-18T14:52:45.926545Z",
     "start_time": "2025-08-18T14:52:45.922180Z"
    }
   },
   "cell_type": "code",
   "source": [
    "df=pd.DataFrame([[1,pd.NA,2],[2,3,5],[None,4,6]],columns=['A','B','C'])\n",
    "print(df)"
   ],
   "id": "58cfc44c3e3205c1",
   "outputs": [
    {
     "name": "stdout",
     "output_type": "stream",
     "text": [
      "     A     B  C\n",
      "0  1.0  <NA>  2\n",
      "1  2.0     3  5\n",
      "2  NaN     4  6\n"
     ]
    }
   ],
   "execution_count": 27
  },
  {
   "metadata": {
    "ExecuteTime": {
     "end_time": "2025-08-18T14:52:48.237572Z",
     "start_time": "2025-08-18T14:52:48.233700Z"
    }
   },
   "cell_type": "code",
   "source": "print(df.isna())",
   "id": "5e5ab6cfeff1b07a",
   "outputs": [
    {
     "name": "stdout",
     "output_type": "stream",
     "text": [
      "       A      B      C\n",
      "0  False   True  False\n",
      "1  False  False  False\n",
      "2   True  False  False\n"
     ]
    }
   ],
   "execution_count": 28
  },
  {
   "metadata": {
    "ExecuteTime": {
     "end_time": "2025-08-18T14:56:17.490327Z",
     "start_time": "2025-08-18T14:56:17.486866Z"
    }
   },
   "cell_type": "code",
   "source": "print(df.isnull())",
   "id": "a6b2e4a67c4c8417",
   "outputs": [
    {
     "name": "stdout",
     "output_type": "stream",
     "text": [
      "<bound method DataFrame.sum of        A      B      C\n",
      "0  False   True  False\n",
      "1  False  False  False\n",
      "2   True  False  False>\n"
     ]
    }
   ],
   "execution_count": 30
  },
  {
   "metadata": {
    "ExecuteTime": {
     "end_time": "2025-08-18T14:56:39.142487Z",
     "start_time": "2025-08-18T14:56:39.139122Z"
    }
   },
   "cell_type": "code",
   "source": [
    "print(df.isna().sum())\n",
    "print(df.isnull().sum())"
   ],
   "id": "2237575efbc568ee",
   "outputs": [
    {
     "name": "stdout",
     "output_type": "stream",
     "text": [
      "A    1\n",
      "B    1\n",
      "C    0\n",
      "dtype: int64\n",
      "A    1\n",
      "B    1\n",
      "C    0\n",
      "dtype: int64\n"
     ]
    }
   ],
   "execution_count": 31
  },
  {
   "metadata": {
    "ExecuteTime": {
     "end_time": "2025-08-18T14:57:40.791914Z",
     "start_time": "2025-08-18T14:57:40.788846Z"
    }
   },
   "cell_type": "code",
   "source": [
    "#剔除缺失值\n",
    "print(s.dropna())"
   ],
   "id": "53cdaf4dbc8da467",
   "outputs": [
    {
     "name": "stdout",
     "output_type": "stream",
     "text": [
      "0    1\n",
      "1    2\n",
      "dtype: object\n"
     ]
    }
   ],
   "execution_count": 32
  },
  {
   "metadata": {
    "ExecuteTime": {
     "end_time": "2025-08-18T14:58:14.241576Z",
     "start_time": "2025-08-18T14:58:14.238274Z"
    }
   },
   "cell_type": "code",
   "source": [
    "print(df)\n",
    "df.dropna() #一整条记录全删除"
   ],
   "id": "9389823cb02aad2b",
   "outputs": [
    {
     "name": "stdout",
     "output_type": "stream",
     "text": [
      "     A     B  C\n",
      "0  1.0  <NA>  2\n",
      "1  2.0     3  5\n",
      "2  NaN     4  6\n"
     ]
    },
    {
     "data": {
      "text/plain": [
       "     A  B  C\n",
       "1  2.0  3  5"
      ],
      "text/html": [
       "<div>\n",
       "<style scoped>\n",
       "    .dataframe tbody tr th:only-of-type {\n",
       "        vertical-align: middle;\n",
       "    }\n",
       "\n",
       "    .dataframe tbody tr th {\n",
       "        vertical-align: top;\n",
       "    }\n",
       "\n",
       "    .dataframe thead th {\n",
       "        text-align: right;\n",
       "    }\n",
       "</style>\n",
       "<table border=\"1\" class=\"dataframe\">\n",
       "  <thead>\n",
       "    <tr style=\"text-align: right;\">\n",
       "      <th></th>\n",
       "      <th>A</th>\n",
       "      <th>B</th>\n",
       "      <th>C</th>\n",
       "    </tr>\n",
       "  </thead>\n",
       "  <tbody>\n",
       "    <tr>\n",
       "      <th>1</th>\n",
       "      <td>2.0</td>\n",
       "      <td>3</td>\n",
       "      <td>5</td>\n",
       "    </tr>\n",
       "  </tbody>\n",
       "</table>\n",
       "</div>"
      ]
     },
     "execution_count": 35,
     "metadata": {},
     "output_type": "execute_result"
    }
   ],
   "execution_count": 35
  },
  {
   "metadata": {
    "ExecuteTime": {
     "end_time": "2025-08-18T14:59:28.648286Z",
     "start_time": "2025-08-18T14:59:28.644041Z"
    }
   },
   "cell_type": "code",
   "source": "print(df.dropna(how='all')) #如果全都有才删除",
   "id": "f6252b45a9d40697",
   "outputs": [
    {
     "name": "stdout",
     "output_type": "stream",
     "text": [
      "     A     B  C\n",
      "0  1.0  <NA>  2\n",
      "1  2.0     3  5\n",
      "2  NaN     4  6\n"
     ]
    }
   ],
   "execution_count": 36
  },
  {
   "metadata": {
    "ExecuteTime": {
     "end_time": "2025-08-18T15:00:29.578627Z",
     "start_time": "2025-08-18T15:00:29.575130Z"
    }
   },
   "cell_type": "code",
   "source": "print(df.dropna(thresh=1)) #如果至少有n个值不是缺失值\n",
   "id": "4ab677c821cfb9ce",
   "outputs": [
    {
     "name": "stdout",
     "output_type": "stream",
     "text": [
      "     A     B  C\n",
      "0  1.0  <NA>  2\n",
      "1  2.0     3  5\n",
      "2  NaN     4  6\n"
     ]
    }
   ],
   "execution_count": 37
  },
  {
   "metadata": {
    "ExecuteTime": {
     "end_time": "2025-08-18T15:01:01.848538Z",
     "start_time": "2025-08-18T15:01:01.843516Z"
    }
   },
   "cell_type": "code",
   "source": "print(df.dropna(axis=1)) #剔除一整列",
   "id": "647307c1156d649",
   "outputs": [
    {
     "name": "stdout",
     "output_type": "stream",
     "text": [
      "   C\n",
      "0  2\n",
      "1  5\n",
      "2  6\n"
     ]
    }
   ],
   "execution_count": 38
  },
  {
   "metadata": {
    "ExecuteTime": {
     "end_time": "2025-08-18T15:01:32.876929Z",
     "start_time": "2025-08-18T15:01:32.870561Z"
    }
   },
   "cell_type": "code",
   "source": "print(df.dropna(subset=['A']))",
   "id": "1375217edaa16457",
   "outputs": [
    {
     "name": "stdout",
     "output_type": "stream",
     "text": [
      "     A     B  C\n",
      "0  1.0  <NA>  2\n",
      "1  2.0     3  5\n"
     ]
    }
   ],
   "execution_count": 39
  },
  {
   "metadata": {
    "ExecuteTime": {
     "end_time": "2025-08-18T15:02:46.520376Z",
     "start_time": "2025-08-18T15:02:46.513938Z"
    }
   },
   "cell_type": "code",
   "source": [
    "#填充缺失值\n",
    "df=pd.read_csv('/Users/zijian/Public/code_p/num_pan_mat/data/weather_withna.csv')\n",
    "df.tail()"
   ],
   "id": "d7648541ea65d5cb",
   "outputs": [
    {
     "data": {
      "text/plain": [
       "            date  precipitation  temp_max  temp_min  wind weather\n",
       "1456  2015-12-27            NaN       NaN       NaN   NaN     NaN\n",
       "1457  2015-12-28            NaN       NaN       NaN   NaN     NaN\n",
       "1458  2015-12-29            NaN       NaN       NaN   NaN     NaN\n",
       "1459  2015-12-30            NaN       NaN       NaN   NaN     NaN\n",
       "1460  2015-12-31           20.6      12.2       5.0   3.8    rain"
      ],
      "text/html": [
       "<div>\n",
       "<style scoped>\n",
       "    .dataframe tbody tr th:only-of-type {\n",
       "        vertical-align: middle;\n",
       "    }\n",
       "\n",
       "    .dataframe tbody tr th {\n",
       "        vertical-align: top;\n",
       "    }\n",
       "\n",
       "    .dataframe thead th {\n",
       "        text-align: right;\n",
       "    }\n",
       "</style>\n",
       "<table border=\"1\" class=\"dataframe\">\n",
       "  <thead>\n",
       "    <tr style=\"text-align: right;\">\n",
       "      <th></th>\n",
       "      <th>date</th>\n",
       "      <th>precipitation</th>\n",
       "      <th>temp_max</th>\n",
       "      <th>temp_min</th>\n",
       "      <th>wind</th>\n",
       "      <th>weather</th>\n",
       "    </tr>\n",
       "  </thead>\n",
       "  <tbody>\n",
       "    <tr>\n",
       "      <th>1456</th>\n",
       "      <td>2015-12-27</td>\n",
       "      <td>NaN</td>\n",
       "      <td>NaN</td>\n",
       "      <td>NaN</td>\n",
       "      <td>NaN</td>\n",
       "      <td>NaN</td>\n",
       "    </tr>\n",
       "    <tr>\n",
       "      <th>1457</th>\n",
       "      <td>2015-12-28</td>\n",
       "      <td>NaN</td>\n",
       "      <td>NaN</td>\n",
       "      <td>NaN</td>\n",
       "      <td>NaN</td>\n",
       "      <td>NaN</td>\n",
       "    </tr>\n",
       "    <tr>\n",
       "      <th>1458</th>\n",
       "      <td>2015-12-29</td>\n",
       "      <td>NaN</td>\n",
       "      <td>NaN</td>\n",
       "      <td>NaN</td>\n",
       "      <td>NaN</td>\n",
       "      <td>NaN</td>\n",
       "    </tr>\n",
       "    <tr>\n",
       "      <th>1459</th>\n",
       "      <td>2015-12-30</td>\n",
       "      <td>NaN</td>\n",
       "      <td>NaN</td>\n",
       "      <td>NaN</td>\n",
       "      <td>NaN</td>\n",
       "      <td>NaN</td>\n",
       "    </tr>\n",
       "    <tr>\n",
       "      <th>1460</th>\n",
       "      <td>2015-12-31</td>\n",
       "      <td>20.6</td>\n",
       "      <td>12.2</td>\n",
       "      <td>5.0</td>\n",
       "      <td>3.8</td>\n",
       "      <td>rain</td>\n",
       "    </tr>\n",
       "  </tbody>\n",
       "</table>\n",
       "</div>"
      ]
     },
     "execution_count": 40,
     "metadata": {},
     "output_type": "execute_result"
    }
   ],
   "execution_count": 40
  },
  {
   "metadata": {
    "ExecuteTime": {
     "end_time": "2025-08-18T15:04:52.230300Z",
     "start_time": "2025-08-18T15:04:52.227370Z"
    }
   },
   "cell_type": "code",
   "source": "print(df.isna().sum(axis=0))",
   "id": "967d98036e9fc67f",
   "outputs": [
    {
     "name": "stdout",
     "output_type": "stream",
     "text": [
      "date               0\n",
      "precipitation    303\n",
      "temp_max         303\n",
      "temp_min         303\n",
      "wind             303\n",
      "weather          303\n",
      "dtype: int64\n"
     ]
    }
   ],
   "execution_count": 44
  },
  {
   "metadata": {
    "ExecuteTime": {
     "end_time": "2025-08-18T15:05:28.868675Z",
     "start_time": "2025-08-18T15:05:28.863210Z"
    }
   },
   "cell_type": "code",
   "source": "print(df.fillna({'temp_max':20,'wind':2.5}).tail())#使用字典填充",
   "id": "632f6f2d9a80c077",
   "outputs": [
    {
     "name": "stdout",
     "output_type": "stream",
     "text": [
      "            date  precipitation  temp_max  temp_min  wind weather\n",
      "1456  2015-12-27            NaN      20.0       NaN   2.5     NaN\n",
      "1457  2015-12-28            NaN      20.0       NaN   2.5     NaN\n",
      "1458  2015-12-29            NaN      20.0       NaN   2.5     NaN\n",
      "1459  2015-12-30            NaN      20.0       NaN   2.5     NaN\n",
      "1460  2015-12-31           20.6      12.2       5.0   3.8    rain\n"
     ]
    }
   ],
   "execution_count": 47
  },
  {
   "metadata": {
    "ExecuteTime": {
     "end_time": "2025-08-18T15:13:12.536881Z",
     "start_time": "2025-08-18T15:13:12.528868Z"
    }
   },
   "cell_type": "code",
   "source": [
    "print(df.fillna(df[['wind']].mean()).tail())\n",
    "print(df.head())"
   ],
   "id": "32c344a76edc89d9",
   "outputs": [
    {
     "name": "stdout",
     "output_type": "stream",
     "text": [
      "            date  precipitation  temp_max  temp_min      wind weather\n",
      "1456  2015-12-27            NaN       NaN       NaN  3.242055     NaN\n",
      "1457  2015-12-28            NaN       NaN       NaN  3.242055     NaN\n",
      "1458  2015-12-29            NaN       NaN       NaN  3.242055     NaN\n",
      "1459  2015-12-30            NaN       NaN       NaN  3.242055     NaN\n",
      "1460  2015-12-31           20.6      12.2       5.0  3.800000    rain\n",
      "         date  precipitation  temp_max  temp_min  wind  weather\n",
      "0  2012-01-01            0.0      12.8       5.0   4.7  drizzle\n",
      "1  2012-01-02           10.9      10.6       2.8   4.5     rain\n",
      "2  2012-01-03            0.8      11.7       7.2   2.3     rain\n",
      "3  2012-01-04           20.3      12.2       5.6   4.7     rain\n",
      "4  2012-01-05            1.3       8.9       2.8   6.1     rain\n"
     ]
    }
   ],
   "execution_count": 52
  },
  {
   "metadata": {
    "ExecuteTime": {
     "end_time": "2025-08-18T15:14:53.979621Z",
     "start_time": "2025-08-18T15:14:53.974266Z"
    }
   },
   "cell_type": "code",
   "source": "print(df.ffill().tail())# 用前面的值",
   "id": "ecf856e2c7a76534",
   "outputs": [
    {
     "name": "stdout",
     "output_type": "stream",
     "text": [
      "            date  precipitation  temp_max  temp_min  wind weather\n",
      "1456  2015-12-27            0.0      11.1       4.4   4.8     sun\n",
      "1457  2015-12-28            0.0      11.1       4.4   4.8     sun\n",
      "1458  2015-12-29            0.0      11.1       4.4   4.8     sun\n",
      "1459  2015-12-30            0.0      11.1       4.4   4.8     sun\n",
      "1460  2015-12-31           20.6      12.2       5.0   3.8    rain\n"
     ]
    }
   ],
   "execution_count": 53
  },
  {
   "metadata": {
    "ExecuteTime": {
     "end_time": "2025-08-18T15:07:44.518917Z",
     "start_time": "2025-08-18T15:07:44.512818Z"
    }
   },
   "cell_type": "code",
   "source": "print(df.bfill().tail())# 用后面的相邻值",
   "id": "227a6f9d009685d0",
   "outputs": [
    {
     "name": "stdout",
     "output_type": "stream",
     "text": [
      "            date  precipitation  temp_max  temp_min  wind weather\n",
      "1456  2015-12-27           20.6      12.2       5.0   3.8    rain\n",
      "1457  2015-12-28           20.6      12.2       5.0   3.8    rain\n",
      "1458  2015-12-29           20.6      12.2       5.0   3.8    rain\n",
      "1459  2015-12-30           20.6      12.2       5.0   3.8    rain\n",
      "1460  2015-12-31           20.6      12.2       5.0   3.8    rain\n"
     ]
    }
   ],
   "execution_count": 50
  },
  {
   "metadata": {
    "ExecuteTime": {
     "end_time": "2025-08-18T15:18:30.357970Z",
     "start_time": "2025-08-18T15:18:30.355256Z"
    }
   },
   "cell_type": "code",
   "source": [
    "data={\n",
    "    'name':['alice','alice','bob','alice','jack','bob'],\n",
    "    'age':[26,25,30,25,35,30],\n",
    "    'city':['NY','NY','LA','NY','SF','LA'],\n",
    "}\n",
    "df=pd.DataFrame(data)"
   ],
   "id": "df541ecdf767f1",
   "outputs": [],
   "execution_count": 54
  },
  {
   "metadata": {
    "ExecuteTime": {
     "end_time": "2025-08-18T15:18:32.651029Z",
     "start_time": "2025-08-18T15:18:32.648265Z"
    }
   },
   "cell_type": "code",
   "source": "df",
   "id": "487e88c8163ce69",
   "outputs": [
    {
     "data": {
      "text/plain": [
       "    name  age city\n",
       "0  alice   26   NY\n",
       "1  alice   25   NY\n",
       "2    bob   30   LA\n",
       "3  alice   25   NY\n",
       "4   jack   35   SF\n",
       "5    bob   30   LA"
      ],
      "text/html": [
       "<div>\n",
       "<style scoped>\n",
       "    .dataframe tbody tr th:only-of-type {\n",
       "        vertical-align: middle;\n",
       "    }\n",
       "\n",
       "    .dataframe tbody tr th {\n",
       "        vertical-align: top;\n",
       "    }\n",
       "\n",
       "    .dataframe thead th {\n",
       "        text-align: right;\n",
       "    }\n",
       "</style>\n",
       "<table border=\"1\" class=\"dataframe\">\n",
       "  <thead>\n",
       "    <tr style=\"text-align: right;\">\n",
       "      <th></th>\n",
       "      <th>name</th>\n",
       "      <th>age</th>\n",
       "      <th>city</th>\n",
       "    </tr>\n",
       "  </thead>\n",
       "  <tbody>\n",
       "    <tr>\n",
       "      <th>0</th>\n",
       "      <td>alice</td>\n",
       "      <td>26</td>\n",
       "      <td>NY</td>\n",
       "    </tr>\n",
       "    <tr>\n",
       "      <th>1</th>\n",
       "      <td>alice</td>\n",
       "      <td>25</td>\n",
       "      <td>NY</td>\n",
       "    </tr>\n",
       "    <tr>\n",
       "      <th>2</th>\n",
       "      <td>bob</td>\n",
       "      <td>30</td>\n",
       "      <td>LA</td>\n",
       "    </tr>\n",
       "    <tr>\n",
       "      <th>3</th>\n",
       "      <td>alice</td>\n",
       "      <td>25</td>\n",
       "      <td>NY</td>\n",
       "    </tr>\n",
       "    <tr>\n",
       "      <th>4</th>\n",
       "      <td>jack</td>\n",
       "      <td>35</td>\n",
       "      <td>SF</td>\n",
       "    </tr>\n",
       "    <tr>\n",
       "      <th>5</th>\n",
       "      <td>bob</td>\n",
       "      <td>30</td>\n",
       "      <td>LA</td>\n",
       "    </tr>\n",
       "  </tbody>\n",
       "</table>\n",
       "</div>"
      ]
     },
     "execution_count": 55,
     "metadata": {},
     "output_type": "execute_result"
    }
   ],
   "execution_count": 55
  },
  {
   "metadata": {
    "ExecuteTime": {
     "end_time": "2025-08-18T15:21:40.957671Z",
     "start_time": "2025-08-18T15:21:40.950511Z"
    }
   },
   "cell_type": "code",
   "source": "df.duplicated()#一整条都一样",
   "id": "c79a67e99a5ec715",
   "outputs": [
    {
     "data": {
      "text/plain": [
       "0    False\n",
       "1    False\n",
       "2    False\n",
       "3     True\n",
       "4    False\n",
       "5     True\n",
       "dtype: bool"
      ]
     },
     "execution_count": 56,
     "metadata": {},
     "output_type": "execute_result"
    }
   ],
   "execution_count": 56
  },
  {
   "metadata": {
    "ExecuteTime": {
     "end_time": "2025-08-18T15:22:17.832912Z",
     "start_time": "2025-08-18T15:22:17.827765Z"
    }
   },
   "cell_type": "code",
   "source": "df.drop_duplicates()",
   "id": "ca7eaf2b096ea6d2",
   "outputs": [
    {
     "data": {
      "text/plain": [
       "    name  age city\n",
       "0  alice   26   NY\n",
       "1  alice   25   NY\n",
       "2    bob   30   LA\n",
       "4   jack   35   SF"
      ],
      "text/html": [
       "<div>\n",
       "<style scoped>\n",
       "    .dataframe tbody tr th:only-of-type {\n",
       "        vertical-align: middle;\n",
       "    }\n",
       "\n",
       "    .dataframe tbody tr th {\n",
       "        vertical-align: top;\n",
       "    }\n",
       "\n",
       "    .dataframe thead th {\n",
       "        text-align: right;\n",
       "    }\n",
       "</style>\n",
       "<table border=\"1\" class=\"dataframe\">\n",
       "  <thead>\n",
       "    <tr style=\"text-align: right;\">\n",
       "      <th></th>\n",
       "      <th>name</th>\n",
       "      <th>age</th>\n",
       "      <th>city</th>\n",
       "    </tr>\n",
       "  </thead>\n",
       "  <tbody>\n",
       "    <tr>\n",
       "      <th>0</th>\n",
       "      <td>alice</td>\n",
       "      <td>26</td>\n",
       "      <td>NY</td>\n",
       "    </tr>\n",
       "    <tr>\n",
       "      <th>1</th>\n",
       "      <td>alice</td>\n",
       "      <td>25</td>\n",
       "      <td>NY</td>\n",
       "    </tr>\n",
       "    <tr>\n",
       "      <th>2</th>\n",
       "      <td>bob</td>\n",
       "      <td>30</td>\n",
       "      <td>LA</td>\n",
       "    </tr>\n",
       "    <tr>\n",
       "      <th>4</th>\n",
       "      <td>jack</td>\n",
       "      <td>35</td>\n",
       "      <td>SF</td>\n",
       "    </tr>\n",
       "  </tbody>\n",
       "</table>\n",
       "</div>"
      ]
     },
     "execution_count": 57,
     "metadata": {},
     "output_type": "execute_result"
    }
   ],
   "execution_count": 57
  },
  {
   "metadata": {
    "ExecuteTime": {
     "end_time": "2025-08-18T15:29:18.805878Z",
     "start_time": "2025-08-18T15:29:18.799411Z"
    }
   },
   "cell_type": "code",
   "source": "df.drop_duplicates(subset=['name'])#根据指定列去重",
   "id": "5fa36b67b6954d25",
   "outputs": [
    {
     "data": {
      "text/plain": [
       "    name  age city\n",
       "0  alice   26   NY\n",
       "2    bob   30   LA\n",
       "4   jack   35   SF"
      ],
      "text/html": [
       "<div>\n",
       "<style scoped>\n",
       "    .dataframe tbody tr th:only-of-type {\n",
       "        vertical-align: middle;\n",
       "    }\n",
       "\n",
       "    .dataframe tbody tr th {\n",
       "        vertical-align: top;\n",
       "    }\n",
       "\n",
       "    .dataframe thead th {\n",
       "        text-align: right;\n",
       "    }\n",
       "</style>\n",
       "<table border=\"1\" class=\"dataframe\">\n",
       "  <thead>\n",
       "    <tr style=\"text-align: right;\">\n",
       "      <th></th>\n",
       "      <th>name</th>\n",
       "      <th>age</th>\n",
       "      <th>city</th>\n",
       "    </tr>\n",
       "  </thead>\n",
       "  <tbody>\n",
       "    <tr>\n",
       "      <th>0</th>\n",
       "      <td>alice</td>\n",
       "      <td>26</td>\n",
       "      <td>NY</td>\n",
       "    </tr>\n",
       "    <tr>\n",
       "      <th>2</th>\n",
       "      <td>bob</td>\n",
       "      <td>30</td>\n",
       "      <td>LA</td>\n",
       "    </tr>\n",
       "    <tr>\n",
       "      <th>4</th>\n",
       "      <td>jack</td>\n",
       "      <td>35</td>\n",
       "      <td>SF</td>\n",
       "    </tr>\n",
       "  </tbody>\n",
       "</table>\n",
       "</div>"
      ]
     },
     "execution_count": 58,
     "metadata": {},
     "output_type": "execute_result"
    }
   ],
   "execution_count": 58
  },
  {
   "metadata": {
    "ExecuteTime": {
     "end_time": "2025-08-18T15:31:26.859137Z",
     "start_time": "2025-08-18T15:31:26.854558Z"
    }
   },
   "cell_type": "code",
   "source": "df.drop_duplicates(subset=['name'],keep='last')#保留最后一次出现的行",
   "id": "34d506b2aafe36bf",
   "outputs": [
    {
     "data": {
      "text/plain": [
       "    name  age city\n",
       "3  alice   25   NY\n",
       "4   jack   35   SF\n",
       "5    bob   30   LA"
      ],
      "text/html": [
       "<div>\n",
       "<style scoped>\n",
       "    .dataframe tbody tr th:only-of-type {\n",
       "        vertical-align: middle;\n",
       "    }\n",
       "\n",
       "    .dataframe tbody tr th {\n",
       "        vertical-align: top;\n",
       "    }\n",
       "\n",
       "    .dataframe thead th {\n",
       "        text-align: right;\n",
       "    }\n",
       "</style>\n",
       "<table border=\"1\" class=\"dataframe\">\n",
       "  <thead>\n",
       "    <tr style=\"text-align: right;\">\n",
       "      <th></th>\n",
       "      <th>name</th>\n",
       "      <th>age</th>\n",
       "      <th>city</th>\n",
       "    </tr>\n",
       "  </thead>\n",
       "  <tbody>\n",
       "    <tr>\n",
       "      <th>3</th>\n",
       "      <td>alice</td>\n",
       "      <td>25</td>\n",
       "      <td>NY</td>\n",
       "    </tr>\n",
       "    <tr>\n",
       "      <th>4</th>\n",
       "      <td>jack</td>\n",
       "      <td>35</td>\n",
       "      <td>SF</td>\n",
       "    </tr>\n",
       "    <tr>\n",
       "      <th>5</th>\n",
       "      <td>bob</td>\n",
       "      <td>30</td>\n",
       "      <td>LA</td>\n",
       "    </tr>\n",
       "  </tbody>\n",
       "</table>\n",
       "</div>"
      ]
     },
     "execution_count": 59,
     "metadata": {},
     "output_type": "execute_result"
    }
   ],
   "execution_count": 59
  },
  {
   "metadata": {
    "ExecuteTime": {
     "end_time": "2025-08-18T15:35:10.845268Z",
     "start_time": "2025-08-18T15:35:10.838292Z"
    }
   },
   "cell_type": "code",
   "source": [
    "#数据类型转换\n",
    "df=pd.read_csv('/Users/zijian/Public/code_p/num_pan_mat/data/sleep.csv')\n",
    "df"
   ],
   "id": "da7f2c83dff6e126",
   "outputs": [
    {
     "data": {
      "text/plain": [
       "     person_id  gender  age     occupation  sleep_duration  sleep_quality  \\\n",
       "0            1    Male   29   Manual Labor             7.4            7.0   \n",
       "1            2  Female   43        Retired             4.2            4.9   \n",
       "2            3    Male   44        Retired             6.1            6.0   \n",
       "3            4    Male   29  Office Worker             8.3           10.0   \n",
       "4            5    Male   67        Retired             9.1            9.5   \n",
       "..         ...     ...  ...            ...             ...            ...   \n",
       "395        396  Female   36        Student             4.5            7.9   \n",
       "396        397  Female   45   Manual Labor             6.0            6.1   \n",
       "397        398  Female   30        Student             5.3            6.5   \n",
       "398        399  Female   41        Retired            11.0            9.1   \n",
       "399        400    Male   37        Retired             5.8            7.0   \n",
       "\n",
       "     physical_activity_level  stress_level bmi_category blood_pressure  \\\n",
       "0                         41             7        Obese         124/70   \n",
       "1                         41             5        Obese         131/86   \n",
       "2                        107             4  Underweight         122/70   \n",
       "3                         20            10        Obese         124/72   \n",
       "4                         19             4   Overweight         133/78   \n",
       "..                       ...           ...          ...            ...   \n",
       "395                       73             7       Normal         118/66   \n",
       "396                       72             8        Obese         132/80   \n",
       "397                       58            10        Obese         125/76   \n",
       "398                       73             9        Obese         130/75   \n",
       "399                       41             6       Normal         118/70   \n",
       "\n",
       "     heart_rate  daily_steps sleep_disorder  \n",
       "0            91         8539            NaN  \n",
       "1            81        18754            NaN  \n",
       "2            81         2857            NaN  \n",
       "3            55         6886            NaN  \n",
       "4            97        14945       Insomnia  \n",
       "..          ...          ...            ...  \n",
       "395          64        14497    Sleep Apnea  \n",
       "396          65        12848       Insomnia  \n",
       "397          66        15255       Insomnia  \n",
       "398          75         6567    Sleep Apnea  \n",
       "399          51        18079            NaN  \n",
       "\n",
       "[400 rows x 13 columns]"
      ],
      "text/html": [
       "<div>\n",
       "<style scoped>\n",
       "    .dataframe tbody tr th:only-of-type {\n",
       "        vertical-align: middle;\n",
       "    }\n",
       "\n",
       "    .dataframe tbody tr th {\n",
       "        vertical-align: top;\n",
       "    }\n",
       "\n",
       "    .dataframe thead th {\n",
       "        text-align: right;\n",
       "    }\n",
       "</style>\n",
       "<table border=\"1\" class=\"dataframe\">\n",
       "  <thead>\n",
       "    <tr style=\"text-align: right;\">\n",
       "      <th></th>\n",
       "      <th>person_id</th>\n",
       "      <th>gender</th>\n",
       "      <th>age</th>\n",
       "      <th>occupation</th>\n",
       "      <th>sleep_duration</th>\n",
       "      <th>sleep_quality</th>\n",
       "      <th>physical_activity_level</th>\n",
       "      <th>stress_level</th>\n",
       "      <th>bmi_category</th>\n",
       "      <th>blood_pressure</th>\n",
       "      <th>heart_rate</th>\n",
       "      <th>daily_steps</th>\n",
       "      <th>sleep_disorder</th>\n",
       "    </tr>\n",
       "  </thead>\n",
       "  <tbody>\n",
       "    <tr>\n",
       "      <th>0</th>\n",
       "      <td>1</td>\n",
       "      <td>Male</td>\n",
       "      <td>29</td>\n",
       "      <td>Manual Labor</td>\n",
       "      <td>7.4</td>\n",
       "      <td>7.0</td>\n",
       "      <td>41</td>\n",
       "      <td>7</td>\n",
       "      <td>Obese</td>\n",
       "      <td>124/70</td>\n",
       "      <td>91</td>\n",
       "      <td>8539</td>\n",
       "      <td>NaN</td>\n",
       "    </tr>\n",
       "    <tr>\n",
       "      <th>1</th>\n",
       "      <td>2</td>\n",
       "      <td>Female</td>\n",
       "      <td>43</td>\n",
       "      <td>Retired</td>\n",
       "      <td>4.2</td>\n",
       "      <td>4.9</td>\n",
       "      <td>41</td>\n",
       "      <td>5</td>\n",
       "      <td>Obese</td>\n",
       "      <td>131/86</td>\n",
       "      <td>81</td>\n",
       "      <td>18754</td>\n",
       "      <td>NaN</td>\n",
       "    </tr>\n",
       "    <tr>\n",
       "      <th>2</th>\n",
       "      <td>3</td>\n",
       "      <td>Male</td>\n",
       "      <td>44</td>\n",
       "      <td>Retired</td>\n",
       "      <td>6.1</td>\n",
       "      <td>6.0</td>\n",
       "      <td>107</td>\n",
       "      <td>4</td>\n",
       "      <td>Underweight</td>\n",
       "      <td>122/70</td>\n",
       "      <td>81</td>\n",
       "      <td>2857</td>\n",
       "      <td>NaN</td>\n",
       "    </tr>\n",
       "    <tr>\n",
       "      <th>3</th>\n",
       "      <td>4</td>\n",
       "      <td>Male</td>\n",
       "      <td>29</td>\n",
       "      <td>Office Worker</td>\n",
       "      <td>8.3</td>\n",
       "      <td>10.0</td>\n",
       "      <td>20</td>\n",
       "      <td>10</td>\n",
       "      <td>Obese</td>\n",
       "      <td>124/72</td>\n",
       "      <td>55</td>\n",
       "      <td>6886</td>\n",
       "      <td>NaN</td>\n",
       "    </tr>\n",
       "    <tr>\n",
       "      <th>4</th>\n",
       "      <td>5</td>\n",
       "      <td>Male</td>\n",
       "      <td>67</td>\n",
       "      <td>Retired</td>\n",
       "      <td>9.1</td>\n",
       "      <td>9.5</td>\n",
       "      <td>19</td>\n",
       "      <td>4</td>\n",
       "      <td>Overweight</td>\n",
       "      <td>133/78</td>\n",
       "      <td>97</td>\n",
       "      <td>14945</td>\n",
       "      <td>Insomnia</td>\n",
       "    </tr>\n",
       "    <tr>\n",
       "      <th>...</th>\n",
       "      <td>...</td>\n",
       "      <td>...</td>\n",
       "      <td>...</td>\n",
       "      <td>...</td>\n",
       "      <td>...</td>\n",
       "      <td>...</td>\n",
       "      <td>...</td>\n",
       "      <td>...</td>\n",
       "      <td>...</td>\n",
       "      <td>...</td>\n",
       "      <td>...</td>\n",
       "      <td>...</td>\n",
       "      <td>...</td>\n",
       "    </tr>\n",
       "    <tr>\n",
       "      <th>395</th>\n",
       "      <td>396</td>\n",
       "      <td>Female</td>\n",
       "      <td>36</td>\n",
       "      <td>Student</td>\n",
       "      <td>4.5</td>\n",
       "      <td>7.9</td>\n",
       "      <td>73</td>\n",
       "      <td>7</td>\n",
       "      <td>Normal</td>\n",
       "      <td>118/66</td>\n",
       "      <td>64</td>\n",
       "      <td>14497</td>\n",
       "      <td>Sleep Apnea</td>\n",
       "    </tr>\n",
       "    <tr>\n",
       "      <th>396</th>\n",
       "      <td>397</td>\n",
       "      <td>Female</td>\n",
       "      <td>45</td>\n",
       "      <td>Manual Labor</td>\n",
       "      <td>6.0</td>\n",
       "      <td>6.1</td>\n",
       "      <td>72</td>\n",
       "      <td>8</td>\n",
       "      <td>Obese</td>\n",
       "      <td>132/80</td>\n",
       "      <td>65</td>\n",
       "      <td>12848</td>\n",
       "      <td>Insomnia</td>\n",
       "    </tr>\n",
       "    <tr>\n",
       "      <th>397</th>\n",
       "      <td>398</td>\n",
       "      <td>Female</td>\n",
       "      <td>30</td>\n",
       "      <td>Student</td>\n",
       "      <td>5.3</td>\n",
       "      <td>6.5</td>\n",
       "      <td>58</td>\n",
       "      <td>10</td>\n",
       "      <td>Obese</td>\n",
       "      <td>125/76</td>\n",
       "      <td>66</td>\n",
       "      <td>15255</td>\n",
       "      <td>Insomnia</td>\n",
       "    </tr>\n",
       "    <tr>\n",
       "      <th>398</th>\n",
       "      <td>399</td>\n",
       "      <td>Female</td>\n",
       "      <td>41</td>\n",
       "      <td>Retired</td>\n",
       "      <td>11.0</td>\n",
       "      <td>9.1</td>\n",
       "      <td>73</td>\n",
       "      <td>9</td>\n",
       "      <td>Obese</td>\n",
       "      <td>130/75</td>\n",
       "      <td>75</td>\n",
       "      <td>6567</td>\n",
       "      <td>Sleep Apnea</td>\n",
       "    </tr>\n",
       "    <tr>\n",
       "      <th>399</th>\n",
       "      <td>400</td>\n",
       "      <td>Male</td>\n",
       "      <td>37</td>\n",
       "      <td>Retired</td>\n",
       "      <td>5.8</td>\n",
       "      <td>7.0</td>\n",
       "      <td>41</td>\n",
       "      <td>6</td>\n",
       "      <td>Normal</td>\n",
       "      <td>118/70</td>\n",
       "      <td>51</td>\n",
       "      <td>18079</td>\n",
       "      <td>NaN</td>\n",
       "    </tr>\n",
       "  </tbody>\n",
       "</table>\n",
       "<p>400 rows × 13 columns</p>\n",
       "</div>"
      ]
     },
     "execution_count": 61,
     "metadata": {},
     "output_type": "execute_result"
    }
   ],
   "execution_count": 61
  },
  {
   "metadata": {
    "ExecuteTime": {
     "end_time": "2025-08-18T15:35:38.997320Z",
     "start_time": "2025-08-18T15:35:38.993866Z"
    }
   },
   "cell_type": "code",
   "source": "df.dtypes",
   "id": "674dfa0272cb3126",
   "outputs": [
    {
     "data": {
      "text/plain": [
       "person_id                    int64\n",
       "gender                      object\n",
       "age                          int64\n",
       "occupation                  object\n",
       "sleep_duration             float64\n",
       "sleep_quality              float64\n",
       "physical_activity_level      int64\n",
       "stress_level                 int64\n",
       "bmi_category                object\n",
       "blood_pressure              object\n",
       "heart_rate                   int64\n",
       "daily_steps                  int64\n",
       "sleep_disorder              object\n",
       "dtype: object"
      ]
     },
     "execution_count": 62,
     "metadata": {},
     "output_type": "execute_result"
    }
   ],
   "execution_count": 62
  },
  {
   "metadata": {
    "ExecuteTime": {
     "end_time": "2025-08-18T15:36:14.381012Z",
     "start_time": "2025-08-18T15:36:14.378703Z"
    }
   },
   "cell_type": "code",
   "source": "df.age=df.age.astype('int16')",
   "id": "e1be0a0f77daeb29",
   "outputs": [],
   "execution_count": 63
  },
  {
   "metadata": {
    "ExecuteTime": {
     "end_time": "2025-08-18T15:36:18.302190Z",
     "start_time": "2025-08-18T15:36:18.299782Z"
    }
   },
   "cell_type": "code",
   "source": "df.dtypes",
   "id": "af542c3a2d75f216",
   "outputs": [
    {
     "data": {
      "text/plain": [
       "person_id                    int64\n",
       "gender                      object\n",
       "age                          int16\n",
       "occupation                  object\n",
       "sleep_duration             float64\n",
       "sleep_quality              float64\n",
       "physical_activity_level      int64\n",
       "stress_level                 int64\n",
       "bmi_category                object\n",
       "blood_pressure              object\n",
       "heart_rate                   int64\n",
       "daily_steps                  int64\n",
       "sleep_disorder              object\n",
       "dtype: object"
      ]
     },
     "execution_count": 64,
     "metadata": {},
     "output_type": "execute_result"
    }
   ],
   "execution_count": 64
  },
  {
   "metadata": {
    "ExecuteTime": {
     "end_time": "2025-08-18T15:36:38.569069Z",
     "start_time": "2025-08-18T15:36:38.565777Z"
    }
   },
   "cell_type": "code",
   "source": "df.gender",
   "id": "63328c1b673cbd1a",
   "outputs": [
    {
     "data": {
      "text/plain": [
       "0        Male\n",
       "1      Female\n",
       "2        Male\n",
       "3        Male\n",
       "4        Male\n",
       "        ...  \n",
       "395    Female\n",
       "396    Female\n",
       "397    Female\n",
       "398    Female\n",
       "399      Male\n",
       "Name: gender, Length: 400, dtype: object"
      ]
     },
     "execution_count": 65,
     "metadata": {},
     "output_type": "execute_result"
    }
   ],
   "execution_count": 65
  },
  {
   "metadata": {
    "ExecuteTime": {
     "end_time": "2025-08-18T15:37:59.072111Z",
     "start_time": "2025-08-18T15:37:59.067795Z"
    }
   },
   "cell_type": "code",
   "source": [
    "df.gender=df.gender.astype('category')\n",
    "df.dtypes"
   ],
   "id": "64e3c42362127f1e",
   "outputs": [
    {
     "data": {
      "text/plain": [
       "person_id                     int64\n",
       "gender                     category\n",
       "age                           int16\n",
       "occupation                   object\n",
       "sleep_duration              float64\n",
       "sleep_quality               float64\n",
       "physical_activity_level       int64\n",
       "stress_level                  int64\n",
       "bmi_category                 object\n",
       "blood_pressure               object\n",
       "heart_rate                    int64\n",
       "daily_steps                   int64\n",
       "sleep_disorder               object\n",
       "dtype: object"
      ]
     },
     "execution_count": 66,
     "metadata": {},
     "output_type": "execute_result"
    }
   ],
   "execution_count": 66
  },
  {
   "metadata": {
    "ExecuteTime": {
     "end_time": "2025-08-18T15:38:40.986338Z",
     "start_time": "2025-08-18T15:38:40.981022Z"
    }
   },
   "cell_type": "code",
   "source": "df.gender",
   "id": "81eccf1485a64de2",
   "outputs": [
    {
     "data": {
      "text/plain": [
       "0        Male\n",
       "1      Female\n",
       "2        Male\n",
       "3        Male\n",
       "4        Male\n",
       "        ...  \n",
       "395    Female\n",
       "396    Female\n",
       "397    Female\n",
       "398    Female\n",
       "399      Male\n",
       "Name: gender, Length: 400, dtype: category\n",
       "Categories (2, object): ['Female', 'Male']"
      ]
     },
     "execution_count": 67,
     "metadata": {},
     "output_type": "execute_result"
    }
   ],
   "execution_count": 67
  },
  {
   "metadata": {
    "ExecuteTime": {
     "end_time": "2025-08-18T15:40:55.607173Z",
     "start_time": "2025-08-18T15:40:55.604210Z"
    }
   },
   "cell_type": "code",
   "source": [
    "df['is_male']=df['gender'].map({'Male':True,'Female':False})\n",
    "df.is_male"
   ],
   "id": "e1de8adebd28a344",
   "outputs": [
    {
     "data": {
      "text/plain": [
       "0       True\n",
       "1      False\n",
       "2       True\n",
       "3       True\n",
       "4       True\n",
       "       ...  \n",
       "395    False\n",
       "396    False\n",
       "397    False\n",
       "398    False\n",
       "399     True\n",
       "Name: is_male, Length: 400, dtype: category\n",
       "Categories (2, bool): [False, True]"
      ]
     },
     "execution_count": 69,
     "metadata": {},
     "output_type": "execute_result"
    }
   ],
   "execution_count": 69
  },
  {
   "metadata": {
    "ExecuteTime": {
     "end_time": "2025-08-19T02:12:14.252726Z",
     "start_time": "2025-08-19T02:12:14.246680Z"
    }
   },
   "cell_type": "code",
   "source": [
    "#数据变形\n",
    "import pandas as pd\n",
    "data={\n",
    "    'ID':[1,2],\n",
    "    'name':['Alice','Bob'],\n",
    "    'Math':[90,85],\n",
    "    'English':[88,92],\n",
    "    'Science':[95,89]\n",
    "}\n",
    "df=pd.DataFrame(data)\n",
    "df"
   ],
   "id": "c6e89cf7e4038b6f",
   "outputs": [
    {
     "data": {
      "text/plain": [
       "   ID   name  Math  English  Science\n",
       "0   1  Alice    90       88       95\n",
       "1   2    Bob    85       92       89"
      ],
      "text/html": [
       "<div>\n",
       "<style scoped>\n",
       "    .dataframe tbody tr th:only-of-type {\n",
       "        vertical-align: middle;\n",
       "    }\n",
       "\n",
       "    .dataframe tbody tr th {\n",
       "        vertical-align: top;\n",
       "    }\n",
       "\n",
       "    .dataframe thead th {\n",
       "        text-align: right;\n",
       "    }\n",
       "</style>\n",
       "<table border=\"1\" class=\"dataframe\">\n",
       "  <thead>\n",
       "    <tr style=\"text-align: right;\">\n",
       "      <th></th>\n",
       "      <th>ID</th>\n",
       "      <th>name</th>\n",
       "      <th>Math</th>\n",
       "      <th>English</th>\n",
       "      <th>Science</th>\n",
       "    </tr>\n",
       "  </thead>\n",
       "  <tbody>\n",
       "    <tr>\n",
       "      <th>0</th>\n",
       "      <td>1</td>\n",
       "      <td>Alice</td>\n",
       "      <td>90</td>\n",
       "      <td>88</td>\n",
       "      <td>95</td>\n",
       "    </tr>\n",
       "    <tr>\n",
       "      <th>1</th>\n",
       "      <td>2</td>\n",
       "      <td>Bob</td>\n",
       "      <td>85</td>\n",
       "      <td>92</td>\n",
       "      <td>89</td>\n",
       "    </tr>\n",
       "  </tbody>\n",
       "</table>\n",
       "</div>"
      ]
     },
     "execution_count": 70,
     "metadata": {},
     "output_type": "execute_result"
    }
   ],
   "execution_count": 70
  },
  {
   "metadata": {
    "ExecuteTime": {
     "end_time": "2025-08-19T02:25:18.693358Z",
     "start_time": "2025-08-19T02:25:18.686128Z"
    }
   },
   "cell_type": "code",
   "source": [
    "df2=pd.melt(df,id_vars=['ID','name'],var_name='科目',value_name='分数')#宽表-》长表\n",
    "df2"
   ],
   "id": "c708a8cf7b692af0",
   "outputs": [
    {
     "data": {
      "text/plain": [
       "   ID   name       科目  分数\n",
       "0   1  Alice     Math  90\n",
       "1   2    Bob     Math  85\n",
       "2   1  Alice  English  88\n",
       "3   2    Bob  English  92\n",
       "4   1  Alice  Science  95\n",
       "5   2    Bob  Science  89"
      ],
      "text/html": [
       "<div>\n",
       "<style scoped>\n",
       "    .dataframe tbody tr th:only-of-type {\n",
       "        vertical-align: middle;\n",
       "    }\n",
       "\n",
       "    .dataframe tbody tr th {\n",
       "        vertical-align: top;\n",
       "    }\n",
       "\n",
       "    .dataframe thead th {\n",
       "        text-align: right;\n",
       "    }\n",
       "</style>\n",
       "<table border=\"1\" class=\"dataframe\">\n",
       "  <thead>\n",
       "    <tr style=\"text-align: right;\">\n",
       "      <th></th>\n",
       "      <th>ID</th>\n",
       "      <th>name</th>\n",
       "      <th>科目</th>\n",
       "      <th>分数</th>\n",
       "    </tr>\n",
       "  </thead>\n",
       "  <tbody>\n",
       "    <tr>\n",
       "      <th>0</th>\n",
       "      <td>1</td>\n",
       "      <td>Alice</td>\n",
       "      <td>Math</td>\n",
       "      <td>90</td>\n",
       "    </tr>\n",
       "    <tr>\n",
       "      <th>1</th>\n",
       "      <td>2</td>\n",
       "      <td>Bob</td>\n",
       "      <td>Math</td>\n",
       "      <td>85</td>\n",
       "    </tr>\n",
       "    <tr>\n",
       "      <th>2</th>\n",
       "      <td>1</td>\n",
       "      <td>Alice</td>\n",
       "      <td>English</td>\n",
       "      <td>88</td>\n",
       "    </tr>\n",
       "    <tr>\n",
       "      <th>3</th>\n",
       "      <td>2</td>\n",
       "      <td>Bob</td>\n",
       "      <td>English</td>\n",
       "      <td>92</td>\n",
       "    </tr>\n",
       "    <tr>\n",
       "      <th>4</th>\n",
       "      <td>1</td>\n",
       "      <td>Alice</td>\n",
       "      <td>Science</td>\n",
       "      <td>95</td>\n",
       "    </tr>\n",
       "    <tr>\n",
       "      <th>5</th>\n",
       "      <td>2</td>\n",
       "      <td>Bob</td>\n",
       "      <td>Science</td>\n",
       "      <td>89</td>\n",
       "    </tr>\n",
       "  </tbody>\n",
       "</table>\n",
       "</div>"
      ]
     },
     "execution_count": 79,
     "metadata": {},
     "output_type": "execute_result"
    }
   ],
   "execution_count": 79
  },
  {
   "metadata": {
    "ExecuteTime": {
     "end_time": "2025-08-19T02:25:09.262285Z",
     "start_time": "2025-08-19T02:25:09.251731Z"
    }
   },
   "cell_type": "code",
   "source": "pd.pivot(df2,index=['ID','name'],columns='科目',values='分数')",
   "id": "27f1380f0363c7ae",
   "outputs": [
    {
     "data": {
      "text/plain": [
       "科目        English  Math  Science\n",
       "ID name                         \n",
       "1  Alice       88    90       95\n",
       "2  Bob         92    85       89"
      ],
      "text/html": [
       "<div>\n",
       "<style scoped>\n",
       "    .dataframe tbody tr th:only-of-type {\n",
       "        vertical-align: middle;\n",
       "    }\n",
       "\n",
       "    .dataframe tbody tr th {\n",
       "        vertical-align: top;\n",
       "    }\n",
       "\n",
       "    .dataframe thead th {\n",
       "        text-align: right;\n",
       "    }\n",
       "</style>\n",
       "<table border=\"1\" class=\"dataframe\">\n",
       "  <thead>\n",
       "    <tr style=\"text-align: right;\">\n",
       "      <th></th>\n",
       "      <th>科目</th>\n",
       "      <th>English</th>\n",
       "      <th>Math</th>\n",
       "      <th>Science</th>\n",
       "    </tr>\n",
       "    <tr>\n",
       "      <th>ID</th>\n",
       "      <th>name</th>\n",
       "      <th></th>\n",
       "      <th></th>\n",
       "      <th></th>\n",
       "    </tr>\n",
       "  </thead>\n",
       "  <tbody>\n",
       "    <tr>\n",
       "      <th>1</th>\n",
       "      <th>Alice</th>\n",
       "      <td>88</td>\n",
       "      <td>90</td>\n",
       "      <td>95</td>\n",
       "    </tr>\n",
       "    <tr>\n",
       "      <th>2</th>\n",
       "      <th>Bob</th>\n",
       "      <td>92</td>\n",
       "      <td>85</td>\n",
       "      <td>89</td>\n",
       "    </tr>\n",
       "  </tbody>\n",
       "</table>\n",
       "</div>"
      ]
     },
     "execution_count": 78,
     "metadata": {},
     "output_type": "execute_result"
    }
   ],
   "execution_count": 78
  },
  {
   "metadata": {
    "ExecuteTime": {
     "end_time": "2025-08-19T02:28:15.943768Z",
     "start_time": "2025-08-19T02:28:15.936198Z"
    }
   },
   "cell_type": "code",
   "source": [
    "data={\n",
    "    'ID':[1,2],\n",
    "    'name':['Alice smith','Bob smith'],\n",
    "    'Math':[90,85],\n",
    "    'English':[88,92],\n",
    "    'Science':[95,89]\n",
    "}\n",
    "df=pd.DataFrame(data)\n",
    "\n",
    "df[['first','last']]=df['name'].str.split(' ',expand=True)\n",
    "df"
   ],
   "id": "61543c219dd31e77",
   "outputs": [
    {
     "data": {
      "text/plain": [
       "   ID         name  Math  English  Science  first   last\n",
       "0   1  Alice smith    90       88       95  Alice  smith\n",
       "1   2    Bob smith    85       92       89    Bob  smith"
      ],
      "text/html": [
       "<div>\n",
       "<style scoped>\n",
       "    .dataframe tbody tr th:only-of-type {\n",
       "        vertical-align: middle;\n",
       "    }\n",
       "\n",
       "    .dataframe tbody tr th {\n",
       "        vertical-align: top;\n",
       "    }\n",
       "\n",
       "    .dataframe thead th {\n",
       "        text-align: right;\n",
       "    }\n",
       "</style>\n",
       "<table border=\"1\" class=\"dataframe\">\n",
       "  <thead>\n",
       "    <tr style=\"text-align: right;\">\n",
       "      <th></th>\n",
       "      <th>ID</th>\n",
       "      <th>name</th>\n",
       "      <th>Math</th>\n",
       "      <th>English</th>\n",
       "      <th>Science</th>\n",
       "      <th>first</th>\n",
       "      <th>last</th>\n",
       "    </tr>\n",
       "  </thead>\n",
       "  <tbody>\n",
       "    <tr>\n",
       "      <th>0</th>\n",
       "      <td>1</td>\n",
       "      <td>Alice smith</td>\n",
       "      <td>90</td>\n",
       "      <td>88</td>\n",
       "      <td>95</td>\n",
       "      <td>Alice</td>\n",
       "      <td>smith</td>\n",
       "    </tr>\n",
       "    <tr>\n",
       "      <th>1</th>\n",
       "      <td>2</td>\n",
       "      <td>Bob smith</td>\n",
       "      <td>85</td>\n",
       "      <td>92</td>\n",
       "      <td>89</td>\n",
       "      <td>Bob</td>\n",
       "      <td>smith</td>\n",
       "    </tr>\n",
       "  </tbody>\n",
       "</table>\n",
       "</div>"
      ]
     },
     "execution_count": 82,
     "metadata": {},
     "output_type": "execute_result"
    }
   ],
   "execution_count": 82
  },
  {
   "metadata": {
    "ExecuteTime": {
     "end_time": "2025-08-19T02:35:04.020824Z",
     "start_time": "2025-08-19T02:35:04.016518Z"
    }
   },
   "cell_type": "code",
   "source": [
    "df=pd.read_csv('/Users/zijian/Public/code_p/num_pan_mat/data/sleep.csv')\n",
    "\n",
    "df[['high','low']]=df['blood_pressure'].str.split('/',expand=True)"
   ],
   "id": "f48c2c983380a8eb",
   "outputs": [],
   "execution_count": 84
  },
  {
   "metadata": {
    "ExecuteTime": {
     "end_time": "2025-08-19T02:38:02.310655Z",
     "start_time": "2025-08-19T02:38:02.307945Z"
    }
   },
   "cell_type": "code",
   "source": [
    "df.tail()\n",
    "df['high']=df['high'].astype('int16')\n",
    "df['low']=df['low'].astype('int16')"
   ],
   "id": "f10b4ff831d2c92a",
   "outputs": [],
   "execution_count": 91
  },
  {
   "metadata": {
    "ExecuteTime": {
     "end_time": "2025-08-19T02:38:05.543817Z",
     "start_time": "2025-08-19T02:38:05.539255Z"
    }
   },
   "cell_type": "code",
   "source": "df.dtypes",
   "id": "1fd68a8f6ce4ad79",
   "outputs": [
    {
     "data": {
      "text/plain": [
       "person_id                    int64\n",
       "gender                      object\n",
       "age                          int64\n",
       "occupation                  object\n",
       "sleep_duration             float64\n",
       "sleep_quality              float64\n",
       "physical_activity_level      int64\n",
       "stress_level                 int64\n",
       "bmi_category                object\n",
       "blood_pressure              object\n",
       "heart_rate                   int64\n",
       "daily_steps                  int64\n",
       "sleep_disorder              object\n",
       "high                         int16\n",
       "low                          int16\n",
       "dtype: object"
      ]
     },
     "execution_count": 92,
     "metadata": {},
     "output_type": "execute_result"
    }
   ],
   "execution_count": 92
  },
  {
   "metadata": {
    "ExecuteTime": {
     "end_time": "2025-08-19T03:02:12.847188Z",
     "start_time": "2025-08-19T03:02:12.842617Z"
    }
   },
   "cell_type": "code",
   "source": [
    "df=pd.read_csv('/Users/zijian/Public/code_p/num_pan_mat/data/employees.csv')\n",
    "df1=df[['employee_id','salary']]\n",
    "df1=df1.head(10)"
   ],
   "id": "b724aa70bdfcdf18",
   "outputs": [],
   "execution_count": 101
  },
  {
   "metadata": {
    "ExecuteTime": {
     "end_time": "2025-08-19T03:02:14.836151Z",
     "start_time": "2025-08-19T03:02:14.831989Z"
    }
   },
   "cell_type": "code",
   "source": "pd.cut(df1['salary'],bins=2)# bins=n, 分成n段区间, 起始值，结束值是所有数据的最小值和最大值",
   "id": "a405fb9c1bcf92d6",
   "outputs": [
    {
     "data": {
      "text/plain": [
       "0    (14100.0, 24000.0]\n",
       "1    (14100.0, 24000.0]\n",
       "2    (14100.0, 24000.0]\n",
       "3     (4180.2, 14100.0]\n",
       "4     (4180.2, 14100.0]\n",
       "5     (4180.2, 14100.0]\n",
       "6     (4180.2, 14100.0]\n",
       "7     (4180.2, 14100.0]\n",
       "8     (4180.2, 14100.0]\n",
       "9     (4180.2, 14100.0]\n",
       "Name: salary, dtype: category\n",
       "Categories (2, interval[float64, right]): [(4180.2, 14100.0] < (14100.0, 24000.0]]"
      ]
     },
     "execution_count": 102,
     "metadata": {},
     "output_type": "execute_result"
    }
   ],
   "execution_count": 102
  },
  {
   "metadata": {
    "ExecuteTime": {
     "end_time": "2025-08-19T03:02:18.220715Z",
     "start_time": "2025-08-19T03:02:18.215943Z"
    }
   },
   "cell_type": "code",
   "source": "pd.cut(df1['salary'],bins=2).value_counts()",
   "id": "a1c66e5e5b25ce05",
   "outputs": [
    {
     "data": {
      "text/plain": [
       "salary\n",
       "(4180.2, 14100.0]     7\n",
       "(14100.0, 24000.0]    3\n",
       "Name: count, dtype: int64"
      ]
     },
     "execution_count": 103,
     "metadata": {},
     "output_type": "execute_result"
    }
   ],
   "execution_count": 103
  },
  {
   "metadata": {
    "ExecuteTime": {
     "end_time": "2025-08-19T03:14:17.840090Z",
     "start_time": "2025-08-19T03:14:17.834051Z"
    }
   },
   "cell_type": "code",
   "source": [
    "df1['指标']=pd.cut(df1['salary'],bins=[0,10000,20000,30000],labels=['low','medium','high'])\n",
    "df1"
   ],
   "id": "35058d93f9fc4d8",
   "outputs": [
    {
     "data": {
      "text/plain": [
       "   employee_id   salary      指标\n",
       "0          100  24000.0    high\n",
       "1          101  17000.0  medium\n",
       "2          102  17000.0  medium\n",
       "3          103   9000.0     low\n",
       "4          104   6000.0     low\n",
       "5          105   4800.0     low\n",
       "6          106   4800.0     low\n",
       "7          107   4200.0     low\n",
       "8          108  12000.0  medium\n",
       "9          109   9000.0     low"
      ],
      "text/html": [
       "<div>\n",
       "<style scoped>\n",
       "    .dataframe tbody tr th:only-of-type {\n",
       "        vertical-align: middle;\n",
       "    }\n",
       "\n",
       "    .dataframe tbody tr th {\n",
       "        vertical-align: top;\n",
       "    }\n",
       "\n",
       "    .dataframe thead th {\n",
       "        text-align: right;\n",
       "    }\n",
       "</style>\n",
       "<table border=\"1\" class=\"dataframe\">\n",
       "  <thead>\n",
       "    <tr style=\"text-align: right;\">\n",
       "      <th></th>\n",
       "      <th>employee_id</th>\n",
       "      <th>salary</th>\n",
       "      <th>指标</th>\n",
       "    </tr>\n",
       "  </thead>\n",
       "  <tbody>\n",
       "    <tr>\n",
       "      <th>0</th>\n",
       "      <td>100</td>\n",
       "      <td>24000.0</td>\n",
       "      <td>high</td>\n",
       "    </tr>\n",
       "    <tr>\n",
       "      <th>1</th>\n",
       "      <td>101</td>\n",
       "      <td>17000.0</td>\n",
       "      <td>medium</td>\n",
       "    </tr>\n",
       "    <tr>\n",
       "      <th>2</th>\n",
       "      <td>102</td>\n",
       "      <td>17000.0</td>\n",
       "      <td>medium</td>\n",
       "    </tr>\n",
       "    <tr>\n",
       "      <th>3</th>\n",
       "      <td>103</td>\n",
       "      <td>9000.0</td>\n",
       "      <td>low</td>\n",
       "    </tr>\n",
       "    <tr>\n",
       "      <th>4</th>\n",
       "      <td>104</td>\n",
       "      <td>6000.0</td>\n",
       "      <td>low</td>\n",
       "    </tr>\n",
       "    <tr>\n",
       "      <th>5</th>\n",
       "      <td>105</td>\n",
       "      <td>4800.0</td>\n",
       "      <td>low</td>\n",
       "    </tr>\n",
       "    <tr>\n",
       "      <th>6</th>\n",
       "      <td>106</td>\n",
       "      <td>4800.0</td>\n",
       "      <td>low</td>\n",
       "    </tr>\n",
       "    <tr>\n",
       "      <th>7</th>\n",
       "      <td>107</td>\n",
       "      <td>4200.0</td>\n",
       "      <td>low</td>\n",
       "    </tr>\n",
       "    <tr>\n",
       "      <th>8</th>\n",
       "      <td>108</td>\n",
       "      <td>12000.0</td>\n",
       "      <td>medium</td>\n",
       "    </tr>\n",
       "    <tr>\n",
       "      <th>9</th>\n",
       "      <td>109</td>\n",
       "      <td>9000.0</td>\n",
       "      <td>low</td>\n",
       "    </tr>\n",
       "  </tbody>\n",
       "</table>\n",
       "</div>"
      ]
     },
     "execution_count": 109,
     "metadata": {},
     "output_type": "execute_result"
    }
   ],
   "execution_count": 109
  },
  {
   "metadata": {
    "ExecuteTime": {
     "end_time": "2025-08-19T03:12:30.018727Z",
     "start_time": "2025-08-19T03:12:30.014598Z"
    }
   },
   "cell_type": "code",
   "source": "pd.cut(df1['salary'],bins=[0,10000,20000,30000]).value_counts()",
   "id": "e4f49f150f42f92f",
   "outputs": [
    {
     "data": {
      "text/plain": [
       "salary\n",
       "(0, 10000]        6\n",
       "(10000, 20000]    3\n",
       "(20000, 30000]    1\n",
       "Name: count, dtype: int64"
      ]
     },
     "execution_count": 105,
     "metadata": {},
     "output_type": "execute_result"
    }
   ],
   "execution_count": 105
  },
  {
   "metadata": {
    "ExecuteTime": {
     "end_time": "2025-08-19T03:15:02.621046Z",
     "start_time": "2025-08-19T03:15:02.616586Z"
    }
   },
   "cell_type": "code",
   "source": "pd.qcut(df1['salary'],q=3)#人数相等划分区间",
   "id": "35fa95a29faa3e9b",
   "outputs": [
    {
     "data": {
      "text/plain": [
       "0    (12000.0, 24000.0]\n",
       "1    (12000.0, 24000.0]\n",
       "2    (12000.0, 24000.0]\n",
       "3     (6000.0, 12000.0]\n",
       "4     (6000.0, 12000.0]\n",
       "5    (4199.999, 6000.0]\n",
       "6    (4199.999, 6000.0]\n",
       "7    (4199.999, 6000.0]\n",
       "8    (12000.0, 24000.0]\n",
       "9     (6000.0, 12000.0]\n",
       "Name: salary, dtype: category\n",
       "Categories (3, interval[float64, right]): [(4199.999, 6000.0] < (6000.0, 12000.0] < (12000.0, 24000.0]]"
      ]
     },
     "execution_count": 110,
     "metadata": {},
     "output_type": "execute_result"
    }
   ],
   "execution_count": 110
  },
  {
   "metadata": {
    "ExecuteTime": {
     "end_time": "2025-08-19T03:17:23.579796Z",
     "start_time": "2025-08-19T03:17:23.574953Z"
    }
   },
   "cell_type": "code",
   "source": [
    "#睡眠质量\n",
    "df=pd.read_csv('/Users/zijian/Public/code_p/num_pan_mat/data/sleep.csv')\n",
    "df1=df.head(10)[['person_id','sleep_quality']]\n",
    "df1"
   ],
   "id": "514808da9de76861",
   "outputs": [
    {
     "data": {
      "text/plain": [
       "   person_id  sleep_quality\n",
       "0          1            7.0\n",
       "1          2            4.9\n",
       "2          3            6.0\n",
       "3          4           10.0\n",
       "4          5            9.5\n",
       "5          6            6.9\n",
       "6          7            6.1\n",
       "7          8            6.2\n",
       "8          9            7.2\n",
       "9         10            4.0"
      ],
      "text/html": [
       "<div>\n",
       "<style scoped>\n",
       "    .dataframe tbody tr th:only-of-type {\n",
       "        vertical-align: middle;\n",
       "    }\n",
       "\n",
       "    .dataframe tbody tr th {\n",
       "        vertical-align: top;\n",
       "    }\n",
       "\n",
       "    .dataframe thead th {\n",
       "        text-align: right;\n",
       "    }\n",
       "</style>\n",
       "<table border=\"1\" class=\"dataframe\">\n",
       "  <thead>\n",
       "    <tr style=\"text-align: right;\">\n",
       "      <th></th>\n",
       "      <th>person_id</th>\n",
       "      <th>sleep_quality</th>\n",
       "    </tr>\n",
       "  </thead>\n",
       "  <tbody>\n",
       "    <tr>\n",
       "      <th>0</th>\n",
       "      <td>1</td>\n",
       "      <td>7.0</td>\n",
       "    </tr>\n",
       "    <tr>\n",
       "      <th>1</th>\n",
       "      <td>2</td>\n",
       "      <td>4.9</td>\n",
       "    </tr>\n",
       "    <tr>\n",
       "      <th>2</th>\n",
       "      <td>3</td>\n",
       "      <td>6.0</td>\n",
       "    </tr>\n",
       "    <tr>\n",
       "      <th>3</th>\n",
       "      <td>4</td>\n",
       "      <td>10.0</td>\n",
       "    </tr>\n",
       "    <tr>\n",
       "      <th>4</th>\n",
       "      <td>5</td>\n",
       "      <td>9.5</td>\n",
       "    </tr>\n",
       "    <tr>\n",
       "      <th>5</th>\n",
       "      <td>6</td>\n",
       "      <td>6.9</td>\n",
       "    </tr>\n",
       "    <tr>\n",
       "      <th>6</th>\n",
       "      <td>7</td>\n",
       "      <td>6.1</td>\n",
       "    </tr>\n",
       "    <tr>\n",
       "      <th>7</th>\n",
       "      <td>8</td>\n",
       "      <td>6.2</td>\n",
       "    </tr>\n",
       "    <tr>\n",
       "      <th>8</th>\n",
       "      <td>9</td>\n",
       "      <td>7.2</td>\n",
       "    </tr>\n",
       "    <tr>\n",
       "      <th>9</th>\n",
       "      <td>10</td>\n",
       "      <td>4.0</td>\n",
       "    </tr>\n",
       "  </tbody>\n",
       "</table>\n",
       "</div>"
      ]
     },
     "execution_count": 112,
     "metadata": {},
     "output_type": "execute_result"
    }
   ],
   "execution_count": 112
  },
  {
   "metadata": {
    "ExecuteTime": {
     "end_time": "2025-08-19T03:19:14.377691Z",
     "start_time": "2025-08-19T03:19:14.374243Z"
    }
   },
   "cell_type": "code",
   "source": [
    "df['睡眠质量']=pd.cut(df['sleep_quality'],bins=3,labels=['low','medium','high'])\n",
    "df['睡眠质量'].value_counts()"
   ],
   "id": "20e2bab09e831db9",
   "outputs": [
    {
     "data": {
      "text/plain": [
       "睡眠质量\n",
       "medium    206\n",
       "high      129\n",
       "low        65\n",
       "Name: count, dtype: int64"
      ]
     },
     "execution_count": 115,
     "metadata": {},
     "output_type": "execute_result"
    }
   ],
   "execution_count": 115
  },
  {
   "metadata": {
    "ExecuteTime": {
     "end_time": "2025-08-19T03:34:21.051915Z",
     "start_time": "2025-08-19T03:34:21.047199Z"
    }
   },
   "cell_type": "code",
   "source": [
    "#df.rename set_index reset_index\n",
    "\n",
    "df=pd.DataFrame({\n",
    "    'name':['Alice','Bob'],\n",
    "    'age':[26,25],\n",
    "    'gender':['female','male'],\n",
    "})\n",
    "\n",
    "df"
   ],
   "id": "555793f3bcad0834",
   "outputs": [
    {
     "data": {
      "text/plain": [
       "    name  age  gender\n",
       "0  Alice   26  female\n",
       "1    Bob   25    male"
      ],
      "text/html": [
       "<div>\n",
       "<style scoped>\n",
       "    .dataframe tbody tr th:only-of-type {\n",
       "        vertical-align: middle;\n",
       "    }\n",
       "\n",
       "    .dataframe tbody tr th {\n",
       "        vertical-align: top;\n",
       "    }\n",
       "\n",
       "    .dataframe thead th {\n",
       "        text-align: right;\n",
       "    }\n",
       "</style>\n",
       "<table border=\"1\" class=\"dataframe\">\n",
       "  <thead>\n",
       "    <tr style=\"text-align: right;\">\n",
       "      <th></th>\n",
       "      <th>name</th>\n",
       "      <th>age</th>\n",
       "      <th>gender</th>\n",
       "    </tr>\n",
       "  </thead>\n",
       "  <tbody>\n",
       "    <tr>\n",
       "      <th>0</th>\n",
       "      <td>Alice</td>\n",
       "      <td>26</td>\n",
       "      <td>female</td>\n",
       "    </tr>\n",
       "    <tr>\n",
       "      <th>1</th>\n",
       "      <td>Bob</td>\n",
       "      <td>25</td>\n",
       "      <td>male</td>\n",
       "    </tr>\n",
       "  </tbody>\n",
       "</table>\n",
       "</div>"
      ]
     },
     "execution_count": 117,
     "metadata": {},
     "output_type": "execute_result"
    }
   ],
   "execution_count": 117
  },
  {
   "metadata": {
    "ExecuteTime": {
     "end_time": "2025-08-19T03:34:36.228776Z",
     "start_time": "2025-08-19T03:34:36.226932Z"
    }
   },
   "cell_type": "code",
   "source": "df.set_index('name',inplace=True)",
   "id": "6de4518935be6f2e",
   "outputs": [],
   "execution_count": 118
  },
  {
   "metadata": {
    "ExecuteTime": {
     "end_time": "2025-08-19T03:34:38.658488Z",
     "start_time": "2025-08-19T03:34:38.655002Z"
    }
   },
   "cell_type": "code",
   "source": "df",
   "id": "870abba647c4080f",
   "outputs": [
    {
     "data": {
      "text/plain": [
       "       age  gender\n",
       "name              \n",
       "Alice   26  female\n",
       "Bob     25    male"
      ],
      "text/html": [
       "<div>\n",
       "<style scoped>\n",
       "    .dataframe tbody tr th:only-of-type {\n",
       "        vertical-align: middle;\n",
       "    }\n",
       "\n",
       "    .dataframe tbody tr th {\n",
       "        vertical-align: top;\n",
       "    }\n",
       "\n",
       "    .dataframe thead th {\n",
       "        text-align: right;\n",
       "    }\n",
       "</style>\n",
       "<table border=\"1\" class=\"dataframe\">\n",
       "  <thead>\n",
       "    <tr style=\"text-align: right;\">\n",
       "      <th></th>\n",
       "      <th>age</th>\n",
       "      <th>gender</th>\n",
       "    </tr>\n",
       "    <tr>\n",
       "      <th>name</th>\n",
       "      <th></th>\n",
       "      <th></th>\n",
       "    </tr>\n",
       "  </thead>\n",
       "  <tbody>\n",
       "    <tr>\n",
       "      <th>Alice</th>\n",
       "      <td>26</td>\n",
       "      <td>female</td>\n",
       "    </tr>\n",
       "    <tr>\n",
       "      <th>Bob</th>\n",
       "      <td>25</td>\n",
       "      <td>male</td>\n",
       "    </tr>\n",
       "  </tbody>\n",
       "</table>\n",
       "</div>"
      ]
     },
     "execution_count": 119,
     "metadata": {},
     "output_type": "execute_result"
    }
   ],
   "execution_count": 119
  },
  {
   "metadata": {
    "ExecuteTime": {
     "end_time": "2025-08-19T03:34:53.574232Z",
     "start_time": "2025-08-19T03:34:53.570919Z"
    }
   },
   "cell_type": "code",
   "source": [
    "df.reset_index(inplace=True)\n",
    "df"
   ],
   "id": "e799c4b7c88b07e9",
   "outputs": [
    {
     "data": {
      "text/plain": [
       "    name  age  gender\n",
       "0  Alice   26  female\n",
       "1    Bob   25    male"
      ],
      "text/html": [
       "<div>\n",
       "<style scoped>\n",
       "    .dataframe tbody tr th:only-of-type {\n",
       "        vertical-align: middle;\n",
       "    }\n",
       "\n",
       "    .dataframe tbody tr th {\n",
       "        vertical-align: top;\n",
       "    }\n",
       "\n",
       "    .dataframe thead th {\n",
       "        text-align: right;\n",
       "    }\n",
       "</style>\n",
       "<table border=\"1\" class=\"dataframe\">\n",
       "  <thead>\n",
       "    <tr style=\"text-align: right;\">\n",
       "      <th></th>\n",
       "      <th>name</th>\n",
       "      <th>age</th>\n",
       "      <th>gender</th>\n",
       "    </tr>\n",
       "  </thead>\n",
       "  <tbody>\n",
       "    <tr>\n",
       "      <th>0</th>\n",
       "      <td>Alice</td>\n",
       "      <td>26</td>\n",
       "      <td>female</td>\n",
       "    </tr>\n",
       "    <tr>\n",
       "      <th>1</th>\n",
       "      <td>Bob</td>\n",
       "      <td>25</td>\n",
       "      <td>male</td>\n",
       "    </tr>\n",
       "  </tbody>\n",
       "</table>\n",
       "</div>"
      ]
     },
     "execution_count": 120,
     "metadata": {},
     "output_type": "execute_result"
    }
   ],
   "execution_count": 120
  },
  {
   "metadata": {
    "ExecuteTime": {
     "end_time": "2025-08-19T03:35:37.249254Z",
     "start_time": "2025-08-19T03:35:37.245261Z"
    }
   },
   "cell_type": "code",
   "source": "df.rename(columns={'age':'年龄'},index={0:4})",
   "id": "b4989ecbf6932e95",
   "outputs": [
    {
     "data": {
      "text/plain": [
       "    name  年龄  gender\n",
       "4  Alice  26  female\n",
       "1    Bob  25    male"
      ],
      "text/html": [
       "<div>\n",
       "<style scoped>\n",
       "    .dataframe tbody tr th:only-of-type {\n",
       "        vertical-align: middle;\n",
       "    }\n",
       "\n",
       "    .dataframe tbody tr th {\n",
       "        vertical-align: top;\n",
       "    }\n",
       "\n",
       "    .dataframe thead th {\n",
       "        text-align: right;\n",
       "    }\n",
       "</style>\n",
       "<table border=\"1\" class=\"dataframe\">\n",
       "  <thead>\n",
       "    <tr style=\"text-align: right;\">\n",
       "      <th></th>\n",
       "      <th>name</th>\n",
       "      <th>年龄</th>\n",
       "      <th>gender</th>\n",
       "    </tr>\n",
       "  </thead>\n",
       "  <tbody>\n",
       "    <tr>\n",
       "      <th>4</th>\n",
       "      <td>Alice</td>\n",
       "      <td>26</td>\n",
       "      <td>female</td>\n",
       "    </tr>\n",
       "    <tr>\n",
       "      <th>1</th>\n",
       "      <td>Bob</td>\n",
       "      <td>25</td>\n",
       "      <td>male</td>\n",
       "    </tr>\n",
       "  </tbody>\n",
       "</table>\n",
       "</div>"
      ]
     },
     "execution_count": 122,
     "metadata": {},
     "output_type": "execute_result"
    }
   ],
   "execution_count": 122
  },
  {
   "metadata": {
    "ExecuteTime": {
     "end_time": "2025-08-19T03:36:01.444575Z",
     "start_time": "2025-08-19T03:36:01.443050Z"
    }
   },
   "cell_type": "code",
   "source": "df.index=[11,21]#同理df.columns=[....]",
   "id": "e3deec3e885eb368",
   "outputs": [],
   "execution_count": 124
  },
  {
   "metadata": {
    "ExecuteTime": {
     "end_time": "2025-08-19T03:36:03.952071Z",
     "start_time": "2025-08-19T03:36:03.948026Z"
    }
   },
   "cell_type": "code",
   "source": "df",
   "id": "c9ac2e6c47cc7e72",
   "outputs": [
    {
     "data": {
      "text/plain": [
       "     name  age  gender\n",
       "11  Alice   26  female\n",
       "21    Bob   25    male"
      ],
      "text/html": [
       "<div>\n",
       "<style scoped>\n",
       "    .dataframe tbody tr th:only-of-type {\n",
       "        vertical-align: middle;\n",
       "    }\n",
       "\n",
       "    .dataframe tbody tr th {\n",
       "        vertical-align: top;\n",
       "    }\n",
       "\n",
       "    .dataframe thead th {\n",
       "        text-align: right;\n",
       "    }\n",
       "</style>\n",
       "<table border=\"1\" class=\"dataframe\">\n",
       "  <thead>\n",
       "    <tr style=\"text-align: right;\">\n",
       "      <th></th>\n",
       "      <th>name</th>\n",
       "      <th>age</th>\n",
       "      <th>gender</th>\n",
       "    </tr>\n",
       "  </thead>\n",
       "  <tbody>\n",
       "    <tr>\n",
       "      <th>11</th>\n",
       "      <td>Alice</td>\n",
       "      <td>26</td>\n",
       "      <td>female</td>\n",
       "    </tr>\n",
       "    <tr>\n",
       "      <th>21</th>\n",
       "      <td>Bob</td>\n",
       "      <td>25</td>\n",
       "      <td>male</td>\n",
       "    </tr>\n",
       "  </tbody>\n",
       "</table>\n",
       "</div>"
      ]
     },
     "execution_count": 125,
     "metadata": {},
     "output_type": "execute_result"
    }
   ],
   "execution_count": 125
  },
  {
   "metadata": {
    "ExecuteTime": {
     "end_time": "2025-08-19T03:39:18.829679Z",
     "start_time": "2025-08-19T03:39:18.820958Z"
    }
   },
   "cell_type": "code",
   "source": [
    "#分组聚合 groupby\n",
    "df=pd.read_csv('/Users/zijian/Public/code_p/num_pan_mat/data/employees.csv')\n",
    "df\n"
   ],
   "id": "d6d9a7f1a85680d8",
   "outputs": [
    {
     "data": {
      "text/plain": [
       "     employee_id first_name last_name     email  phone_number      job_id  \\\n",
       "0            100     Steven      King     SKING  515.123.4567     AD_PRES   \n",
       "1            101      N_ann   Kochhar  NKOCHHAR  515.123.4568       AD_VP   \n",
       "2            102        Lex   De Haan   LDEHAAN  515.123.4569       AD_VP   \n",
       "3            103  Alexander    Hunold   AHUNOLD  590.423.4567     IT_PROG   \n",
       "4            104      Bruce     Ernst    BERNST  590.423.4568     IT_PROG   \n",
       "..           ...        ...       ...       ...           ...         ...   \n",
       "102          202        Pat       Fay      PFAY  603.123.6666      MK_REP   \n",
       "103          203      Susan    Mavris   SMAVRIS  515.123.7777      HR_REP   \n",
       "104          204    Hermann      Baer     HBAER  515.123.8888      PR_REP   \n",
       "105          205    Shelley   Higgins  SHIGGINS  515.123.8080      AC_MGR   \n",
       "106          206    William     Gietz    WGIETZ  515.123.8181  AC_ACCOUNT   \n",
       "\n",
       "      salary  commission_pct  manager_id  department_id  \n",
       "0    24000.0             NaN         NaN           90.0  \n",
       "1    17000.0             NaN       100.0           90.0  \n",
       "2    17000.0             NaN       100.0           90.0  \n",
       "3     9000.0             NaN       102.0           60.0  \n",
       "4     6000.0             NaN       103.0           60.0  \n",
       "..       ...             ...         ...            ...  \n",
       "102   6000.0             NaN       201.0           20.0  \n",
       "103   6500.0             NaN       101.0           40.0  \n",
       "104  10000.0             NaN       101.0           70.0  \n",
       "105  12000.0             NaN       101.0          110.0  \n",
       "106   8300.0             NaN       205.0          110.0  \n",
       "\n",
       "[107 rows x 10 columns]"
      ],
      "text/html": [
       "<div>\n",
       "<style scoped>\n",
       "    .dataframe tbody tr th:only-of-type {\n",
       "        vertical-align: middle;\n",
       "    }\n",
       "\n",
       "    .dataframe tbody tr th {\n",
       "        vertical-align: top;\n",
       "    }\n",
       "\n",
       "    .dataframe thead th {\n",
       "        text-align: right;\n",
       "    }\n",
       "</style>\n",
       "<table border=\"1\" class=\"dataframe\">\n",
       "  <thead>\n",
       "    <tr style=\"text-align: right;\">\n",
       "      <th></th>\n",
       "      <th>employee_id</th>\n",
       "      <th>first_name</th>\n",
       "      <th>last_name</th>\n",
       "      <th>email</th>\n",
       "      <th>phone_number</th>\n",
       "      <th>job_id</th>\n",
       "      <th>salary</th>\n",
       "      <th>commission_pct</th>\n",
       "      <th>manager_id</th>\n",
       "      <th>department_id</th>\n",
       "    </tr>\n",
       "  </thead>\n",
       "  <tbody>\n",
       "    <tr>\n",
       "      <th>0</th>\n",
       "      <td>100</td>\n",
       "      <td>Steven</td>\n",
       "      <td>King</td>\n",
       "      <td>SKING</td>\n",
       "      <td>515.123.4567</td>\n",
       "      <td>AD_PRES</td>\n",
       "      <td>24000.0</td>\n",
       "      <td>NaN</td>\n",
       "      <td>NaN</td>\n",
       "      <td>90.0</td>\n",
       "    </tr>\n",
       "    <tr>\n",
       "      <th>1</th>\n",
       "      <td>101</td>\n",
       "      <td>N_ann</td>\n",
       "      <td>Kochhar</td>\n",
       "      <td>NKOCHHAR</td>\n",
       "      <td>515.123.4568</td>\n",
       "      <td>AD_VP</td>\n",
       "      <td>17000.0</td>\n",
       "      <td>NaN</td>\n",
       "      <td>100.0</td>\n",
       "      <td>90.0</td>\n",
       "    </tr>\n",
       "    <tr>\n",
       "      <th>2</th>\n",
       "      <td>102</td>\n",
       "      <td>Lex</td>\n",
       "      <td>De Haan</td>\n",
       "      <td>LDEHAAN</td>\n",
       "      <td>515.123.4569</td>\n",
       "      <td>AD_VP</td>\n",
       "      <td>17000.0</td>\n",
       "      <td>NaN</td>\n",
       "      <td>100.0</td>\n",
       "      <td>90.0</td>\n",
       "    </tr>\n",
       "    <tr>\n",
       "      <th>3</th>\n",
       "      <td>103</td>\n",
       "      <td>Alexander</td>\n",
       "      <td>Hunold</td>\n",
       "      <td>AHUNOLD</td>\n",
       "      <td>590.423.4567</td>\n",
       "      <td>IT_PROG</td>\n",
       "      <td>9000.0</td>\n",
       "      <td>NaN</td>\n",
       "      <td>102.0</td>\n",
       "      <td>60.0</td>\n",
       "    </tr>\n",
       "    <tr>\n",
       "      <th>4</th>\n",
       "      <td>104</td>\n",
       "      <td>Bruce</td>\n",
       "      <td>Ernst</td>\n",
       "      <td>BERNST</td>\n",
       "      <td>590.423.4568</td>\n",
       "      <td>IT_PROG</td>\n",
       "      <td>6000.0</td>\n",
       "      <td>NaN</td>\n",
       "      <td>103.0</td>\n",
       "      <td>60.0</td>\n",
       "    </tr>\n",
       "    <tr>\n",
       "      <th>...</th>\n",
       "      <td>...</td>\n",
       "      <td>...</td>\n",
       "      <td>...</td>\n",
       "      <td>...</td>\n",
       "      <td>...</td>\n",
       "      <td>...</td>\n",
       "      <td>...</td>\n",
       "      <td>...</td>\n",
       "      <td>...</td>\n",
       "      <td>...</td>\n",
       "    </tr>\n",
       "    <tr>\n",
       "      <th>102</th>\n",
       "      <td>202</td>\n",
       "      <td>Pat</td>\n",
       "      <td>Fay</td>\n",
       "      <td>PFAY</td>\n",
       "      <td>603.123.6666</td>\n",
       "      <td>MK_REP</td>\n",
       "      <td>6000.0</td>\n",
       "      <td>NaN</td>\n",
       "      <td>201.0</td>\n",
       "      <td>20.0</td>\n",
       "    </tr>\n",
       "    <tr>\n",
       "      <th>103</th>\n",
       "      <td>203</td>\n",
       "      <td>Susan</td>\n",
       "      <td>Mavris</td>\n",
       "      <td>SMAVRIS</td>\n",
       "      <td>515.123.7777</td>\n",
       "      <td>HR_REP</td>\n",
       "      <td>6500.0</td>\n",
       "      <td>NaN</td>\n",
       "      <td>101.0</td>\n",
       "      <td>40.0</td>\n",
       "    </tr>\n",
       "    <tr>\n",
       "      <th>104</th>\n",
       "      <td>204</td>\n",
       "      <td>Hermann</td>\n",
       "      <td>Baer</td>\n",
       "      <td>HBAER</td>\n",
       "      <td>515.123.8888</td>\n",
       "      <td>PR_REP</td>\n",
       "      <td>10000.0</td>\n",
       "      <td>NaN</td>\n",
       "      <td>101.0</td>\n",
       "      <td>70.0</td>\n",
       "    </tr>\n",
       "    <tr>\n",
       "      <th>105</th>\n",
       "      <td>205</td>\n",
       "      <td>Shelley</td>\n",
       "      <td>Higgins</td>\n",
       "      <td>SHIGGINS</td>\n",
       "      <td>515.123.8080</td>\n",
       "      <td>AC_MGR</td>\n",
       "      <td>12000.0</td>\n",
       "      <td>NaN</td>\n",
       "      <td>101.0</td>\n",
       "      <td>110.0</td>\n",
       "    </tr>\n",
       "    <tr>\n",
       "      <th>106</th>\n",
       "      <td>206</td>\n",
       "      <td>William</td>\n",
       "      <td>Gietz</td>\n",
       "      <td>WGIETZ</td>\n",
       "      <td>515.123.8181</td>\n",
       "      <td>AC_ACCOUNT</td>\n",
       "      <td>8300.0</td>\n",
       "      <td>NaN</td>\n",
       "      <td>205.0</td>\n",
       "      <td>110.0</td>\n",
       "    </tr>\n",
       "  </tbody>\n",
       "</table>\n",
       "<p>107 rows × 10 columns</p>\n",
       "</div>"
      ]
     },
     "execution_count": 126,
     "metadata": {},
     "output_type": "execute_result"
    }
   ],
   "execution_count": 126
  },
  {
   "metadata": {
    "ExecuteTime": {
     "end_time": "2025-08-19T03:41:48.271697Z",
     "start_time": "2025-08-19T03:41:48.268565Z"
    }
   },
   "cell_type": "code",
   "source": [
    "df=df.dropna(subset=['department_id'])\n",
    "df['department_id']=df['department_id'].astype('int16')"
   ],
   "id": "aedbcf2896857d11",
   "outputs": [
    {
     "name": "stderr",
     "output_type": "stream",
     "text": [
      "/var/folders/8v/2v0n4gpd503fy6q0_lyh18gh0000gn/T/ipykernel_95867/2261643221.py:2: SettingWithCopyWarning: \n",
      "A value is trying to be set on a copy of a slice from a DataFrame.\n",
      "Try using .loc[row_indexer,col_indexer] = value instead\n",
      "\n",
      "See the caveats in the documentation: https://pandas.pydata.org/pandas-docs/stable/user_guide/indexing.html#returning-a-view-versus-a-copy\n",
      "  df['department_id']=df['department_id'].astype('int16')\n"
     ]
    }
   ],
   "execution_count": 127
  },
  {
   "metadata": {
    "ExecuteTime": {
     "end_time": "2025-08-19T03:43:11.474272Z",
     "start_time": "2025-08-19T03:43:11.471184Z"
    }
   },
   "cell_type": "code",
   "source": "df.dtypes",
   "id": "9575b9512f88ad36",
   "outputs": [
    {
     "data": {
      "text/plain": [
       "employee_id         int64\n",
       "first_name         object\n",
       "last_name          object\n",
       "email              object\n",
       "phone_number       object\n",
       "job_id             object\n",
       "salary            float64\n",
       "commission_pct    float64\n",
       "manager_id        float64\n",
       "department_id       int16\n",
       "dtype: object"
      ]
     },
     "execution_count": 128,
     "metadata": {},
     "output_type": "execute_result"
    }
   ],
   "execution_count": 128
  },
  {
   "metadata": {
    "ExecuteTime": {
     "end_time": "2025-08-19T03:44:52.716144Z",
     "start_time": "2025-08-19T03:44:52.710799Z"
    }
   },
   "cell_type": "code",
   "source": [
    "#计算不同部门薪资\n",
    "df.groupby('department_id').groups#查看分组\n",
    "df.groupby('department_id').get_group(20)#查看具体值"
   ],
   "id": "ea8a7c7cbbd86a3c",
   "outputs": [
    {
     "data": {
      "text/plain": [
       "     employee_id first_name  last_name     email  phone_number  job_id  \\\n",
       "101          201    Michael  Hartstein  MHARTSTE  515.123.5555  MK_MAN   \n",
       "102          202        Pat        Fay      PFAY  603.123.6666  MK_REP   \n",
       "\n",
       "      salary  commission_pct  manager_id  department_id  \n",
       "101  13000.0             NaN       100.0             20  \n",
       "102   6000.0             NaN       201.0             20  "
      ],
      "text/html": [
       "<div>\n",
       "<style scoped>\n",
       "    .dataframe tbody tr th:only-of-type {\n",
       "        vertical-align: middle;\n",
       "    }\n",
       "\n",
       "    .dataframe tbody tr th {\n",
       "        vertical-align: top;\n",
       "    }\n",
       "\n",
       "    .dataframe thead th {\n",
       "        text-align: right;\n",
       "    }\n",
       "</style>\n",
       "<table border=\"1\" class=\"dataframe\">\n",
       "  <thead>\n",
       "    <tr style=\"text-align: right;\">\n",
       "      <th></th>\n",
       "      <th>employee_id</th>\n",
       "      <th>first_name</th>\n",
       "      <th>last_name</th>\n",
       "      <th>email</th>\n",
       "      <th>phone_number</th>\n",
       "      <th>job_id</th>\n",
       "      <th>salary</th>\n",
       "      <th>commission_pct</th>\n",
       "      <th>manager_id</th>\n",
       "      <th>department_id</th>\n",
       "    </tr>\n",
       "  </thead>\n",
       "  <tbody>\n",
       "    <tr>\n",
       "      <th>101</th>\n",
       "      <td>201</td>\n",
       "      <td>Michael</td>\n",
       "      <td>Hartstein</td>\n",
       "      <td>MHARTSTE</td>\n",
       "      <td>515.123.5555</td>\n",
       "      <td>MK_MAN</td>\n",
       "      <td>13000.0</td>\n",
       "      <td>NaN</td>\n",
       "      <td>100.0</td>\n",
       "      <td>20</td>\n",
       "    </tr>\n",
       "    <tr>\n",
       "      <th>102</th>\n",
       "      <td>202</td>\n",
       "      <td>Pat</td>\n",
       "      <td>Fay</td>\n",
       "      <td>PFAY</td>\n",
       "      <td>603.123.6666</td>\n",
       "      <td>MK_REP</td>\n",
       "      <td>6000.0</td>\n",
       "      <td>NaN</td>\n",
       "      <td>201.0</td>\n",
       "      <td>20</td>\n",
       "    </tr>\n",
       "  </tbody>\n",
       "</table>\n",
       "</div>"
      ]
     },
     "execution_count": 130,
     "metadata": {},
     "output_type": "execute_result"
    }
   ],
   "execution_count": 130
  },
  {
   "metadata": {
    "ExecuteTime": {
     "end_time": "2025-08-19T03:48:07.370362Z",
     "start_time": "2025-08-19T03:48:07.367489Z"
    }
   },
   "cell_type": "code",
   "source": [
    "df2=df.groupby('department_id')['salary'].mean()\n",
    "df2.sort_values(ascending=False)"
   ],
   "id": "989c689955be07f4",
   "outputs": [
    {
     "data": {
      "text/plain": [
       "department_id\n",
       "90     19333.333333\n",
       "110    10150.000000\n",
       "70     10000.000000\n",
       "20      9500.000000\n",
       "80      8955.882353\n",
       "100     8600.000000\n",
       "40      6500.000000\n",
       "60      5760.000000\n",
       "10      4400.000000\n",
       "30      4150.000000\n",
       "50      3475.555556\n",
       "Name: salary, dtype: float64"
      ]
     },
     "execution_count": 133,
     "metadata": {},
     "output_type": "execute_result"
    }
   ],
   "execution_count": 133
  },
  {
   "metadata": {
    "ExecuteTime": {
     "end_time": "2025-08-19T03:49:32.524253Z",
     "start_time": "2025-08-19T03:49:32.520670Z"
    }
   },
   "cell_type": "code",
   "source": [
    "# 多条件分组\n",
    "df.groupby(['department_id','job_id'])['salary'].mean()\n"
   ],
   "id": "be90d5ff5918eafe",
   "outputs": [
    {
     "data": {
      "text/plain": [
       "department_id  job_id    \n",
       "10             AD_ASST        4400.000000\n",
       "20             MK_MAN        13000.000000\n",
       "               MK_REP         6000.000000\n",
       "30             PU_CLERK       2780.000000\n",
       "               PU_MAN        11000.000000\n",
       "40             HR_REP         6500.000000\n",
       "50             SH_CLERK       3215.000000\n",
       "               ST_CLERK       2785.000000\n",
       "               ST_MAN         7280.000000\n",
       "60             IT_PROG        5760.000000\n",
       "70             PR_REP        10000.000000\n",
       "80             SA_MAN        12200.000000\n",
       "               SA_REP         8396.551724\n",
       "90             AD_PRES       24000.000000\n",
       "               AD_VP         17000.000000\n",
       "100            FI_ACCOUNT     7920.000000\n",
       "               FI_MGR        12000.000000\n",
       "110            AC_ACCOUNT     8300.000000\n",
       "               AC_MGR        12000.000000\n",
       "Name: salary, dtype: float64"
      ]
     },
     "execution_count": 134,
     "metadata": {},
     "output_type": "execute_result"
    }
   ],
   "execution_count": 134
  },
  {
   "metadata": {},
   "cell_type": "code",
   "outputs": [],
   "execution_count": null,
   "source": "",
   "id": "78fb73bcf8724a77"
  }
 ],
 "metadata": {
  "kernelspec": {
   "display_name": "Python 3",
   "language": "python",
   "name": "python3"
  },
  "language_info": {
   "codemirror_mode": {
    "name": "ipython",
    "version": 2
   },
   "file_extension": ".py",
   "mimetype": "text/x-python",
   "name": "python",
   "nbconvert_exporter": "python",
   "pygments_lexer": "ipython2",
   "version": "2.7.6"
  }
 },
 "nbformat": 4,
 "nbformat_minor": 5
}
