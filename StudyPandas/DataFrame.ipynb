{
 "cells": [
  {
   "metadata": {},
   "cell_type": "raw",
   "source": "# DataFrame创建",
   "id": "a73e50910925ded0"
  },
  {
   "metadata": {},
   "cell_type": "markdown",
   "source": "# DataFrame创建",
   "id": "2718ff55e82d9cc3"
  },
  {
   "metadata": {
    "ExecuteTime": {
     "end_time": "2025-08-15T16:49:11.779239Z",
     "start_time": "2025-08-15T16:49:11.774989Z"
    }
   },
   "cell_type": "code",
   "source": [
    "import pandas as pd\n",
    "import numpy as np\n",
    "\n",
    "s1=pd.Series([1,2,3,4,5])\n",
    "s2=pd.Series([6,7,8,9,10])\n",
    "df=pd.DataFrame({\"First\":s1,\"Second\":s2})\n",
    "df"
   ],
   "id": "b3a234f65c7b8da1",
   "outputs": [
    {
     "data": {
      "text/plain": [
       "   First  Second\n",
       "0      1       6\n",
       "1      2       7\n",
       "2      3       8\n",
       "3      4       9\n",
       "4      5      10"
      ],
      "text/html": [
       "<div>\n",
       "<style scoped>\n",
       "    .dataframe tbody tr th:only-of-type {\n",
       "        vertical-align: middle;\n",
       "    }\n",
       "\n",
       "    .dataframe tbody tr th {\n",
       "        vertical-align: top;\n",
       "    }\n",
       "\n",
       "    .dataframe thead th {\n",
       "        text-align: right;\n",
       "    }\n",
       "</style>\n",
       "<table border=\"1\" class=\"dataframe\">\n",
       "  <thead>\n",
       "    <tr style=\"text-align: right;\">\n",
       "      <th></th>\n",
       "      <th>First</th>\n",
       "      <th>Second</th>\n",
       "    </tr>\n",
       "  </thead>\n",
       "  <tbody>\n",
       "    <tr>\n",
       "      <th>0</th>\n",
       "      <td>1</td>\n",
       "      <td>6</td>\n",
       "    </tr>\n",
       "    <tr>\n",
       "      <th>1</th>\n",
       "      <td>2</td>\n",
       "      <td>7</td>\n",
       "    </tr>\n",
       "    <tr>\n",
       "      <th>2</th>\n",
       "      <td>3</td>\n",
       "      <td>8</td>\n",
       "    </tr>\n",
       "    <tr>\n",
       "      <th>3</th>\n",
       "      <td>4</td>\n",
       "      <td>9</td>\n",
       "    </tr>\n",
       "    <tr>\n",
       "      <th>4</th>\n",
       "      <td>5</td>\n",
       "      <td>10</td>\n",
       "    </tr>\n",
       "  </tbody>\n",
       "</table>\n",
       "</div>"
      ]
     },
     "execution_count": 119,
     "metadata": {},
     "output_type": "execute_result"
    }
   ],
   "execution_count": 119
  },
  {
   "metadata": {
    "ExecuteTime": {
     "end_time": "2025-08-15T16:49:11.816467Z",
     "start_time": "2025-08-15T16:49:11.812014Z"
    }
   },
   "cell_type": "code",
   "source": [
    "df=pd.DataFrame({\n",
    "    \"id\":[1,2,3,4,5],\n",
    "    \"name\":[\"A\",\"B\",\"C\",\"D\",\"E\"],\n",
    "    \"age\":[11,12,13,14,15],\n",
    "    \"score\":[16,17,18,19,20]\n",
    "},index=[1,2,3,4,5])\n",
    "df"
   ],
   "id": "14c5ed3f78f9a362",
   "outputs": [
    {
     "data": {
      "text/plain": [
       "   id name  age  score\n",
       "1   1    A   11     16\n",
       "2   2    B   12     17\n",
       "3   3    C   13     18\n",
       "4   4    D   14     19\n",
       "5   5    E   15     20"
      ],
      "text/html": [
       "<div>\n",
       "<style scoped>\n",
       "    .dataframe tbody tr th:only-of-type {\n",
       "        vertical-align: middle;\n",
       "    }\n",
       "\n",
       "    .dataframe tbody tr th {\n",
       "        vertical-align: top;\n",
       "    }\n",
       "\n",
       "    .dataframe thead th {\n",
       "        text-align: right;\n",
       "    }\n",
       "</style>\n",
       "<table border=\"1\" class=\"dataframe\">\n",
       "  <thead>\n",
       "    <tr style=\"text-align: right;\">\n",
       "      <th></th>\n",
       "      <th>id</th>\n",
       "      <th>name</th>\n",
       "      <th>age</th>\n",
       "      <th>score</th>\n",
       "    </tr>\n",
       "  </thead>\n",
       "  <tbody>\n",
       "    <tr>\n",
       "      <th>1</th>\n",
       "      <td>1</td>\n",
       "      <td>A</td>\n",
       "      <td>11</td>\n",
       "      <td>16</td>\n",
       "    </tr>\n",
       "    <tr>\n",
       "      <th>2</th>\n",
       "      <td>2</td>\n",
       "      <td>B</td>\n",
       "      <td>12</td>\n",
       "      <td>17</td>\n",
       "    </tr>\n",
       "    <tr>\n",
       "      <th>3</th>\n",
       "      <td>3</td>\n",
       "      <td>C</td>\n",
       "      <td>13</td>\n",
       "      <td>18</td>\n",
       "    </tr>\n",
       "    <tr>\n",
       "      <th>4</th>\n",
       "      <td>4</td>\n",
       "      <td>D</td>\n",
       "      <td>14</td>\n",
       "      <td>19</td>\n",
       "    </tr>\n",
       "    <tr>\n",
       "      <th>5</th>\n",
       "      <td>5</td>\n",
       "      <td>E</td>\n",
       "      <td>15</td>\n",
       "      <td>20</td>\n",
       "    </tr>\n",
       "  </tbody>\n",
       "</table>\n",
       "</div>"
      ]
     },
     "execution_count": 120,
     "metadata": {},
     "output_type": "execute_result"
    }
   ],
   "execution_count": 120
  },
  {
   "metadata": {
    "ExecuteTime": {
     "end_time": "2025-08-15T16:49:12.116975Z",
     "start_time": "2025-08-15T16:49:12.112158Z"
    }
   },
   "cell_type": "code",
   "source": [
    "df=pd.DataFrame({\n",
    "    \"id\":[1,1,2,3,4,5,6],\n",
    "    \"name\":[\"A\",\"A\",\"B\",\"C\",\"D\",\"E\",'F'],\n",
    "    \"age\":[11,11,12,13,14,15,19],\n",
    "    \"score\":[16,16,17,18,19,20,16]\n",
    "},index=[1,2,3,4,5,6,7],columns=[\"id\",\"name\",\"score\",\"age\"])\n",
    "df"
   ],
   "id": "5867b154a34e7c48",
   "outputs": [
    {
     "data": {
      "text/plain": [
       "   id name  score  age\n",
       "1   1    A     16   11\n",
       "2   1    A     16   11\n",
       "3   2    B     17   12\n",
       "4   3    C     18   13\n",
       "5   4    D     19   14\n",
       "6   5    E     20   15\n",
       "7   6    F     16   19"
      ],
      "text/html": [
       "<div>\n",
       "<style scoped>\n",
       "    .dataframe tbody tr th:only-of-type {\n",
       "        vertical-align: middle;\n",
       "    }\n",
       "\n",
       "    .dataframe tbody tr th {\n",
       "        vertical-align: top;\n",
       "    }\n",
       "\n",
       "    .dataframe thead th {\n",
       "        text-align: right;\n",
       "    }\n",
       "</style>\n",
       "<table border=\"1\" class=\"dataframe\">\n",
       "  <thead>\n",
       "    <tr style=\"text-align: right;\">\n",
       "      <th></th>\n",
       "      <th>id</th>\n",
       "      <th>name</th>\n",
       "      <th>score</th>\n",
       "      <th>age</th>\n",
       "    </tr>\n",
       "  </thead>\n",
       "  <tbody>\n",
       "    <tr>\n",
       "      <th>1</th>\n",
       "      <td>1</td>\n",
       "      <td>A</td>\n",
       "      <td>16</td>\n",
       "      <td>11</td>\n",
       "    </tr>\n",
       "    <tr>\n",
       "      <th>2</th>\n",
       "      <td>1</td>\n",
       "      <td>A</td>\n",
       "      <td>16</td>\n",
       "      <td>11</td>\n",
       "    </tr>\n",
       "    <tr>\n",
       "      <th>3</th>\n",
       "      <td>2</td>\n",
       "      <td>B</td>\n",
       "      <td>17</td>\n",
       "      <td>12</td>\n",
       "    </tr>\n",
       "    <tr>\n",
       "      <th>4</th>\n",
       "      <td>3</td>\n",
       "      <td>C</td>\n",
       "      <td>18</td>\n",
       "      <td>13</td>\n",
       "    </tr>\n",
       "    <tr>\n",
       "      <th>5</th>\n",
       "      <td>4</td>\n",
       "      <td>D</td>\n",
       "      <td>19</td>\n",
       "      <td>14</td>\n",
       "    </tr>\n",
       "    <tr>\n",
       "      <th>6</th>\n",
       "      <td>5</td>\n",
       "      <td>E</td>\n",
       "      <td>20</td>\n",
       "      <td>15</td>\n",
       "    </tr>\n",
       "    <tr>\n",
       "      <th>7</th>\n",
       "      <td>6</td>\n",
       "      <td>F</td>\n",
       "      <td>16</td>\n",
       "      <td>19</td>\n",
       "    </tr>\n",
       "  </tbody>\n",
       "</table>\n",
       "</div>"
      ]
     },
     "execution_count": 121,
     "metadata": {},
     "output_type": "execute_result"
    }
   ],
   "execution_count": 121
  },
  {
   "metadata": {},
   "cell_type": "markdown",
   "source": "# DataFrame的属性",
   "id": "94acd95e6a0ab6ce"
  },
  {
   "metadata": {
    "ExecuteTime": {
     "end_time": "2025-08-15T16:49:12.204143Z",
     "start_time": "2025-08-15T16:49:12.201194Z"
    }
   },
   "cell_type": "code",
   "source": [
    "print(\"行索引：\")\n",
    "print(df.index)\n",
    "print(\"列标签\")\n",
    "print(df.columns)\n",
    "print(\"值\")\n",
    "print(df.values)"
   ],
   "id": "b3b8e7e1f046dd87",
   "outputs": [
    {
     "name": "stdout",
     "output_type": "stream",
     "text": [
      "行索引：\n",
      "Index([1, 2, 3, 4, 5, 6, 7], dtype='int64')\n",
      "列标签\n",
      "Index(['id', 'name', 'score', 'age'], dtype='object')\n",
      "值\n",
      "[[1 'A' 16 11]\n",
      " [1 'A' 16 11]\n",
      " [2 'B' 17 12]\n",
      " [3 'C' 18 13]\n",
      " [4 'D' 19 14]\n",
      " [5 'E' 20 15]\n",
      " [6 'F' 16 19]]\n"
     ]
    }
   ],
   "execution_count": 122
  },
  {
   "metadata": {
    "ExecuteTime": {
     "end_time": "2025-08-15T16:49:12.303388Z",
     "start_time": "2025-08-15T16:49:12.300156Z"
    }
   },
   "cell_type": "code",
   "source": [
    "print('维度',df.ndim)\n",
    "print(\"形状:\",df.shape)\n",
    "print('个数',df.size)\n",
    "print('数据类型:',df.dtypes)"
   ],
   "id": "79658175bf94091e",
   "outputs": [
    {
     "name": "stdout",
     "output_type": "stream",
     "text": [
      "维度 2\n",
      "形状: (7, 4)\n",
      "个数 28\n",
      "数据类型: id        int64\n",
      "name     object\n",
      "score     int64\n",
      "age       int64\n",
      "dtype: object\n"
     ]
    }
   ],
   "execution_count": 123
  },
  {
   "metadata": {
    "ExecuteTime": {
     "end_time": "2025-08-15T16:49:12.343943Z",
     "start_time": "2025-08-15T16:49:12.341121Z"
    }
   },
   "cell_type": "code",
   "source": "print(df.T)",
   "id": "9c792fa4a180e4c9",
   "outputs": [
    {
     "name": "stdout",
     "output_type": "stream",
     "text": [
      "        1   2   3   4   5   6   7\n",
      "id      1   1   2   3   4   5   6\n",
      "name    A   A   B   C   D   E   F\n",
      "score  16  16  17  18  19  20  16\n",
      "age    11  11  12  13  14  15  19\n"
     ]
    }
   ],
   "execution_count": 124
  },
  {
   "metadata": {
    "ExecuteTime": {
     "end_time": "2025-08-15T16:49:12.385270Z",
     "start_time": "2025-08-15T16:49:12.381231Z"
    }
   },
   "cell_type": "code",
   "source": "df",
   "id": "192520304a454396",
   "outputs": [
    {
     "data": {
      "text/plain": [
       "   id name  score  age\n",
       "1   1    A     16   11\n",
       "2   1    A     16   11\n",
       "3   2    B     17   12\n",
       "4   3    C     18   13\n",
       "5   4    D     19   14\n",
       "6   5    E     20   15\n",
       "7   6    F     16   19"
      ],
      "text/html": [
       "<div>\n",
       "<style scoped>\n",
       "    .dataframe tbody tr th:only-of-type {\n",
       "        vertical-align: middle;\n",
       "    }\n",
       "\n",
       "    .dataframe tbody tr th {\n",
       "        vertical-align: top;\n",
       "    }\n",
       "\n",
       "    .dataframe thead th {\n",
       "        text-align: right;\n",
       "    }\n",
       "</style>\n",
       "<table border=\"1\" class=\"dataframe\">\n",
       "  <thead>\n",
       "    <tr style=\"text-align: right;\">\n",
       "      <th></th>\n",
       "      <th>id</th>\n",
       "      <th>name</th>\n",
       "      <th>score</th>\n",
       "      <th>age</th>\n",
       "    </tr>\n",
       "  </thead>\n",
       "  <tbody>\n",
       "    <tr>\n",
       "      <th>1</th>\n",
       "      <td>1</td>\n",
       "      <td>A</td>\n",
       "      <td>16</td>\n",
       "      <td>11</td>\n",
       "    </tr>\n",
       "    <tr>\n",
       "      <th>2</th>\n",
       "      <td>1</td>\n",
       "      <td>A</td>\n",
       "      <td>16</td>\n",
       "      <td>11</td>\n",
       "    </tr>\n",
       "    <tr>\n",
       "      <th>3</th>\n",
       "      <td>2</td>\n",
       "      <td>B</td>\n",
       "      <td>17</td>\n",
       "      <td>12</td>\n",
       "    </tr>\n",
       "    <tr>\n",
       "      <th>4</th>\n",
       "      <td>3</td>\n",
       "      <td>C</td>\n",
       "      <td>18</td>\n",
       "      <td>13</td>\n",
       "    </tr>\n",
       "    <tr>\n",
       "      <th>5</th>\n",
       "      <td>4</td>\n",
       "      <td>D</td>\n",
       "      <td>19</td>\n",
       "      <td>14</td>\n",
       "    </tr>\n",
       "    <tr>\n",
       "      <th>6</th>\n",
       "      <td>5</td>\n",
       "      <td>E</td>\n",
       "      <td>20</td>\n",
       "      <td>15</td>\n",
       "    </tr>\n",
       "    <tr>\n",
       "      <th>7</th>\n",
       "      <td>6</td>\n",
       "      <td>F</td>\n",
       "      <td>16</td>\n",
       "      <td>19</td>\n",
       "    </tr>\n",
       "  </tbody>\n",
       "</table>\n",
       "</div>"
      ]
     },
     "execution_count": 125,
     "metadata": {},
     "output_type": "execute_result"
    }
   ],
   "execution_count": 125
  },
  {
   "metadata": {
    "ExecuteTime": {
     "end_time": "2025-08-15T16:49:12.422290Z",
     "start_time": "2025-08-15T16:49:12.419639Z"
    }
   },
   "cell_type": "code",
   "source": [
    "#获取元素  loc iloc at iat\n",
    "df.loc[2]"
   ],
   "id": "4b2a8f74afe94a42",
   "outputs": [
    {
     "data": {
      "text/plain": [
       "id        1\n",
       "name      A\n",
       "score    16\n",
       "age      11\n",
       "Name: 2, dtype: object"
      ]
     },
     "execution_count": 126,
     "metadata": {},
     "output_type": "execute_result"
    }
   ],
   "execution_count": 126
  },
  {
   "metadata": {
    "ExecuteTime": {
     "end_time": "2025-08-15T16:49:12.497040Z",
     "start_time": "2025-08-15T16:49:12.493871Z"
    }
   },
   "cell_type": "code",
   "source": "df.iloc[1]",
   "id": "a9d1bb4e786b3c7e",
   "outputs": [
    {
     "data": {
      "text/plain": [
       "id        1\n",
       "name      A\n",
       "score    16\n",
       "age      11\n",
       "Name: 2, dtype: object"
      ]
     },
     "execution_count": 127,
     "metadata": {},
     "output_type": "execute_result"
    }
   ],
   "execution_count": 127
  },
  {
   "metadata": {
    "ExecuteTime": {
     "end_time": "2025-08-15T16:49:12.575253Z",
     "start_time": "2025-08-15T16:49:12.572286Z"
    }
   },
   "cell_type": "code",
   "source": "print(df.loc[:,'name'])",
   "id": "4f206bce45bbca7b",
   "outputs": [
    {
     "name": "stdout",
     "output_type": "stream",
     "text": [
      "1    A\n",
      "2    A\n",
      "3    B\n",
      "4    C\n",
      "5    D\n",
      "6    E\n",
      "7    F\n",
      "Name: name, dtype: object\n"
     ]
    }
   ],
   "execution_count": 128
  },
  {
   "metadata": {
    "ExecuteTime": {
     "end_time": "2025-08-15T16:49:12.680227Z",
     "start_time": "2025-08-15T16:49:12.677376Z"
    }
   },
   "cell_type": "code",
   "source": "print(df.iloc[:,1])",
   "id": "802a9b7e9f1d22bb",
   "outputs": [
    {
     "name": "stdout",
     "output_type": "stream",
     "text": [
      "1    A\n",
      "2    A\n",
      "3    B\n",
      "4    C\n",
      "5    D\n",
      "6    E\n",
      "7    F\n",
      "Name: name, dtype: object\n"
     ]
    }
   ],
   "execution_count": 129
  },
  {
   "metadata": {
    "ExecuteTime": {
     "end_time": "2025-08-15T16:49:12.717688Z",
     "start_time": "2025-08-15T16:49:12.715503Z"
    }
   },
   "cell_type": "code",
   "source": "print(df.at[2,'name'])",
   "id": "3fae376e76724e7d",
   "outputs": [
    {
     "name": "stdout",
     "output_type": "stream",
     "text": [
      "A\n"
     ]
    }
   ],
   "execution_count": 130
  },
  {
   "metadata": {
    "ExecuteTime": {
     "end_time": "2025-08-15T16:49:12.767984Z",
     "start_time": "2025-08-15T16:49:12.765575Z"
    }
   },
   "cell_type": "code",
   "source": "print(df.iat[1,1])",
   "id": "8611cc0a2923f1",
   "outputs": [
    {
     "name": "stdout",
     "output_type": "stream",
     "text": [
      "A\n"
     ]
    }
   ],
   "execution_count": 131
  },
  {
   "metadata": {},
   "cell_type": "markdown",
   "source": "# 访问方式",
   "id": "82dc4ba7e3651c5e"
  },
  {
   "metadata": {
    "ExecuteTime": {
     "end_time": "2025-08-15T16:49:12.795651Z",
     "start_time": "2025-08-15T16:49:12.793164Z"
    }
   },
   "cell_type": "code",
   "source": [
    "#获取单列数据\n",
    "print(df['name'])"
   ],
   "id": "26cdc6704aeeb94c",
   "outputs": [
    {
     "name": "stdout",
     "output_type": "stream",
     "text": [
      "1    A\n",
      "2    A\n",
      "3    B\n",
      "4    C\n",
      "5    D\n",
      "6    E\n",
      "7    F\n",
      "Name: name, dtype: object\n"
     ]
    }
   ],
   "execution_count": 132
  },
  {
   "metadata": {
    "ExecuteTime": {
     "end_time": "2025-08-15T16:49:12.821244Z",
     "start_time": "2025-08-15T16:49:12.818967Z"
    }
   },
   "cell_type": "code",
   "source": "print(df.name)",
   "id": "326de77d60b5ebd",
   "outputs": [
    {
     "name": "stdout",
     "output_type": "stream",
     "text": [
      "1    A\n",
      "2    A\n",
      "3    B\n",
      "4    C\n",
      "5    D\n",
      "6    E\n",
      "7    F\n",
      "Name: name, dtype: object\n"
     ]
    }
   ],
   "execution_count": 133
  },
  {
   "metadata": {
    "ExecuteTime": {
     "end_time": "2025-08-15T16:49:12.851819Z",
     "start_time": "2025-08-15T16:49:12.848611Z"
    }
   },
   "cell_type": "code",
   "source": [
    "#多列数据\n",
    "print(df[['id','name']])"
   ],
   "id": "33719509e78bcd82",
   "outputs": [
    {
     "name": "stdout",
     "output_type": "stream",
     "text": [
      "   id name\n",
      "1   1    A\n",
      "2   1    A\n",
      "3   2    B\n",
      "4   3    C\n",
      "5   4    D\n",
      "6   5    E\n",
      "7   6    F\n"
     ]
    }
   ],
   "execution_count": 134
  },
  {
   "metadata": {
    "ExecuteTime": {
     "end_time": "2025-08-15T16:49:12.879325Z",
     "start_time": "2025-08-15T16:49:12.876239Z"
    }
   },
   "cell_type": "code",
   "source": "print(df.head(2))",
   "id": "9c926f3fb189d1bc",
   "outputs": [
    {
     "name": "stdout",
     "output_type": "stream",
     "text": [
      "   id name  score  age\n",
      "1   1    A     16   11\n",
      "2   1    A     16   11\n"
     ]
    }
   ],
   "execution_count": 135
  },
  {
   "metadata": {
    "ExecuteTime": {
     "end_time": "2025-08-15T16:49:12.903451Z",
     "start_time": "2025-08-15T16:49:12.900972Z"
    }
   },
   "cell_type": "code",
   "source": "print(df.tail(2))",
   "id": "8a4f0d2757170a20",
   "outputs": [
    {
     "name": "stdout",
     "output_type": "stream",
     "text": [
      "   id name  score  age\n",
      "6   5    E     20   15\n",
      "7   6    F     16   19\n"
     ]
    }
   ],
   "execution_count": 136
  },
  {
   "metadata": {
    "ExecuteTime": {
     "end_time": "2025-08-15T16:49:12.926466Z",
     "start_time": "2025-08-15T16:49:12.922645Z"
    }
   },
   "cell_type": "code",
   "source": "df",
   "id": "742c38c8d899907e",
   "outputs": [
    {
     "data": {
      "text/plain": [
       "   id name  score  age\n",
       "1   1    A     16   11\n",
       "2   1    A     16   11\n",
       "3   2    B     17   12\n",
       "4   3    C     18   13\n",
       "5   4    D     19   14\n",
       "6   5    E     20   15\n",
       "7   6    F     16   19"
      ],
      "text/html": [
       "<div>\n",
       "<style scoped>\n",
       "    .dataframe tbody tr th:only-of-type {\n",
       "        vertical-align: middle;\n",
       "    }\n",
       "\n",
       "    .dataframe tbody tr th {\n",
       "        vertical-align: top;\n",
       "    }\n",
       "\n",
       "    .dataframe thead th {\n",
       "        text-align: right;\n",
       "    }\n",
       "</style>\n",
       "<table border=\"1\" class=\"dataframe\">\n",
       "  <thead>\n",
       "    <tr style=\"text-align: right;\">\n",
       "      <th></th>\n",
       "      <th>id</th>\n",
       "      <th>name</th>\n",
       "      <th>score</th>\n",
       "      <th>age</th>\n",
       "    </tr>\n",
       "  </thead>\n",
       "  <tbody>\n",
       "    <tr>\n",
       "      <th>1</th>\n",
       "      <td>1</td>\n",
       "      <td>A</td>\n",
       "      <td>16</td>\n",
       "      <td>11</td>\n",
       "    </tr>\n",
       "    <tr>\n",
       "      <th>2</th>\n",
       "      <td>1</td>\n",
       "      <td>A</td>\n",
       "      <td>16</td>\n",
       "      <td>11</td>\n",
       "    </tr>\n",
       "    <tr>\n",
       "      <th>3</th>\n",
       "      <td>2</td>\n",
       "      <td>B</td>\n",
       "      <td>17</td>\n",
       "      <td>12</td>\n",
       "    </tr>\n",
       "    <tr>\n",
       "      <th>4</th>\n",
       "      <td>3</td>\n",
       "      <td>C</td>\n",
       "      <td>18</td>\n",
       "      <td>13</td>\n",
       "    </tr>\n",
       "    <tr>\n",
       "      <th>5</th>\n",
       "      <td>4</td>\n",
       "      <td>D</td>\n",
       "      <td>19</td>\n",
       "      <td>14</td>\n",
       "    </tr>\n",
       "    <tr>\n",
       "      <th>6</th>\n",
       "      <td>5</td>\n",
       "      <td>E</td>\n",
       "      <td>20</td>\n",
       "      <td>15</td>\n",
       "    </tr>\n",
       "    <tr>\n",
       "      <th>7</th>\n",
       "      <td>6</td>\n",
       "      <td>F</td>\n",
       "      <td>16</td>\n",
       "      <td>19</td>\n",
       "    </tr>\n",
       "  </tbody>\n",
       "</table>\n",
       "</div>"
      ]
     },
     "execution_count": 137,
     "metadata": {},
     "output_type": "execute_result"
    }
   ],
   "execution_count": 137
  },
  {
   "metadata": {
    "ExecuteTime": {
     "end_time": "2025-08-15T16:49:12.965336Z",
     "start_time": "2025-08-15T16:49:12.961437Z"
    }
   },
   "cell_type": "code",
   "source": "df[df.score>18]",
   "id": "6668445813a655ed",
   "outputs": [
    {
     "data": {
      "text/plain": [
       "   id name  score  age\n",
       "5   4    D     19   14\n",
       "6   5    E     20   15"
      ],
      "text/html": [
       "<div>\n",
       "<style scoped>\n",
       "    .dataframe tbody tr th:only-of-type {\n",
       "        vertical-align: middle;\n",
       "    }\n",
       "\n",
       "    .dataframe tbody tr th {\n",
       "        vertical-align: top;\n",
       "    }\n",
       "\n",
       "    .dataframe thead th {\n",
       "        text-align: right;\n",
       "    }\n",
       "</style>\n",
       "<table border=\"1\" class=\"dataframe\">\n",
       "  <thead>\n",
       "    <tr style=\"text-align: right;\">\n",
       "      <th></th>\n",
       "      <th>id</th>\n",
       "      <th>name</th>\n",
       "      <th>score</th>\n",
       "      <th>age</th>\n",
       "    </tr>\n",
       "  </thead>\n",
       "  <tbody>\n",
       "    <tr>\n",
       "      <th>5</th>\n",
       "      <td>4</td>\n",
       "      <td>D</td>\n",
       "      <td>19</td>\n",
       "      <td>14</td>\n",
       "    </tr>\n",
       "    <tr>\n",
       "      <th>6</th>\n",
       "      <td>5</td>\n",
       "      <td>E</td>\n",
       "      <td>20</td>\n",
       "      <td>15</td>\n",
       "    </tr>\n",
       "  </tbody>\n",
       "</table>\n",
       "</div>"
      ]
     },
     "execution_count": 138,
     "metadata": {},
     "output_type": "execute_result"
    }
   ],
   "execution_count": 138
  },
  {
   "metadata": {
    "ExecuteTime": {
     "end_time": "2025-08-15T16:49:13.066732Z",
     "start_time": "2025-08-15T16:49:13.062582Z"
    }
   },
   "cell_type": "code",
   "source": "df[(df.score>18)&(df.age>14)]",
   "id": "45a1e0949b7405b6",
   "outputs": [
    {
     "data": {
      "text/plain": [
       "   id name  score  age\n",
       "6   5    E     20   15"
      ],
      "text/html": [
       "<div>\n",
       "<style scoped>\n",
       "    .dataframe tbody tr th:only-of-type {\n",
       "        vertical-align: middle;\n",
       "    }\n",
       "\n",
       "    .dataframe tbody tr th {\n",
       "        vertical-align: top;\n",
       "    }\n",
       "\n",
       "    .dataframe thead th {\n",
       "        text-align: right;\n",
       "    }\n",
       "</style>\n",
       "<table border=\"1\" class=\"dataframe\">\n",
       "  <thead>\n",
       "    <tr style=\"text-align: right;\">\n",
       "      <th></th>\n",
       "      <th>id</th>\n",
       "      <th>name</th>\n",
       "      <th>score</th>\n",
       "      <th>age</th>\n",
       "    </tr>\n",
       "  </thead>\n",
       "  <tbody>\n",
       "    <tr>\n",
       "      <th>6</th>\n",
       "      <td>5</td>\n",
       "      <td>E</td>\n",
       "      <td>20</td>\n",
       "      <td>15</td>\n",
       "    </tr>\n",
       "  </tbody>\n",
       "</table>\n",
       "</div>"
      ]
     },
     "execution_count": 139,
     "metadata": {},
     "output_type": "execute_result"
    }
   ],
   "execution_count": 139
  },
  {
   "metadata": {
    "ExecuteTime": {
     "end_time": "2025-08-15T16:49:13.147324Z",
     "start_time": "2025-08-15T16:49:13.142702Z"
    }
   },
   "cell_type": "code",
   "source": [
    "# 随机抽样\n",
    "df.sample(3)"
   ],
   "id": "84977be3d30aaab3",
   "outputs": [
    {
     "data": {
      "text/plain": [
       "   id name  score  age\n",
       "5   4    D     19   14\n",
       "1   1    A     16   11\n",
       "7   6    F     16   19"
      ],
      "text/html": [
       "<div>\n",
       "<style scoped>\n",
       "    .dataframe tbody tr th:only-of-type {\n",
       "        vertical-align: middle;\n",
       "    }\n",
       "\n",
       "    .dataframe tbody tr th {\n",
       "        vertical-align: top;\n",
       "    }\n",
       "\n",
       "    .dataframe thead th {\n",
       "        text-align: right;\n",
       "    }\n",
       "</style>\n",
       "<table border=\"1\" class=\"dataframe\">\n",
       "  <thead>\n",
       "    <tr style=\"text-align: right;\">\n",
       "      <th></th>\n",
       "      <th>id</th>\n",
       "      <th>name</th>\n",
       "      <th>score</th>\n",
       "      <th>age</th>\n",
       "    </tr>\n",
       "  </thead>\n",
       "  <tbody>\n",
       "    <tr>\n",
       "      <th>5</th>\n",
       "      <td>4</td>\n",
       "      <td>D</td>\n",
       "      <td>19</td>\n",
       "      <td>14</td>\n",
       "    </tr>\n",
       "    <tr>\n",
       "      <th>1</th>\n",
       "      <td>1</td>\n",
       "      <td>A</td>\n",
       "      <td>16</td>\n",
       "      <td>11</td>\n",
       "    </tr>\n",
       "    <tr>\n",
       "      <th>7</th>\n",
       "      <td>6</td>\n",
       "      <td>F</td>\n",
       "      <td>16</td>\n",
       "      <td>19</td>\n",
       "    </tr>\n",
       "  </tbody>\n",
       "</table>\n",
       "</div>"
      ]
     },
     "execution_count": 140,
     "metadata": {},
     "output_type": "execute_result"
    }
   ],
   "execution_count": 140
  },
  {
   "metadata": {
    "ExecuteTime": {
     "end_time": "2025-08-15T16:49:13.228860Z",
     "start_time": "2025-08-15T16:49:13.225422Z"
    }
   },
   "cell_type": "code",
   "source": "print(df.isin(['B',15])) # 查看元素是否包含",
   "id": "73bc4d0f9c87c1eb",
   "outputs": [
    {
     "name": "stdout",
     "output_type": "stream",
     "text": [
      "      id   name  score    age\n",
      "1  False  False  False  False\n",
      "2  False  False  False  False\n",
      "3  False   True  False  False\n",
      "4  False  False  False  False\n",
      "5  False  False  False  False\n",
      "6  False  False  False   True\n",
      "7  False  False  False  False\n"
     ]
    }
   ],
   "execution_count": 141
  },
  {
   "metadata": {
    "ExecuteTime": {
     "end_time": "2025-08-15T16:49:13.311626Z",
     "start_time": "2025-08-15T16:49:13.308607Z"
    }
   },
   "cell_type": "code",
   "source": "print(df.isna())",
   "id": "f789002356f51435",
   "outputs": [
    {
     "name": "stdout",
     "output_type": "stream",
     "text": [
      "      id   name  score    age\n",
      "1  False  False  False  False\n",
      "2  False  False  False  False\n",
      "3  False  False  False  False\n",
      "4  False  False  False  False\n",
      "5  False  False  False  False\n",
      "6  False  False  False  False\n",
      "7  False  False  False  False\n"
     ]
    }
   ],
   "execution_count": 142
  },
  {
   "metadata": {
    "ExecuteTime": {
     "end_time": "2025-08-15T16:49:13.371121Z",
     "start_time": "2025-08-15T16:49:13.368008Z"
    }
   },
   "cell_type": "code",
   "source": [
    "print(df['score'].sum())\n",
    "print(df['score'].max())\n",
    "print(df['age'].min())\n",
    "print(df['score'].mean())\n",
    "print(df['score'].median())\n",
    "print(df['score'].mode())"
   ],
   "id": "1c71e52562a04f7",
   "outputs": [
    {
     "name": "stdout",
     "output_type": "stream",
     "text": [
      "122\n",
      "20\n",
      "11\n",
      "17.428571428571427\n",
      "17.0\n",
      "0    16\n",
      "Name: score, dtype: int64\n"
     ]
    }
   ],
   "execution_count": 143
  },
  {
   "metadata": {
    "ExecuteTime": {
     "end_time": "2025-08-15T16:49:13.413595Z",
     "start_time": "2025-08-15T16:49:13.410758Z"
    }
   },
   "cell_type": "code",
   "source": [
    "print(df.score.std())\n",
    "print(df.score.var())\n",
    "print(df.score.quantile(0.25))"
   ],
   "id": "dadbde2b0f55d07c",
   "outputs": [
    {
     "name": "stdout",
     "output_type": "stream",
     "text": [
      "1.618347187425374\n",
      "2.619047619047619\n",
      "16.0\n"
     ]
    }
   ],
   "execution_count": 144
  },
  {
   "metadata": {
    "ExecuteTime": {
     "end_time": "2025-08-15T16:49:13.440911Z",
     "start_time": "2025-08-15T16:49:13.435990Z"
    }
   },
   "cell_type": "code",
   "source": "print(df.describe())",
   "id": "60122bb53429d00a",
   "outputs": [
    {
     "name": "stdout",
     "output_type": "stream",
     "text": [
      "             id      score        age\n",
      "count  7.000000   7.000000   7.000000\n",
      "mean   3.142857  17.428571  13.571429\n",
      "std    1.951800   1.618347   2.819997\n",
      "min    1.000000  16.000000  11.000000\n",
      "25%    1.500000  16.000000  11.500000\n",
      "50%    3.000000  17.000000  13.000000\n",
      "75%    4.500000  18.500000  14.500000\n",
      "max    6.000000  20.000000  19.000000\n"
     ]
    }
   ],
   "execution_count": 145
  },
  {
   "metadata": {
    "ExecuteTime": {
     "end_time": "2025-08-15T16:49:13.458459Z",
     "start_time": "2025-08-15T16:49:13.455770Z"
    }
   },
   "cell_type": "code",
   "source": "print(df.count()) # 每一列非缺的个数",
   "id": "d2f408928a752d98",
   "outputs": [
    {
     "name": "stdout",
     "output_type": "stream",
     "text": [
      "id       7\n",
      "name     7\n",
      "score    7\n",
      "age      7\n",
      "dtype: int64\n"
     ]
    }
   ],
   "execution_count": 146
  },
  {
   "metadata": {
    "ExecuteTime": {
     "end_time": "2025-08-15T16:49:13.481600Z",
     "start_time": "2025-08-15T16:49:13.477800Z"
    }
   },
   "cell_type": "code",
   "source": "print(df.value_counts())",
   "id": "a210a8913cbf5f56",
   "outputs": [
    {
     "name": "stdout",
     "output_type": "stream",
     "text": [
      "id  name  score  age\n",
      "1   A     16     11     2\n",
      "2   B     17     12     1\n",
      "3   C     18     13     1\n",
      "4   D     19     14     1\n",
      "5   E     20     15     1\n",
      "6   F     16     19     1\n",
      "Name: count, dtype: int64\n"
     ]
    }
   ],
   "execution_count": 147
  },
  {
   "metadata": {
    "ExecuteTime": {
     "end_time": "2025-08-15T16:49:40.233769Z",
     "start_time": "2025-08-15T16:49:40.227782Z"
    }
   },
   "cell_type": "code",
   "source": "print(df.drop_duplicates())",
   "id": "d0b53fa246eee3b7",
   "outputs": [
    {
     "name": "stdout",
     "output_type": "stream",
     "text": [
      "   id name  score  age\n",
      "1   1    A     16   11\n",
      "3   2    B     17   12\n",
      "4   3    C     18   13\n",
      "5   4    D     19   14\n",
      "6   5    E     20   15\n",
      "7   6    F     16   19\n"
     ]
    }
   ],
   "execution_count": 148
  },
  {
   "metadata": {
    "ExecuteTime": {
     "end_time": "2025-08-15T16:49:55.818909Z",
     "start_time": "2025-08-15T16:49:55.815715Z"
    }
   },
   "cell_type": "code",
   "source": "print(df.duplicated())",
   "id": "74654198b682ff21",
   "outputs": [
    {
     "name": "stdout",
     "output_type": "stream",
     "text": [
      "1    False\n",
      "2     True\n",
      "3    False\n",
      "4    False\n",
      "5    False\n",
      "6    False\n",
      "7    False\n",
      "dtype: bool\n"
     ]
    }
   ],
   "execution_count": 149
  },
  {
   "metadata": {
    "ExecuteTime": {
     "end_time": "2025-08-15T16:50:33.003347Z",
     "start_time": "2025-08-15T16:50:33.000426Z"
    }
   },
   "cell_type": "code",
   "source": "print(df.duplicated(subset=['score']))",
   "id": "600ff64f6fbf13d1",
   "outputs": [
    {
     "name": "stdout",
     "output_type": "stream",
     "text": [
      "1    False\n",
      "2     True\n",
      "3    False\n",
      "4    False\n",
      "5    False\n",
      "6    False\n",
      "7     True\n",
      "dtype: bool\n"
     ]
    }
   ],
   "execution_count": 150
  },
  {
   "metadata": {
    "ExecuteTime": {
     "end_time": "2025-08-15T16:50:51.085238Z",
     "start_time": "2025-08-15T16:50:51.080504Z"
    }
   },
   "cell_type": "code",
   "source": "df.sample(4)",
   "id": "c6fab14e7edd9e6e",
   "outputs": [
    {
     "data": {
      "text/plain": [
       "   id name  score  age\n",
       "6   5    E     20   15\n",
       "7   6    F     16   19\n",
       "1   1    A     16   11\n",
       "3   2    B     17   12"
      ],
      "text/html": [
       "<div>\n",
       "<style scoped>\n",
       "    .dataframe tbody tr th:only-of-type {\n",
       "        vertical-align: middle;\n",
       "    }\n",
       "\n",
       "    .dataframe tbody tr th {\n",
       "        vertical-align: top;\n",
       "    }\n",
       "\n",
       "    .dataframe thead th {\n",
       "        text-align: right;\n",
       "    }\n",
       "</style>\n",
       "<table border=\"1\" class=\"dataframe\">\n",
       "  <thead>\n",
       "    <tr style=\"text-align: right;\">\n",
       "      <th></th>\n",
       "      <th>id</th>\n",
       "      <th>name</th>\n",
       "      <th>score</th>\n",
       "      <th>age</th>\n",
       "    </tr>\n",
       "  </thead>\n",
       "  <tbody>\n",
       "    <tr>\n",
       "      <th>6</th>\n",
       "      <td>5</td>\n",
       "      <td>E</td>\n",
       "      <td>20</td>\n",
       "      <td>15</td>\n",
       "    </tr>\n",
       "    <tr>\n",
       "      <th>7</th>\n",
       "      <td>6</td>\n",
       "      <td>F</td>\n",
       "      <td>16</td>\n",
       "      <td>19</td>\n",
       "    </tr>\n",
       "    <tr>\n",
       "      <th>1</th>\n",
       "      <td>1</td>\n",
       "      <td>A</td>\n",
       "      <td>16</td>\n",
       "      <td>11</td>\n",
       "    </tr>\n",
       "    <tr>\n",
       "      <th>3</th>\n",
       "      <td>2</td>\n",
       "      <td>B</td>\n",
       "      <td>17</td>\n",
       "      <td>12</td>\n",
       "    </tr>\n",
       "  </tbody>\n",
       "</table>\n",
       "</div>"
      ]
     },
     "execution_count": 151,
     "metadata": {},
     "output_type": "execute_result"
    }
   ],
   "execution_count": 151
  },
  {
   "metadata": {
    "ExecuteTime": {
     "end_time": "2025-08-15T16:51:07.351710Z",
     "start_time": "2025-08-15T16:51:07.346955Z"
    }
   },
   "cell_type": "code",
   "source": "df.replace(11,110)",
   "id": "8db1c11ede91cd87",
   "outputs": [
    {
     "data": {
      "text/plain": [
       "   id name  score  age\n",
       "1   1    A     16  110\n",
       "2   1    A     16  110\n",
       "3   2    B     17   12\n",
       "4   3    C     18   13\n",
       "5   4    D     19   14\n",
       "6   5    E     20   15\n",
       "7   6    F     16   19"
      ],
      "text/html": [
       "<div>\n",
       "<style scoped>\n",
       "    .dataframe tbody tr th:only-of-type {\n",
       "        vertical-align: middle;\n",
       "    }\n",
       "\n",
       "    .dataframe tbody tr th {\n",
       "        vertical-align: top;\n",
       "    }\n",
       "\n",
       "    .dataframe thead th {\n",
       "        text-align: right;\n",
       "    }\n",
       "</style>\n",
       "<table border=\"1\" class=\"dataframe\">\n",
       "  <thead>\n",
       "    <tr style=\"text-align: right;\">\n",
       "      <th></th>\n",
       "      <th>id</th>\n",
       "      <th>name</th>\n",
       "      <th>score</th>\n",
       "      <th>age</th>\n",
       "    </tr>\n",
       "  </thead>\n",
       "  <tbody>\n",
       "    <tr>\n",
       "      <th>1</th>\n",
       "      <td>1</td>\n",
       "      <td>A</td>\n",
       "      <td>16</td>\n",
       "      <td>110</td>\n",
       "    </tr>\n",
       "    <tr>\n",
       "      <th>2</th>\n",
       "      <td>1</td>\n",
       "      <td>A</td>\n",
       "      <td>16</td>\n",
       "      <td>110</td>\n",
       "    </tr>\n",
       "    <tr>\n",
       "      <th>3</th>\n",
       "      <td>2</td>\n",
       "      <td>B</td>\n",
       "      <td>17</td>\n",
       "      <td>12</td>\n",
       "    </tr>\n",
       "    <tr>\n",
       "      <th>4</th>\n",
       "      <td>3</td>\n",
       "      <td>C</td>\n",
       "      <td>18</td>\n",
       "      <td>13</td>\n",
       "    </tr>\n",
       "    <tr>\n",
       "      <th>5</th>\n",
       "      <td>4</td>\n",
       "      <td>D</td>\n",
       "      <td>19</td>\n",
       "      <td>14</td>\n",
       "    </tr>\n",
       "    <tr>\n",
       "      <th>6</th>\n",
       "      <td>5</td>\n",
       "      <td>E</td>\n",
       "      <td>20</td>\n",
       "      <td>15</td>\n",
       "    </tr>\n",
       "    <tr>\n",
       "      <th>7</th>\n",
       "      <td>6</td>\n",
       "      <td>F</td>\n",
       "      <td>16</td>\n",
       "      <td>19</td>\n",
       "    </tr>\n",
       "  </tbody>\n",
       "</table>\n",
       "</div>"
      ]
     },
     "execution_count": 152,
     "metadata": {},
     "output_type": "execute_result"
    }
   ],
   "execution_count": 152
  },
  {
   "metadata": {
    "ExecuteTime": {
     "end_time": "2025-08-15T16:51:19.831123Z",
     "start_time": "2025-08-15T16:51:19.827155Z"
    }
   },
   "cell_type": "code",
   "source": "df",
   "id": "f80cfc17a553597e",
   "outputs": [
    {
     "data": {
      "text/plain": [
       "   id name  score  age\n",
       "1   1    A     16   11\n",
       "2   1    A     16   11\n",
       "3   2    B     17   12\n",
       "4   3    C     18   13\n",
       "5   4    D     19   14\n",
       "6   5    E     20   15\n",
       "7   6    F     16   19"
      ],
      "text/html": [
       "<div>\n",
       "<style scoped>\n",
       "    .dataframe tbody tr th:only-of-type {\n",
       "        vertical-align: middle;\n",
       "    }\n",
       "\n",
       "    .dataframe tbody tr th {\n",
       "        vertical-align: top;\n",
       "    }\n",
       "\n",
       "    .dataframe thead th {\n",
       "        text-align: right;\n",
       "    }\n",
       "</style>\n",
       "<table border=\"1\" class=\"dataframe\">\n",
       "  <thead>\n",
       "    <tr style=\"text-align: right;\">\n",
       "      <th></th>\n",
       "      <th>id</th>\n",
       "      <th>name</th>\n",
       "      <th>score</th>\n",
       "      <th>age</th>\n",
       "    </tr>\n",
       "  </thead>\n",
       "  <tbody>\n",
       "    <tr>\n",
       "      <th>1</th>\n",
       "      <td>1</td>\n",
       "      <td>A</td>\n",
       "      <td>16</td>\n",
       "      <td>11</td>\n",
       "    </tr>\n",
       "    <tr>\n",
       "      <th>2</th>\n",
       "      <td>1</td>\n",
       "      <td>A</td>\n",
       "      <td>16</td>\n",
       "      <td>11</td>\n",
       "    </tr>\n",
       "    <tr>\n",
       "      <th>3</th>\n",
       "      <td>2</td>\n",
       "      <td>B</td>\n",
       "      <td>17</td>\n",
       "      <td>12</td>\n",
       "    </tr>\n",
       "    <tr>\n",
       "      <th>4</th>\n",
       "      <td>3</td>\n",
       "      <td>C</td>\n",
       "      <td>18</td>\n",
       "      <td>13</td>\n",
       "    </tr>\n",
       "    <tr>\n",
       "      <th>5</th>\n",
       "      <td>4</td>\n",
       "      <td>D</td>\n",
       "      <td>19</td>\n",
       "      <td>14</td>\n",
       "    </tr>\n",
       "    <tr>\n",
       "      <th>6</th>\n",
       "      <td>5</td>\n",
       "      <td>E</td>\n",
       "      <td>20</td>\n",
       "      <td>15</td>\n",
       "    </tr>\n",
       "    <tr>\n",
       "      <th>7</th>\n",
       "      <td>6</td>\n",
       "      <td>F</td>\n",
       "      <td>16</td>\n",
       "      <td>19</td>\n",
       "    </tr>\n",
       "  </tbody>\n",
       "</table>\n",
       "</div>"
      ]
     },
     "execution_count": 153,
     "metadata": {},
     "output_type": "execute_result"
    }
   ],
   "execution_count": 153
  },
  {
   "metadata": {
    "ExecuteTime": {
     "end_time": "2025-08-15T16:51:28.656443Z",
     "start_time": "2025-08-15T16:51:28.651888Z"
    }
   },
   "cell_type": "code",
   "source": "df.cumsum()",
   "id": "615721f10ce0cd3c",
   "outputs": [
    {
     "data": {
      "text/plain": [
       "   id     name  score  age\n",
       "1   1        A     16   11\n",
       "2   2       AA     32   22\n",
       "3   4      AAB     49   34\n",
       "4   7     AABC     67   47\n",
       "5  11    AABCD     86   61\n",
       "6  16   AABCDE    106   76\n",
       "7  22  AABCDEF    122   95"
      ],
      "text/html": [
       "<div>\n",
       "<style scoped>\n",
       "    .dataframe tbody tr th:only-of-type {\n",
       "        vertical-align: middle;\n",
       "    }\n",
       "\n",
       "    .dataframe tbody tr th {\n",
       "        vertical-align: top;\n",
       "    }\n",
       "\n",
       "    .dataframe thead th {\n",
       "        text-align: right;\n",
       "    }\n",
       "</style>\n",
       "<table border=\"1\" class=\"dataframe\">\n",
       "  <thead>\n",
       "    <tr style=\"text-align: right;\">\n",
       "      <th></th>\n",
       "      <th>id</th>\n",
       "      <th>name</th>\n",
       "      <th>score</th>\n",
       "      <th>age</th>\n",
       "    </tr>\n",
       "  </thead>\n",
       "  <tbody>\n",
       "    <tr>\n",
       "      <th>1</th>\n",
       "      <td>1</td>\n",
       "      <td>A</td>\n",
       "      <td>16</td>\n",
       "      <td>11</td>\n",
       "    </tr>\n",
       "    <tr>\n",
       "      <th>2</th>\n",
       "      <td>2</td>\n",
       "      <td>AA</td>\n",
       "      <td>32</td>\n",
       "      <td>22</td>\n",
       "    </tr>\n",
       "    <tr>\n",
       "      <th>3</th>\n",
       "      <td>4</td>\n",
       "      <td>AAB</td>\n",
       "      <td>49</td>\n",
       "      <td>34</td>\n",
       "    </tr>\n",
       "    <tr>\n",
       "      <th>4</th>\n",
       "      <td>7</td>\n",
       "      <td>AABC</td>\n",
       "      <td>67</td>\n",
       "      <td>47</td>\n",
       "    </tr>\n",
       "    <tr>\n",
       "      <th>5</th>\n",
       "      <td>11</td>\n",
       "      <td>AABCD</td>\n",
       "      <td>86</td>\n",
       "      <td>61</td>\n",
       "    </tr>\n",
       "    <tr>\n",
       "      <th>6</th>\n",
       "      <td>16</td>\n",
       "      <td>AABCDE</td>\n",
       "      <td>106</td>\n",
       "      <td>76</td>\n",
       "    </tr>\n",
       "    <tr>\n",
       "      <th>7</th>\n",
       "      <td>22</td>\n",
       "      <td>AABCDEF</td>\n",
       "      <td>122</td>\n",
       "      <td>95</td>\n",
       "    </tr>\n",
       "  </tbody>\n",
       "</table>\n",
       "</div>"
      ]
     },
     "execution_count": 154,
     "metadata": {},
     "output_type": "execute_result"
    }
   ],
   "execution_count": 154
  },
  {
   "metadata": {
    "ExecuteTime": {
     "end_time": "2025-08-15T16:53:22.083965Z",
     "start_time": "2025-08-15T16:53:22.080846Z"
    }
   },
   "cell_type": "code",
   "source": "print(df.sort_index(ascending=False))",
   "id": "8321305c1b543842",
   "outputs": [
    {
     "name": "stdout",
     "output_type": "stream",
     "text": [
      "   id name  score  age\n",
      "7   6    F     16   19\n",
      "6   5    E     20   15\n",
      "5   4    D     19   14\n",
      "4   3    C     18   13\n",
      "3   2    B     17   12\n",
      "2   1    A     16   11\n",
      "1   1    A     16   11\n"
     ]
    }
   ],
   "execution_count": 156
  },
  {
   "metadata": {
    "ExecuteTime": {
     "end_time": "2025-08-15T16:58:05.919078Z",
     "start_time": "2025-08-15T16:58:05.914981Z"
    }
   },
   "cell_type": "code",
   "source": "print(df.sort_values(by=['score','age'],ascending=[True,False]))",
   "id": "b3f5a45c53dc73d6",
   "outputs": [
    {
     "name": "stdout",
     "output_type": "stream",
     "text": [
      "   id name  score  age\n",
      "7   6    F     16   19\n",
      "1   1    A     16   11\n",
      "2   1    A     16   11\n",
      "3   2    B     17   12\n",
      "4   3    C     18   13\n",
      "5   4    D     19   14\n",
      "6   5    E     20   15\n"
     ]
    }
   ],
   "execution_count": 161
  },
  {
   "metadata": {
    "ExecuteTime": {
     "end_time": "2025-08-15T16:58:50.339669Z",
     "start_time": "2025-08-15T16:58:50.090458Z"
    }
   },
   "cell_type": "code",
   "source": "df.nlargest(2,columns=['score','age'])",
   "id": "b041a92c85f73309",
   "outputs": [
    {
     "data": {
      "text/plain": [
       "   id name  score  age\n",
       "6   5    E     20   15\n",
       "5   4    D     19   14"
      ],
      "text/html": [
       "<div>\n",
       "<style scoped>\n",
       "    .dataframe tbody tr th:only-of-type {\n",
       "        vertical-align: middle;\n",
       "    }\n",
       "\n",
       "    .dataframe tbody tr th {\n",
       "        vertical-align: top;\n",
       "    }\n",
       "\n",
       "    .dataframe thead th {\n",
       "        text-align: right;\n",
       "    }\n",
       "</style>\n",
       "<table border=\"1\" class=\"dataframe\">\n",
       "  <thead>\n",
       "    <tr style=\"text-align: right;\">\n",
       "      <th></th>\n",
       "      <th>id</th>\n",
       "      <th>name</th>\n",
       "      <th>score</th>\n",
       "      <th>age</th>\n",
       "    </tr>\n",
       "  </thead>\n",
       "  <tbody>\n",
       "    <tr>\n",
       "      <th>6</th>\n",
       "      <td>5</td>\n",
       "      <td>E</td>\n",
       "      <td>20</td>\n",
       "      <td>15</td>\n",
       "    </tr>\n",
       "    <tr>\n",
       "      <th>5</th>\n",
       "      <td>4</td>\n",
       "      <td>D</td>\n",
       "      <td>19</td>\n",
       "      <td>14</td>\n",
       "    </tr>\n",
       "  </tbody>\n",
       "</table>\n",
       "</div>"
      ]
     },
     "execution_count": 162,
     "metadata": {},
     "output_type": "execute_result"
    }
   ],
   "execution_count": 162
  },
  {
   "metadata": {
    "ExecuteTime": {
     "end_time": "2025-08-15T16:59:18.636873Z",
     "start_time": "2025-08-15T16:59:18.631377Z"
    }
   },
   "cell_type": "code",
   "source": "df.nsmallest(2,columns=['score','age'])",
   "id": "9919faee24bb5187",
   "outputs": [
    {
     "data": {
      "text/plain": [
       "   id name  score  age\n",
       "1   1    A     16   11\n",
       "2   1    A     16   11"
      ],
      "text/html": [
       "<div>\n",
       "<style scoped>\n",
       "    .dataframe tbody tr th:only-of-type {\n",
       "        vertical-align: middle;\n",
       "    }\n",
       "\n",
       "    .dataframe tbody tr th {\n",
       "        vertical-align: top;\n",
       "    }\n",
       "\n",
       "    .dataframe thead th {\n",
       "        text-align: right;\n",
       "    }\n",
       "</style>\n",
       "<table border=\"1\" class=\"dataframe\">\n",
       "  <thead>\n",
       "    <tr style=\"text-align: right;\">\n",
       "      <th></th>\n",
       "      <th>id</th>\n",
       "      <th>name</th>\n",
       "      <th>score</th>\n",
       "      <th>age</th>\n",
       "    </tr>\n",
       "  </thead>\n",
       "  <tbody>\n",
       "    <tr>\n",
       "      <th>1</th>\n",
       "      <td>1</td>\n",
       "      <td>A</td>\n",
       "      <td>16</td>\n",
       "      <td>11</td>\n",
       "    </tr>\n",
       "    <tr>\n",
       "      <th>2</th>\n",
       "      <td>1</td>\n",
       "      <td>A</td>\n",
       "      <td>16</td>\n",
       "      <td>11</td>\n",
       "    </tr>\n",
       "  </tbody>\n",
       "</table>\n",
       "</div>"
      ]
     },
     "execution_count": 163,
     "metadata": {},
     "output_type": "execute_result"
    }
   ],
   "execution_count": 163
  },
  {
   "metadata": {},
   "cell_type": "code",
   "outputs": [],
   "execution_count": null,
   "source": "",
   "id": "700445e0dc80c73a"
  }
 ],
 "metadata": {
  "kernelspec": {
   "display_name": "Python 3",
   "language": "python",
   "name": "python3"
  },
  "language_info": {
   "codemirror_mode": {
    "name": "ipython",
    "version": 2
   },
   "file_extension": ".py",
   "mimetype": "text/x-python",
   "name": "python",
   "nbconvert_exporter": "python",
   "pygments_lexer": "ipython2",
   "version": "2.7.6"
  }
 },
 "nbformat": 4,
 "nbformat_minor": 5
}
