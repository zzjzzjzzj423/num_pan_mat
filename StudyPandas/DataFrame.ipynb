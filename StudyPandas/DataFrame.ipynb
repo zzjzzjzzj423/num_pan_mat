{
 "cells": [
  {
   "metadata": {},
   "cell_type": "raw",
   "source": "# DataFrame创建",
   "id": "a73e50910925ded0"
  },
  {
   "metadata": {},
   "cell_type": "markdown",
   "source": "# DataFrame创建",
   "id": "2718ff55e82d9cc3"
  },
  {
   "metadata": {
    "ExecuteTime": {
     "end_time": "2025-08-17T02:53:31.173880Z",
     "start_time": "2025-08-17T02:53:31.160682Z"
    }
   },
   "cell_type": "code",
   "source": [
    "import pandas as pd\n",
    "import numpy as np\n",
    "\n",
    "s1=pd.Series([1,2,3,4,5])\n",
    "s2=pd.Series([6,7,8,9,10])\n",
    "df=pd.DataFrame({\"First\":s1,\"Second\":s2})\n",
    "df"
   ],
   "id": "b3a234f65c7b8da1",
   "outputs": [
    {
     "data": {
      "text/plain": [
       "   First  Second\n",
       "0      1       6\n",
       "1      2       7\n",
       "2      3       8\n",
       "3      4       9\n",
       "4      5      10"
      ],
      "text/html": [
       "<div>\n",
       "<style scoped>\n",
       "    .dataframe tbody tr th:only-of-type {\n",
       "        vertical-align: middle;\n",
       "    }\n",
       "\n",
       "    .dataframe tbody tr th {\n",
       "        vertical-align: top;\n",
       "    }\n",
       "\n",
       "    .dataframe thead th {\n",
       "        text-align: right;\n",
       "    }\n",
       "</style>\n",
       "<table border=\"1\" class=\"dataframe\">\n",
       "  <thead>\n",
       "    <tr style=\"text-align: right;\">\n",
       "      <th></th>\n",
       "      <th>First</th>\n",
       "      <th>Second</th>\n",
       "    </tr>\n",
       "  </thead>\n",
       "  <tbody>\n",
       "    <tr>\n",
       "      <th>0</th>\n",
       "      <td>1</td>\n",
       "      <td>6</td>\n",
       "    </tr>\n",
       "    <tr>\n",
       "      <th>1</th>\n",
       "      <td>2</td>\n",
       "      <td>7</td>\n",
       "    </tr>\n",
       "    <tr>\n",
       "      <th>2</th>\n",
       "      <td>3</td>\n",
       "      <td>8</td>\n",
       "    </tr>\n",
       "    <tr>\n",
       "      <th>3</th>\n",
       "      <td>4</td>\n",
       "      <td>9</td>\n",
       "    </tr>\n",
       "    <tr>\n",
       "      <th>4</th>\n",
       "      <td>5</td>\n",
       "      <td>10</td>\n",
       "    </tr>\n",
       "  </tbody>\n",
       "</table>\n",
       "</div>"
      ]
     },
     "execution_count": 4,
     "metadata": {},
     "output_type": "execute_result"
    }
   ],
   "execution_count": 4
  },
  {
   "metadata": {
    "ExecuteTime": {
     "end_time": "2025-08-17T02:53:31.268162Z",
     "start_time": "2025-08-17T02:53:31.263823Z"
    }
   },
   "cell_type": "code",
   "source": [
    "df=pd.DataFrame({\n",
    "    \"id\":[1,2,3,4,5],\n",
    "    \"name\":[\"A\",\"B\",\"C\",\"D\",\"E\"],\n",
    "    \"age\":[11,12,13,14,15],\n",
    "    \"score\":[16,17,18,19,20]\n",
    "},index=[1,2,3,4,5])\n",
    "df"
   ],
   "id": "14c5ed3f78f9a362",
   "outputs": [
    {
     "data": {
      "text/plain": [
       "   id name  age  score\n",
       "1   1    A   11     16\n",
       "2   2    B   12     17\n",
       "3   3    C   13     18\n",
       "4   4    D   14     19\n",
       "5   5    E   15     20"
      ],
      "text/html": [
       "<div>\n",
       "<style scoped>\n",
       "    .dataframe tbody tr th:only-of-type {\n",
       "        vertical-align: middle;\n",
       "    }\n",
       "\n",
       "    .dataframe tbody tr th {\n",
       "        vertical-align: top;\n",
       "    }\n",
       "\n",
       "    .dataframe thead th {\n",
       "        text-align: right;\n",
       "    }\n",
       "</style>\n",
       "<table border=\"1\" class=\"dataframe\">\n",
       "  <thead>\n",
       "    <tr style=\"text-align: right;\">\n",
       "      <th></th>\n",
       "      <th>id</th>\n",
       "      <th>name</th>\n",
       "      <th>age</th>\n",
       "      <th>score</th>\n",
       "    </tr>\n",
       "  </thead>\n",
       "  <tbody>\n",
       "    <tr>\n",
       "      <th>1</th>\n",
       "      <td>1</td>\n",
       "      <td>A</td>\n",
       "      <td>11</td>\n",
       "      <td>16</td>\n",
       "    </tr>\n",
       "    <tr>\n",
       "      <th>2</th>\n",
       "      <td>2</td>\n",
       "      <td>B</td>\n",
       "      <td>12</td>\n",
       "      <td>17</td>\n",
       "    </tr>\n",
       "    <tr>\n",
       "      <th>3</th>\n",
       "      <td>3</td>\n",
       "      <td>C</td>\n",
       "      <td>13</td>\n",
       "      <td>18</td>\n",
       "    </tr>\n",
       "    <tr>\n",
       "      <th>4</th>\n",
       "      <td>4</td>\n",
       "      <td>D</td>\n",
       "      <td>14</td>\n",
       "      <td>19</td>\n",
       "    </tr>\n",
       "    <tr>\n",
       "      <th>5</th>\n",
       "      <td>5</td>\n",
       "      <td>E</td>\n",
       "      <td>15</td>\n",
       "      <td>20</td>\n",
       "    </tr>\n",
       "  </tbody>\n",
       "</table>\n",
       "</div>"
      ]
     },
     "execution_count": 5,
     "metadata": {},
     "output_type": "execute_result"
    }
   ],
   "execution_count": 5
  },
  {
   "metadata": {
    "ExecuteTime": {
     "end_time": "2025-08-17T02:53:31.512893Z",
     "start_time": "2025-08-17T02:53:31.505547Z"
    }
   },
   "cell_type": "code",
   "source": [
    "df=pd.DataFrame({\n",
    "    \"id\":[1,1,2,3,4,5,6],\n",
    "    \"name\":[\"A\",\"A\",\"B\",\"C\",\"D\",\"E\",'F'],\n",
    "    \"age\":[11,11,12,13,14,15,19],\n",
    "    \"score\":[16,16,17,18,19,20,16]\n",
    "},index=[1,2,3,4,5,6,7],columns=[\"id\",\"name\",\"score\",\"age\"])\n",
    "df"
   ],
   "id": "5867b154a34e7c48",
   "outputs": [
    {
     "data": {
      "text/plain": [
       "   id name  score  age\n",
       "1   1    A     16   11\n",
       "2   1    A     16   11\n",
       "3   2    B     17   12\n",
       "4   3    C     18   13\n",
       "5   4    D     19   14\n",
       "6   5    E     20   15\n",
       "7   6    F     16   19"
      ],
      "text/html": [
       "<div>\n",
       "<style scoped>\n",
       "    .dataframe tbody tr th:only-of-type {\n",
       "        vertical-align: middle;\n",
       "    }\n",
       "\n",
       "    .dataframe tbody tr th {\n",
       "        vertical-align: top;\n",
       "    }\n",
       "\n",
       "    .dataframe thead th {\n",
       "        text-align: right;\n",
       "    }\n",
       "</style>\n",
       "<table border=\"1\" class=\"dataframe\">\n",
       "  <thead>\n",
       "    <tr style=\"text-align: right;\">\n",
       "      <th></th>\n",
       "      <th>id</th>\n",
       "      <th>name</th>\n",
       "      <th>score</th>\n",
       "      <th>age</th>\n",
       "    </tr>\n",
       "  </thead>\n",
       "  <tbody>\n",
       "    <tr>\n",
       "      <th>1</th>\n",
       "      <td>1</td>\n",
       "      <td>A</td>\n",
       "      <td>16</td>\n",
       "      <td>11</td>\n",
       "    </tr>\n",
       "    <tr>\n",
       "      <th>2</th>\n",
       "      <td>1</td>\n",
       "      <td>A</td>\n",
       "      <td>16</td>\n",
       "      <td>11</td>\n",
       "    </tr>\n",
       "    <tr>\n",
       "      <th>3</th>\n",
       "      <td>2</td>\n",
       "      <td>B</td>\n",
       "      <td>17</td>\n",
       "      <td>12</td>\n",
       "    </tr>\n",
       "    <tr>\n",
       "      <th>4</th>\n",
       "      <td>3</td>\n",
       "      <td>C</td>\n",
       "      <td>18</td>\n",
       "      <td>13</td>\n",
       "    </tr>\n",
       "    <tr>\n",
       "      <th>5</th>\n",
       "      <td>4</td>\n",
       "      <td>D</td>\n",
       "      <td>19</td>\n",
       "      <td>14</td>\n",
       "    </tr>\n",
       "    <tr>\n",
       "      <th>6</th>\n",
       "      <td>5</td>\n",
       "      <td>E</td>\n",
       "      <td>20</td>\n",
       "      <td>15</td>\n",
       "    </tr>\n",
       "    <tr>\n",
       "      <th>7</th>\n",
       "      <td>6</td>\n",
       "      <td>F</td>\n",
       "      <td>16</td>\n",
       "      <td>19</td>\n",
       "    </tr>\n",
       "  </tbody>\n",
       "</table>\n",
       "</div>"
      ]
     },
     "execution_count": 6,
     "metadata": {},
     "output_type": "execute_result"
    }
   ],
   "execution_count": 6
  },
  {
   "metadata": {},
   "cell_type": "markdown",
   "source": "# DataFrame的属性",
   "id": "94acd95e6a0ab6ce"
  },
  {
   "metadata": {
    "ExecuteTime": {
     "end_time": "2025-08-17T02:53:31.693800Z",
     "start_time": "2025-08-17T02:53:31.690519Z"
    }
   },
   "cell_type": "code",
   "source": [
    "print(\"行索引：\")\n",
    "print(df.index)\n",
    "print(\"列标签\")\n",
    "print(df.columns)\n",
    "print(\"值\")\n",
    "print(df.values)"
   ],
   "id": "b3b8e7e1f046dd87",
   "outputs": [
    {
     "name": "stdout",
     "output_type": "stream",
     "text": [
      "行索引：\n",
      "Index([1, 2, 3, 4, 5, 6, 7], dtype='int64')\n",
      "列标签\n",
      "Index(['id', 'name', 'score', 'age'], dtype='object')\n",
      "值\n",
      "[[1 'A' 16 11]\n",
      " [1 'A' 16 11]\n",
      " [2 'B' 17 12]\n",
      " [3 'C' 18 13]\n",
      " [4 'D' 19 14]\n",
      " [5 'E' 20 15]\n",
      " [6 'F' 16 19]]\n"
     ]
    }
   ],
   "execution_count": 7
  },
  {
   "metadata": {
    "ExecuteTime": {
     "end_time": "2025-08-17T02:53:31.829177Z",
     "start_time": "2025-08-17T02:53:31.826097Z"
    }
   },
   "cell_type": "code",
   "source": [
    "print('维度',df.ndim)\n",
    "print(\"形状:\",df.shape)\n",
    "print('个数',df.size)\n",
    "print('数据类型:',df.dtypes)"
   ],
   "id": "79658175bf94091e",
   "outputs": [
    {
     "name": "stdout",
     "output_type": "stream",
     "text": [
      "维度 2\n",
      "形状: (7, 4)\n",
      "个数 28\n",
      "数据类型: id        int64\n",
      "name     object\n",
      "score     int64\n",
      "age       int64\n",
      "dtype: object\n"
     ]
    }
   ],
   "execution_count": 8
  },
  {
   "metadata": {
    "ExecuteTime": {
     "end_time": "2025-08-17T02:53:31.936309Z",
     "start_time": "2025-08-17T02:53:31.932212Z"
    }
   },
   "cell_type": "code",
   "source": "print(df.T)",
   "id": "9c792fa4a180e4c9",
   "outputs": [
    {
     "name": "stdout",
     "output_type": "stream",
     "text": [
      "        1   2   3   4   5   6   7\n",
      "id      1   1   2   3   4   5   6\n",
      "name    A   A   B   C   D   E   F\n",
      "score  16  16  17  18  19  20  16\n",
      "age    11  11  12  13  14  15  19\n"
     ]
    }
   ],
   "execution_count": 9
  },
  {
   "metadata": {
    "ExecuteTime": {
     "end_time": "2025-08-17T02:53:31.991919Z",
     "start_time": "2025-08-17T02:53:31.988120Z"
    }
   },
   "cell_type": "code",
   "source": "df",
   "id": "192520304a454396",
   "outputs": [
    {
     "data": {
      "text/plain": [
       "   id name  score  age\n",
       "1   1    A     16   11\n",
       "2   1    A     16   11\n",
       "3   2    B     17   12\n",
       "4   3    C     18   13\n",
       "5   4    D     19   14\n",
       "6   5    E     20   15\n",
       "7   6    F     16   19"
      ],
      "text/html": [
       "<div>\n",
       "<style scoped>\n",
       "    .dataframe tbody tr th:only-of-type {\n",
       "        vertical-align: middle;\n",
       "    }\n",
       "\n",
       "    .dataframe tbody tr th {\n",
       "        vertical-align: top;\n",
       "    }\n",
       "\n",
       "    .dataframe thead th {\n",
       "        text-align: right;\n",
       "    }\n",
       "</style>\n",
       "<table border=\"1\" class=\"dataframe\">\n",
       "  <thead>\n",
       "    <tr style=\"text-align: right;\">\n",
       "      <th></th>\n",
       "      <th>id</th>\n",
       "      <th>name</th>\n",
       "      <th>score</th>\n",
       "      <th>age</th>\n",
       "    </tr>\n",
       "  </thead>\n",
       "  <tbody>\n",
       "    <tr>\n",
       "      <th>1</th>\n",
       "      <td>1</td>\n",
       "      <td>A</td>\n",
       "      <td>16</td>\n",
       "      <td>11</td>\n",
       "    </tr>\n",
       "    <tr>\n",
       "      <th>2</th>\n",
       "      <td>1</td>\n",
       "      <td>A</td>\n",
       "      <td>16</td>\n",
       "      <td>11</td>\n",
       "    </tr>\n",
       "    <tr>\n",
       "      <th>3</th>\n",
       "      <td>2</td>\n",
       "      <td>B</td>\n",
       "      <td>17</td>\n",
       "      <td>12</td>\n",
       "    </tr>\n",
       "    <tr>\n",
       "      <th>4</th>\n",
       "      <td>3</td>\n",
       "      <td>C</td>\n",
       "      <td>18</td>\n",
       "      <td>13</td>\n",
       "    </tr>\n",
       "    <tr>\n",
       "      <th>5</th>\n",
       "      <td>4</td>\n",
       "      <td>D</td>\n",
       "      <td>19</td>\n",
       "      <td>14</td>\n",
       "    </tr>\n",
       "    <tr>\n",
       "      <th>6</th>\n",
       "      <td>5</td>\n",
       "      <td>E</td>\n",
       "      <td>20</td>\n",
       "      <td>15</td>\n",
       "    </tr>\n",
       "    <tr>\n",
       "      <th>7</th>\n",
       "      <td>6</td>\n",
       "      <td>F</td>\n",
       "      <td>16</td>\n",
       "      <td>19</td>\n",
       "    </tr>\n",
       "  </tbody>\n",
       "</table>\n",
       "</div>"
      ]
     },
     "execution_count": 10,
     "metadata": {},
     "output_type": "execute_result"
    }
   ],
   "execution_count": 10
  },
  {
   "metadata": {
    "ExecuteTime": {
     "end_time": "2025-08-17T02:53:32.041397Z",
     "start_time": "2025-08-17T02:53:32.038094Z"
    }
   },
   "cell_type": "code",
   "source": [
    "#获取元素  loc iloc at iat\n",
    "df.loc[2]"
   ],
   "id": "4b2a8f74afe94a42",
   "outputs": [
    {
     "data": {
      "text/plain": [
       "id        1\n",
       "name      A\n",
       "score    16\n",
       "age      11\n",
       "Name: 2, dtype: object"
      ]
     },
     "execution_count": 11,
     "metadata": {},
     "output_type": "execute_result"
    }
   ],
   "execution_count": 11
  },
  {
   "metadata": {
    "ExecuteTime": {
     "end_time": "2025-08-17T02:53:32.223110Z",
     "start_time": "2025-08-17T02:53:32.219087Z"
    }
   },
   "cell_type": "code",
   "source": "df.iloc[1]",
   "id": "a9d1bb4e786b3c7e",
   "outputs": [
    {
     "data": {
      "text/plain": [
       "id        1\n",
       "name      A\n",
       "score    16\n",
       "age      11\n",
       "Name: 2, dtype: object"
      ]
     },
     "execution_count": 12,
     "metadata": {},
     "output_type": "execute_result"
    }
   ],
   "execution_count": 12
  },
  {
   "metadata": {
    "ExecuteTime": {
     "end_time": "2025-08-17T02:53:32.351209Z",
     "start_time": "2025-08-17T02:53:32.347870Z"
    }
   },
   "cell_type": "code",
   "source": "print(df.loc[:,'name'])",
   "id": "4f206bce45bbca7b",
   "outputs": [
    {
     "name": "stdout",
     "output_type": "stream",
     "text": [
      "1    A\n",
      "2    A\n",
      "3    B\n",
      "4    C\n",
      "5    D\n",
      "6    E\n",
      "7    F\n",
      "Name: name, dtype: object\n"
     ]
    }
   ],
   "execution_count": 13
  },
  {
   "metadata": {
    "ExecuteTime": {
     "end_time": "2025-08-17T02:53:32.495347Z",
     "start_time": "2025-08-17T02:53:32.492973Z"
    }
   },
   "cell_type": "code",
   "source": "print(df.iloc[:,1])",
   "id": "802a9b7e9f1d22bb",
   "outputs": [
    {
     "name": "stdout",
     "output_type": "stream",
     "text": [
      "1    A\n",
      "2    A\n",
      "3    B\n",
      "4    C\n",
      "5    D\n",
      "6    E\n",
      "7    F\n",
      "Name: name, dtype: object\n"
     ]
    }
   ],
   "execution_count": 14
  },
  {
   "metadata": {
    "ExecuteTime": {
     "end_time": "2025-08-17T02:53:32.564029Z",
     "start_time": "2025-08-17T02:53:32.561395Z"
    }
   },
   "cell_type": "code",
   "source": "print(df.at[2,'name'])",
   "id": "3fae376e76724e7d",
   "outputs": [
    {
     "name": "stdout",
     "output_type": "stream",
     "text": [
      "A\n"
     ]
    }
   ],
   "execution_count": 15
  },
  {
   "metadata": {
    "ExecuteTime": {
     "end_time": "2025-08-17T02:53:32.621011Z",
     "start_time": "2025-08-17T02:53:32.618235Z"
    }
   },
   "cell_type": "code",
   "source": "print(df.iat[1,1])",
   "id": "8611cc0a2923f1",
   "outputs": [
    {
     "name": "stdout",
     "output_type": "stream",
     "text": [
      "A\n"
     ]
    }
   ],
   "execution_count": 16
  },
  {
   "metadata": {},
   "cell_type": "markdown",
   "source": "# 访问方式",
   "id": "82dc4ba7e3651c5e"
  },
  {
   "metadata": {
    "ExecuteTime": {
     "end_time": "2025-08-17T02:53:32.682738Z",
     "start_time": "2025-08-17T02:53:32.679988Z"
    }
   },
   "cell_type": "code",
   "source": [
    "#获取单列数据\n",
    "print(df['name'])"
   ],
   "id": "26cdc6704aeeb94c",
   "outputs": [
    {
     "name": "stdout",
     "output_type": "stream",
     "text": [
      "1    A\n",
      "2    A\n",
      "3    B\n",
      "4    C\n",
      "5    D\n",
      "6    E\n",
      "7    F\n",
      "Name: name, dtype: object\n"
     ]
    }
   ],
   "execution_count": 17
  },
  {
   "metadata": {
    "ExecuteTime": {
     "end_time": "2025-08-17T02:53:32.750729Z",
     "start_time": "2025-08-17T02:53:32.747913Z"
    }
   },
   "cell_type": "code",
   "source": "print(df.name)",
   "id": "326de77d60b5ebd",
   "outputs": [
    {
     "name": "stdout",
     "output_type": "stream",
     "text": [
      "1    A\n",
      "2    A\n",
      "3    B\n",
      "4    C\n",
      "5    D\n",
      "6    E\n",
      "7    F\n",
      "Name: name, dtype: object\n"
     ]
    }
   ],
   "execution_count": 18
  },
  {
   "metadata": {
    "ExecuteTime": {
     "end_time": "2025-08-17T02:53:32.811859Z",
     "start_time": "2025-08-17T02:53:32.806345Z"
    }
   },
   "cell_type": "code",
   "source": [
    "#多列数据\n",
    "print(df[['id','name']])"
   ],
   "id": "33719509e78bcd82",
   "outputs": [
    {
     "name": "stdout",
     "output_type": "stream",
     "text": [
      "   id name\n",
      "1   1    A\n",
      "2   1    A\n",
      "3   2    B\n",
      "4   3    C\n",
      "5   4    D\n",
      "6   5    E\n",
      "7   6    F\n"
     ]
    }
   ],
   "execution_count": 19
  },
  {
   "metadata": {
    "ExecuteTime": {
     "end_time": "2025-08-17T02:53:32.855223Z",
     "start_time": "2025-08-17T02:53:32.852177Z"
    }
   },
   "cell_type": "code",
   "source": "print(df.head(2))",
   "id": "9c926f3fb189d1bc",
   "outputs": [
    {
     "name": "stdout",
     "output_type": "stream",
     "text": [
      "   id name  score  age\n",
      "1   1    A     16   11\n",
      "2   1    A     16   11\n"
     ]
    }
   ],
   "execution_count": 20
  },
  {
   "metadata": {
    "ExecuteTime": {
     "end_time": "2025-08-17T02:53:32.907394Z",
     "start_time": "2025-08-17T02:53:32.903912Z"
    }
   },
   "cell_type": "code",
   "source": "print(df.tail(2))",
   "id": "8a4f0d2757170a20",
   "outputs": [
    {
     "name": "stdout",
     "output_type": "stream",
     "text": [
      "   id name  score  age\n",
      "6   5    E     20   15\n",
      "7   6    F     16   19\n"
     ]
    }
   ],
   "execution_count": 21
  },
  {
   "metadata": {
    "ExecuteTime": {
     "end_time": "2025-08-17T02:53:32.968071Z",
     "start_time": "2025-08-17T02:53:32.964254Z"
    }
   },
   "cell_type": "code",
   "source": "df",
   "id": "742c38c8d899907e",
   "outputs": [
    {
     "data": {
      "text/plain": [
       "   id name  score  age\n",
       "1   1    A     16   11\n",
       "2   1    A     16   11\n",
       "3   2    B     17   12\n",
       "4   3    C     18   13\n",
       "5   4    D     19   14\n",
       "6   5    E     20   15\n",
       "7   6    F     16   19"
      ],
      "text/html": [
       "<div>\n",
       "<style scoped>\n",
       "    .dataframe tbody tr th:only-of-type {\n",
       "        vertical-align: middle;\n",
       "    }\n",
       "\n",
       "    .dataframe tbody tr th {\n",
       "        vertical-align: top;\n",
       "    }\n",
       "\n",
       "    .dataframe thead th {\n",
       "        text-align: right;\n",
       "    }\n",
       "</style>\n",
       "<table border=\"1\" class=\"dataframe\">\n",
       "  <thead>\n",
       "    <tr style=\"text-align: right;\">\n",
       "      <th></th>\n",
       "      <th>id</th>\n",
       "      <th>name</th>\n",
       "      <th>score</th>\n",
       "      <th>age</th>\n",
       "    </tr>\n",
       "  </thead>\n",
       "  <tbody>\n",
       "    <tr>\n",
       "      <th>1</th>\n",
       "      <td>1</td>\n",
       "      <td>A</td>\n",
       "      <td>16</td>\n",
       "      <td>11</td>\n",
       "    </tr>\n",
       "    <tr>\n",
       "      <th>2</th>\n",
       "      <td>1</td>\n",
       "      <td>A</td>\n",
       "      <td>16</td>\n",
       "      <td>11</td>\n",
       "    </tr>\n",
       "    <tr>\n",
       "      <th>3</th>\n",
       "      <td>2</td>\n",
       "      <td>B</td>\n",
       "      <td>17</td>\n",
       "      <td>12</td>\n",
       "    </tr>\n",
       "    <tr>\n",
       "      <th>4</th>\n",
       "      <td>3</td>\n",
       "      <td>C</td>\n",
       "      <td>18</td>\n",
       "      <td>13</td>\n",
       "    </tr>\n",
       "    <tr>\n",
       "      <th>5</th>\n",
       "      <td>4</td>\n",
       "      <td>D</td>\n",
       "      <td>19</td>\n",
       "      <td>14</td>\n",
       "    </tr>\n",
       "    <tr>\n",
       "      <th>6</th>\n",
       "      <td>5</td>\n",
       "      <td>E</td>\n",
       "      <td>20</td>\n",
       "      <td>15</td>\n",
       "    </tr>\n",
       "    <tr>\n",
       "      <th>7</th>\n",
       "      <td>6</td>\n",
       "      <td>F</td>\n",
       "      <td>16</td>\n",
       "      <td>19</td>\n",
       "    </tr>\n",
       "  </tbody>\n",
       "</table>\n",
       "</div>"
      ]
     },
     "execution_count": 22,
     "metadata": {},
     "output_type": "execute_result"
    }
   ],
   "execution_count": 22
  },
  {
   "metadata": {
    "ExecuteTime": {
     "end_time": "2025-08-17T02:53:33.015902Z",
     "start_time": "2025-08-17T02:53:33.011766Z"
    }
   },
   "cell_type": "code",
   "source": "df[df.score>18]",
   "id": "6668445813a655ed",
   "outputs": [
    {
     "data": {
      "text/plain": [
       "   id name  score  age\n",
       "5   4    D     19   14\n",
       "6   5    E     20   15"
      ],
      "text/html": [
       "<div>\n",
       "<style scoped>\n",
       "    .dataframe tbody tr th:only-of-type {\n",
       "        vertical-align: middle;\n",
       "    }\n",
       "\n",
       "    .dataframe tbody tr th {\n",
       "        vertical-align: top;\n",
       "    }\n",
       "\n",
       "    .dataframe thead th {\n",
       "        text-align: right;\n",
       "    }\n",
       "</style>\n",
       "<table border=\"1\" class=\"dataframe\">\n",
       "  <thead>\n",
       "    <tr style=\"text-align: right;\">\n",
       "      <th></th>\n",
       "      <th>id</th>\n",
       "      <th>name</th>\n",
       "      <th>score</th>\n",
       "      <th>age</th>\n",
       "    </tr>\n",
       "  </thead>\n",
       "  <tbody>\n",
       "    <tr>\n",
       "      <th>5</th>\n",
       "      <td>4</td>\n",
       "      <td>D</td>\n",
       "      <td>19</td>\n",
       "      <td>14</td>\n",
       "    </tr>\n",
       "    <tr>\n",
       "      <th>6</th>\n",
       "      <td>5</td>\n",
       "      <td>E</td>\n",
       "      <td>20</td>\n",
       "      <td>15</td>\n",
       "    </tr>\n",
       "  </tbody>\n",
       "</table>\n",
       "</div>"
      ]
     },
     "execution_count": 23,
     "metadata": {},
     "output_type": "execute_result"
    }
   ],
   "execution_count": 23
  },
  {
   "metadata": {
    "ExecuteTime": {
     "end_time": "2025-08-17T02:53:33.135295Z",
     "start_time": "2025-08-17T02:53:33.131311Z"
    }
   },
   "cell_type": "code",
   "source": "df[(df.score>18)&(df.age>14)]",
   "id": "45a1e0949b7405b6",
   "outputs": [
    {
     "data": {
      "text/plain": [
       "   id name  score  age\n",
       "6   5    E     20   15"
      ],
      "text/html": [
       "<div>\n",
       "<style scoped>\n",
       "    .dataframe tbody tr th:only-of-type {\n",
       "        vertical-align: middle;\n",
       "    }\n",
       "\n",
       "    .dataframe tbody tr th {\n",
       "        vertical-align: top;\n",
       "    }\n",
       "\n",
       "    .dataframe thead th {\n",
       "        text-align: right;\n",
       "    }\n",
       "</style>\n",
       "<table border=\"1\" class=\"dataframe\">\n",
       "  <thead>\n",
       "    <tr style=\"text-align: right;\">\n",
       "      <th></th>\n",
       "      <th>id</th>\n",
       "      <th>name</th>\n",
       "      <th>score</th>\n",
       "      <th>age</th>\n",
       "    </tr>\n",
       "  </thead>\n",
       "  <tbody>\n",
       "    <tr>\n",
       "      <th>6</th>\n",
       "      <td>5</td>\n",
       "      <td>E</td>\n",
       "      <td>20</td>\n",
       "      <td>15</td>\n",
       "    </tr>\n",
       "  </tbody>\n",
       "</table>\n",
       "</div>"
      ]
     },
     "execution_count": 24,
     "metadata": {},
     "output_type": "execute_result"
    }
   ],
   "execution_count": 24
  },
  {
   "metadata": {
    "ExecuteTime": {
     "end_time": "2025-08-17T02:53:33.314573Z",
     "start_time": "2025-08-17T02:53:33.309330Z"
    }
   },
   "cell_type": "code",
   "source": [
    "# 随机抽样\n",
    "df.sample(3)"
   ],
   "id": "84977be3d30aaab3",
   "outputs": [
    {
     "data": {
      "text/plain": [
       "   id name  score  age\n",
       "4   3    C     18   13\n",
       "7   6    F     16   19\n",
       "5   4    D     19   14"
      ],
      "text/html": [
       "<div>\n",
       "<style scoped>\n",
       "    .dataframe tbody tr th:only-of-type {\n",
       "        vertical-align: middle;\n",
       "    }\n",
       "\n",
       "    .dataframe tbody tr th {\n",
       "        vertical-align: top;\n",
       "    }\n",
       "\n",
       "    .dataframe thead th {\n",
       "        text-align: right;\n",
       "    }\n",
       "</style>\n",
       "<table border=\"1\" class=\"dataframe\">\n",
       "  <thead>\n",
       "    <tr style=\"text-align: right;\">\n",
       "      <th></th>\n",
       "      <th>id</th>\n",
       "      <th>name</th>\n",
       "      <th>score</th>\n",
       "      <th>age</th>\n",
       "    </tr>\n",
       "  </thead>\n",
       "  <tbody>\n",
       "    <tr>\n",
       "      <th>4</th>\n",
       "      <td>3</td>\n",
       "      <td>C</td>\n",
       "      <td>18</td>\n",
       "      <td>13</td>\n",
       "    </tr>\n",
       "    <tr>\n",
       "      <th>7</th>\n",
       "      <td>6</td>\n",
       "      <td>F</td>\n",
       "      <td>16</td>\n",
       "      <td>19</td>\n",
       "    </tr>\n",
       "    <tr>\n",
       "      <th>5</th>\n",
       "      <td>4</td>\n",
       "      <td>D</td>\n",
       "      <td>19</td>\n",
       "      <td>14</td>\n",
       "    </tr>\n",
       "  </tbody>\n",
       "</table>\n",
       "</div>"
      ]
     },
     "execution_count": 25,
     "metadata": {},
     "output_type": "execute_result"
    }
   ],
   "execution_count": 25
  },
  {
   "metadata": {
    "ExecuteTime": {
     "end_time": "2025-08-17T02:53:33.463630Z",
     "start_time": "2025-08-17T02:53:33.457791Z"
    }
   },
   "cell_type": "code",
   "source": "print(df.isin(['B',15])) # 查看元素是否包含",
   "id": "73bc4d0f9c87c1eb",
   "outputs": [
    {
     "name": "stdout",
     "output_type": "stream",
     "text": [
      "      id   name  score    age\n",
      "1  False  False  False  False\n",
      "2  False  False  False  False\n",
      "3  False   True  False  False\n",
      "4  False  False  False  False\n",
      "5  False  False  False  False\n",
      "6  False  False  False   True\n",
      "7  False  False  False  False\n"
     ]
    }
   ],
   "execution_count": 26
  },
  {
   "metadata": {
    "ExecuteTime": {
     "end_time": "2025-08-17T02:53:33.574887Z",
     "start_time": "2025-08-17T02:53:33.571612Z"
    }
   },
   "cell_type": "code",
   "source": "print(df.isna())",
   "id": "f789002356f51435",
   "outputs": [
    {
     "name": "stdout",
     "output_type": "stream",
     "text": [
      "      id   name  score    age\n",
      "1  False  False  False  False\n",
      "2  False  False  False  False\n",
      "3  False  False  False  False\n",
      "4  False  False  False  False\n",
      "5  False  False  False  False\n",
      "6  False  False  False  False\n",
      "7  False  False  False  False\n"
     ]
    }
   ],
   "execution_count": 27
  },
  {
   "metadata": {
    "ExecuteTime": {
     "end_time": "2025-08-17T02:53:33.643393Z",
     "start_time": "2025-08-17T02:53:33.637827Z"
    }
   },
   "cell_type": "code",
   "source": [
    "print(df['score'].sum())\n",
    "print(df['score'].max())\n",
    "print(df['age'].min())\n",
    "print(df['score'].mean())\n",
    "print(df['score'].median())\n",
    "print(df['score'].mode())"
   ],
   "id": "1c71e52562a04f7",
   "outputs": [
    {
     "name": "stdout",
     "output_type": "stream",
     "text": [
      "122\n",
      "20\n",
      "11\n",
      "17.428571428571427\n",
      "17.0\n",
      "0    16\n",
      "Name: score, dtype: int64\n"
     ]
    }
   ],
   "execution_count": 28
  },
  {
   "metadata": {
    "ExecuteTime": {
     "end_time": "2025-08-17T02:53:33.681301Z",
     "start_time": "2025-08-17T02:53:33.678071Z"
    }
   },
   "cell_type": "code",
   "source": [
    "print(df.score.std())\n",
    "print(df.score.var())\n",
    "print(df.score.quantile(0.25))"
   ],
   "id": "dadbde2b0f55d07c",
   "outputs": [
    {
     "name": "stdout",
     "output_type": "stream",
     "text": [
      "1.618347187425374\n",
      "2.619047619047619\n",
      "16.0\n"
     ]
    }
   ],
   "execution_count": 29
  },
  {
   "metadata": {
    "ExecuteTime": {
     "end_time": "2025-08-17T02:53:33.735249Z",
     "start_time": "2025-08-17T02:53:33.729490Z"
    }
   },
   "cell_type": "code",
   "source": "print(df.describe())",
   "id": "60122bb53429d00a",
   "outputs": [
    {
     "name": "stdout",
     "output_type": "stream",
     "text": [
      "             id      score        age\n",
      "count  7.000000   7.000000   7.000000\n",
      "mean   3.142857  17.428571  13.571429\n",
      "std    1.951800   1.618347   2.819997\n",
      "min    1.000000  16.000000  11.000000\n",
      "25%    1.500000  16.000000  11.500000\n",
      "50%    3.000000  17.000000  13.000000\n",
      "75%    4.500000  18.500000  14.500000\n",
      "max    6.000000  20.000000  19.000000\n"
     ]
    }
   ],
   "execution_count": 30
  },
  {
   "metadata": {
    "ExecuteTime": {
     "end_time": "2025-08-17T02:53:33.784480Z",
     "start_time": "2025-08-17T02:53:33.781224Z"
    }
   },
   "cell_type": "code",
   "source": "print(df.count()) # 每一列非缺的个数",
   "id": "d2f408928a752d98",
   "outputs": [
    {
     "name": "stdout",
     "output_type": "stream",
     "text": [
      "id       7\n",
      "name     7\n",
      "score    7\n",
      "age      7\n",
      "dtype: int64\n"
     ]
    }
   ],
   "execution_count": 31
  },
  {
   "metadata": {
    "ExecuteTime": {
     "end_time": "2025-08-17T02:53:33.823271Z",
     "start_time": "2025-08-17T02:53:33.817374Z"
    }
   },
   "cell_type": "code",
   "source": "print(df.value_counts())",
   "id": "a210a8913cbf5f56",
   "outputs": [
    {
     "name": "stdout",
     "output_type": "stream",
     "text": [
      "id  name  score  age\n",
      "1   A     16     11     2\n",
      "2   B     17     12     1\n",
      "3   C     18     13     1\n",
      "4   D     19     14     1\n",
      "5   E     20     15     1\n",
      "6   F     16     19     1\n",
      "Name: count, dtype: int64\n"
     ]
    }
   ],
   "execution_count": 32
  },
  {
   "metadata": {
    "ExecuteTime": {
     "end_time": "2025-08-17T02:53:33.866455Z",
     "start_time": "2025-08-17T02:53:33.861932Z"
    }
   },
   "cell_type": "code",
   "source": "print(df.drop_duplicates())",
   "id": "d0b53fa246eee3b7",
   "outputs": [
    {
     "name": "stdout",
     "output_type": "stream",
     "text": [
      "   id name  score  age\n",
      "1   1    A     16   11\n",
      "3   2    B     17   12\n",
      "4   3    C     18   13\n",
      "5   4    D     19   14\n",
      "6   5    E     20   15\n",
      "7   6    F     16   19\n"
     ]
    }
   ],
   "execution_count": 33
  },
  {
   "metadata": {
    "ExecuteTime": {
     "end_time": "2025-08-17T02:53:33.915164Z",
     "start_time": "2025-08-17T02:53:33.912114Z"
    }
   },
   "cell_type": "code",
   "source": "print(df.duplicated())",
   "id": "74654198b682ff21",
   "outputs": [
    {
     "name": "stdout",
     "output_type": "stream",
     "text": [
      "1    False\n",
      "2     True\n",
      "3    False\n",
      "4    False\n",
      "5    False\n",
      "6    False\n",
      "7    False\n",
      "dtype: bool\n"
     ]
    }
   ],
   "execution_count": 34
  },
  {
   "metadata": {
    "ExecuteTime": {
     "end_time": "2025-08-17T02:53:33.950629Z",
     "start_time": "2025-08-17T02:53:33.947819Z"
    }
   },
   "cell_type": "code",
   "source": "print(df.duplicated(subset=['score']))",
   "id": "600ff64f6fbf13d1",
   "outputs": [
    {
     "name": "stdout",
     "output_type": "stream",
     "text": [
      "1    False\n",
      "2     True\n",
      "3    False\n",
      "4    False\n",
      "5    False\n",
      "6    False\n",
      "7     True\n",
      "dtype: bool\n"
     ]
    }
   ],
   "execution_count": 35
  },
  {
   "metadata": {
    "ExecuteTime": {
     "end_time": "2025-08-17T02:53:34.001168Z",
     "start_time": "2025-08-17T02:53:33.996784Z"
    }
   },
   "cell_type": "code",
   "source": "df.sample(4)",
   "id": "c6fab14e7edd9e6e",
   "outputs": [
    {
     "data": {
      "text/plain": [
       "   id name  score  age\n",
       "1   1    A     16   11\n",
       "5   4    D     19   14\n",
       "2   1    A     16   11\n",
       "7   6    F     16   19"
      ],
      "text/html": [
       "<div>\n",
       "<style scoped>\n",
       "    .dataframe tbody tr th:only-of-type {\n",
       "        vertical-align: middle;\n",
       "    }\n",
       "\n",
       "    .dataframe tbody tr th {\n",
       "        vertical-align: top;\n",
       "    }\n",
       "\n",
       "    .dataframe thead th {\n",
       "        text-align: right;\n",
       "    }\n",
       "</style>\n",
       "<table border=\"1\" class=\"dataframe\">\n",
       "  <thead>\n",
       "    <tr style=\"text-align: right;\">\n",
       "      <th></th>\n",
       "      <th>id</th>\n",
       "      <th>name</th>\n",
       "      <th>score</th>\n",
       "      <th>age</th>\n",
       "    </tr>\n",
       "  </thead>\n",
       "  <tbody>\n",
       "    <tr>\n",
       "      <th>1</th>\n",
       "      <td>1</td>\n",
       "      <td>A</td>\n",
       "      <td>16</td>\n",
       "      <td>11</td>\n",
       "    </tr>\n",
       "    <tr>\n",
       "      <th>5</th>\n",
       "      <td>4</td>\n",
       "      <td>D</td>\n",
       "      <td>19</td>\n",
       "      <td>14</td>\n",
       "    </tr>\n",
       "    <tr>\n",
       "      <th>2</th>\n",
       "      <td>1</td>\n",
       "      <td>A</td>\n",
       "      <td>16</td>\n",
       "      <td>11</td>\n",
       "    </tr>\n",
       "    <tr>\n",
       "      <th>7</th>\n",
       "      <td>6</td>\n",
       "      <td>F</td>\n",
       "      <td>16</td>\n",
       "      <td>19</td>\n",
       "    </tr>\n",
       "  </tbody>\n",
       "</table>\n",
       "</div>"
      ]
     },
     "execution_count": 36,
     "metadata": {},
     "output_type": "execute_result"
    }
   ],
   "execution_count": 36
  },
  {
   "metadata": {
    "ExecuteTime": {
     "end_time": "2025-08-17T02:53:34.052403Z",
     "start_time": "2025-08-17T02:53:34.048246Z"
    }
   },
   "cell_type": "code",
   "source": "df.replace(11,110)",
   "id": "8db1c11ede91cd87",
   "outputs": [
    {
     "data": {
      "text/plain": [
       "   id name  score  age\n",
       "1   1    A     16  110\n",
       "2   1    A     16  110\n",
       "3   2    B     17   12\n",
       "4   3    C     18   13\n",
       "5   4    D     19   14\n",
       "6   5    E     20   15\n",
       "7   6    F     16   19"
      ],
      "text/html": [
       "<div>\n",
       "<style scoped>\n",
       "    .dataframe tbody tr th:only-of-type {\n",
       "        vertical-align: middle;\n",
       "    }\n",
       "\n",
       "    .dataframe tbody tr th {\n",
       "        vertical-align: top;\n",
       "    }\n",
       "\n",
       "    .dataframe thead th {\n",
       "        text-align: right;\n",
       "    }\n",
       "</style>\n",
       "<table border=\"1\" class=\"dataframe\">\n",
       "  <thead>\n",
       "    <tr style=\"text-align: right;\">\n",
       "      <th></th>\n",
       "      <th>id</th>\n",
       "      <th>name</th>\n",
       "      <th>score</th>\n",
       "      <th>age</th>\n",
       "    </tr>\n",
       "  </thead>\n",
       "  <tbody>\n",
       "    <tr>\n",
       "      <th>1</th>\n",
       "      <td>1</td>\n",
       "      <td>A</td>\n",
       "      <td>16</td>\n",
       "      <td>110</td>\n",
       "    </tr>\n",
       "    <tr>\n",
       "      <th>2</th>\n",
       "      <td>1</td>\n",
       "      <td>A</td>\n",
       "      <td>16</td>\n",
       "      <td>110</td>\n",
       "    </tr>\n",
       "    <tr>\n",
       "      <th>3</th>\n",
       "      <td>2</td>\n",
       "      <td>B</td>\n",
       "      <td>17</td>\n",
       "      <td>12</td>\n",
       "    </tr>\n",
       "    <tr>\n",
       "      <th>4</th>\n",
       "      <td>3</td>\n",
       "      <td>C</td>\n",
       "      <td>18</td>\n",
       "      <td>13</td>\n",
       "    </tr>\n",
       "    <tr>\n",
       "      <th>5</th>\n",
       "      <td>4</td>\n",
       "      <td>D</td>\n",
       "      <td>19</td>\n",
       "      <td>14</td>\n",
       "    </tr>\n",
       "    <tr>\n",
       "      <th>6</th>\n",
       "      <td>5</td>\n",
       "      <td>E</td>\n",
       "      <td>20</td>\n",
       "      <td>15</td>\n",
       "    </tr>\n",
       "    <tr>\n",
       "      <th>7</th>\n",
       "      <td>6</td>\n",
       "      <td>F</td>\n",
       "      <td>16</td>\n",
       "      <td>19</td>\n",
       "    </tr>\n",
       "  </tbody>\n",
       "</table>\n",
       "</div>"
      ]
     },
     "execution_count": 37,
     "metadata": {},
     "output_type": "execute_result"
    }
   ],
   "execution_count": 37
  },
  {
   "metadata": {
    "ExecuteTime": {
     "end_time": "2025-08-17T02:53:34.185307Z",
     "start_time": "2025-08-17T02:53:34.181172Z"
    }
   },
   "cell_type": "code",
   "source": "df",
   "id": "f80cfc17a553597e",
   "outputs": [
    {
     "data": {
      "text/plain": [
       "   id name  score  age\n",
       "1   1    A     16   11\n",
       "2   1    A     16   11\n",
       "3   2    B     17   12\n",
       "4   3    C     18   13\n",
       "5   4    D     19   14\n",
       "6   5    E     20   15\n",
       "7   6    F     16   19"
      ],
      "text/html": [
       "<div>\n",
       "<style scoped>\n",
       "    .dataframe tbody tr th:only-of-type {\n",
       "        vertical-align: middle;\n",
       "    }\n",
       "\n",
       "    .dataframe tbody tr th {\n",
       "        vertical-align: top;\n",
       "    }\n",
       "\n",
       "    .dataframe thead th {\n",
       "        text-align: right;\n",
       "    }\n",
       "</style>\n",
       "<table border=\"1\" class=\"dataframe\">\n",
       "  <thead>\n",
       "    <tr style=\"text-align: right;\">\n",
       "      <th></th>\n",
       "      <th>id</th>\n",
       "      <th>name</th>\n",
       "      <th>score</th>\n",
       "      <th>age</th>\n",
       "    </tr>\n",
       "  </thead>\n",
       "  <tbody>\n",
       "    <tr>\n",
       "      <th>1</th>\n",
       "      <td>1</td>\n",
       "      <td>A</td>\n",
       "      <td>16</td>\n",
       "      <td>11</td>\n",
       "    </tr>\n",
       "    <tr>\n",
       "      <th>2</th>\n",
       "      <td>1</td>\n",
       "      <td>A</td>\n",
       "      <td>16</td>\n",
       "      <td>11</td>\n",
       "    </tr>\n",
       "    <tr>\n",
       "      <th>3</th>\n",
       "      <td>2</td>\n",
       "      <td>B</td>\n",
       "      <td>17</td>\n",
       "      <td>12</td>\n",
       "    </tr>\n",
       "    <tr>\n",
       "      <th>4</th>\n",
       "      <td>3</td>\n",
       "      <td>C</td>\n",
       "      <td>18</td>\n",
       "      <td>13</td>\n",
       "    </tr>\n",
       "    <tr>\n",
       "      <th>5</th>\n",
       "      <td>4</td>\n",
       "      <td>D</td>\n",
       "      <td>19</td>\n",
       "      <td>14</td>\n",
       "    </tr>\n",
       "    <tr>\n",
       "      <th>6</th>\n",
       "      <td>5</td>\n",
       "      <td>E</td>\n",
       "      <td>20</td>\n",
       "      <td>15</td>\n",
       "    </tr>\n",
       "    <tr>\n",
       "      <th>7</th>\n",
       "      <td>6</td>\n",
       "      <td>F</td>\n",
       "      <td>16</td>\n",
       "      <td>19</td>\n",
       "    </tr>\n",
       "  </tbody>\n",
       "</table>\n",
       "</div>"
      ]
     },
     "execution_count": 38,
     "metadata": {},
     "output_type": "execute_result"
    }
   ],
   "execution_count": 38
  },
  {
   "metadata": {
    "ExecuteTime": {
     "end_time": "2025-08-17T02:53:34.345560Z",
     "start_time": "2025-08-17T02:53:34.341161Z"
    }
   },
   "cell_type": "code",
   "source": "df.cumsum()",
   "id": "615721f10ce0cd3c",
   "outputs": [
    {
     "data": {
      "text/plain": [
       "   id     name  score  age\n",
       "1   1        A     16   11\n",
       "2   2       AA     32   22\n",
       "3   4      AAB     49   34\n",
       "4   7     AABC     67   47\n",
       "5  11    AABCD     86   61\n",
       "6  16   AABCDE    106   76\n",
       "7  22  AABCDEF    122   95"
      ],
      "text/html": [
       "<div>\n",
       "<style scoped>\n",
       "    .dataframe tbody tr th:only-of-type {\n",
       "        vertical-align: middle;\n",
       "    }\n",
       "\n",
       "    .dataframe tbody tr th {\n",
       "        vertical-align: top;\n",
       "    }\n",
       "\n",
       "    .dataframe thead th {\n",
       "        text-align: right;\n",
       "    }\n",
       "</style>\n",
       "<table border=\"1\" class=\"dataframe\">\n",
       "  <thead>\n",
       "    <tr style=\"text-align: right;\">\n",
       "      <th></th>\n",
       "      <th>id</th>\n",
       "      <th>name</th>\n",
       "      <th>score</th>\n",
       "      <th>age</th>\n",
       "    </tr>\n",
       "  </thead>\n",
       "  <tbody>\n",
       "    <tr>\n",
       "      <th>1</th>\n",
       "      <td>1</td>\n",
       "      <td>A</td>\n",
       "      <td>16</td>\n",
       "      <td>11</td>\n",
       "    </tr>\n",
       "    <tr>\n",
       "      <th>2</th>\n",
       "      <td>2</td>\n",
       "      <td>AA</td>\n",
       "      <td>32</td>\n",
       "      <td>22</td>\n",
       "    </tr>\n",
       "    <tr>\n",
       "      <th>3</th>\n",
       "      <td>4</td>\n",
       "      <td>AAB</td>\n",
       "      <td>49</td>\n",
       "      <td>34</td>\n",
       "    </tr>\n",
       "    <tr>\n",
       "      <th>4</th>\n",
       "      <td>7</td>\n",
       "      <td>AABC</td>\n",
       "      <td>67</td>\n",
       "      <td>47</td>\n",
       "    </tr>\n",
       "    <tr>\n",
       "      <th>5</th>\n",
       "      <td>11</td>\n",
       "      <td>AABCD</td>\n",
       "      <td>86</td>\n",
       "      <td>61</td>\n",
       "    </tr>\n",
       "    <tr>\n",
       "      <th>6</th>\n",
       "      <td>16</td>\n",
       "      <td>AABCDE</td>\n",
       "      <td>106</td>\n",
       "      <td>76</td>\n",
       "    </tr>\n",
       "    <tr>\n",
       "      <th>7</th>\n",
       "      <td>22</td>\n",
       "      <td>AABCDEF</td>\n",
       "      <td>122</td>\n",
       "      <td>95</td>\n",
       "    </tr>\n",
       "  </tbody>\n",
       "</table>\n",
       "</div>"
      ]
     },
     "execution_count": 39,
     "metadata": {},
     "output_type": "execute_result"
    }
   ],
   "execution_count": 39
  },
  {
   "metadata": {
    "ExecuteTime": {
     "end_time": "2025-08-17T02:53:34.457884Z",
     "start_time": "2025-08-17T02:53:34.453713Z"
    }
   },
   "cell_type": "code",
   "source": "print(df.sort_index(ascending=False))",
   "id": "8321305c1b543842",
   "outputs": [
    {
     "name": "stdout",
     "output_type": "stream",
     "text": [
      "   id name  score  age\n",
      "7   6    F     16   19\n",
      "6   5    E     20   15\n",
      "5   4    D     19   14\n",
      "4   3    C     18   13\n",
      "3   2    B     17   12\n",
      "2   1    A     16   11\n",
      "1   1    A     16   11\n"
     ]
    }
   ],
   "execution_count": 40
  },
  {
   "metadata": {
    "ExecuteTime": {
     "end_time": "2025-08-17T02:53:34.608933Z",
     "start_time": "2025-08-17T02:53:34.605425Z"
    }
   },
   "cell_type": "code",
   "source": "print(df.sort_values(by=['score','age'],ascending=[True,False]))",
   "id": "b3f5a45c53dc73d6",
   "outputs": [
    {
     "name": "stdout",
     "output_type": "stream",
     "text": [
      "   id name  score  age\n",
      "7   6    F     16   19\n",
      "1   1    A     16   11\n",
      "2   1    A     16   11\n",
      "3   2    B     17   12\n",
      "4   3    C     18   13\n",
      "5   4    D     19   14\n",
      "6   5    E     20   15\n"
     ]
    }
   ],
   "execution_count": 41
  },
  {
   "metadata": {
    "ExecuteTime": {
     "end_time": "2025-08-17T02:53:34.690609Z",
     "start_time": "2025-08-17T02:53:34.683768Z"
    }
   },
   "cell_type": "code",
   "source": "df.nlargest(2,columns=['score','age'])",
   "id": "b041a92c85f73309",
   "outputs": [
    {
     "data": {
      "text/plain": [
       "   id name  score  age\n",
       "6   5    E     20   15\n",
       "5   4    D     19   14"
      ],
      "text/html": [
       "<div>\n",
       "<style scoped>\n",
       "    .dataframe tbody tr th:only-of-type {\n",
       "        vertical-align: middle;\n",
       "    }\n",
       "\n",
       "    .dataframe tbody tr th {\n",
       "        vertical-align: top;\n",
       "    }\n",
       "\n",
       "    .dataframe thead th {\n",
       "        text-align: right;\n",
       "    }\n",
       "</style>\n",
       "<table border=\"1\" class=\"dataframe\">\n",
       "  <thead>\n",
       "    <tr style=\"text-align: right;\">\n",
       "      <th></th>\n",
       "      <th>id</th>\n",
       "      <th>name</th>\n",
       "      <th>score</th>\n",
       "      <th>age</th>\n",
       "    </tr>\n",
       "  </thead>\n",
       "  <tbody>\n",
       "    <tr>\n",
       "      <th>6</th>\n",
       "      <td>5</td>\n",
       "      <td>E</td>\n",
       "      <td>20</td>\n",
       "      <td>15</td>\n",
       "    </tr>\n",
       "    <tr>\n",
       "      <th>5</th>\n",
       "      <td>4</td>\n",
       "      <td>D</td>\n",
       "      <td>19</td>\n",
       "      <td>14</td>\n",
       "    </tr>\n",
       "  </tbody>\n",
       "</table>\n",
       "</div>"
      ]
     },
     "execution_count": 42,
     "metadata": {},
     "output_type": "execute_result"
    }
   ],
   "execution_count": 42
  },
  {
   "metadata": {
    "ExecuteTime": {
     "end_time": "2025-08-17T02:53:34.740810Z",
     "start_time": "2025-08-17T02:53:34.735612Z"
    }
   },
   "cell_type": "code",
   "source": "df.nsmallest(2,columns=['score','age'])",
   "id": "9919faee24bb5187",
   "outputs": [
    {
     "data": {
      "text/plain": [
       "   id name  score  age\n",
       "1   1    A     16   11\n",
       "2   1    A     16   11"
      ],
      "text/html": [
       "<div>\n",
       "<style scoped>\n",
       "    .dataframe tbody tr th:only-of-type {\n",
       "        vertical-align: middle;\n",
       "    }\n",
       "\n",
       "    .dataframe tbody tr th {\n",
       "        vertical-align: top;\n",
       "    }\n",
       "\n",
       "    .dataframe thead th {\n",
       "        text-align: right;\n",
       "    }\n",
       "</style>\n",
       "<table border=\"1\" class=\"dataframe\">\n",
       "  <thead>\n",
       "    <tr style=\"text-align: right;\">\n",
       "      <th></th>\n",
       "      <th>id</th>\n",
       "      <th>name</th>\n",
       "      <th>score</th>\n",
       "      <th>age</th>\n",
       "    </tr>\n",
       "  </thead>\n",
       "  <tbody>\n",
       "    <tr>\n",
       "      <th>1</th>\n",
       "      <td>1</td>\n",
       "      <td>A</td>\n",
       "      <td>16</td>\n",
       "      <td>11</td>\n",
       "    </tr>\n",
       "    <tr>\n",
       "      <th>2</th>\n",
       "      <td>1</td>\n",
       "      <td>A</td>\n",
       "      <td>16</td>\n",
       "      <td>11</td>\n",
       "    </tr>\n",
       "  </tbody>\n",
       "</table>\n",
       "</div>"
      ]
     },
     "execution_count": 43,
     "metadata": {},
     "output_type": "execute_result"
    }
   ],
   "execution_count": 43
  },
  {
   "metadata": {},
   "cell_type": "markdown",
   "source": [
    "O案例1:学生成绩分析\n",
    "场景:某班级的学生成绩数据如下,请完成以下任务:\n",
    "1. 计算每位学生的总分和平均分。\n",
    "2. 找出数学成绩高于90分或英语成绩高于85分的学生。\n",
    "3. 按总分从高到低排序,并输出前3名学生。"
   ],
   "id": "3c8d76a5f30f9fa1",
   "attachments": {
    "1f8ea9e4-3a35-4fa5-ba54-34685ca6f31e.png": {
     "image/png": "[encoded data removed]"
    }
   }
  },
  {
   "metadata": {
    "ExecuteTime": {
     "end_time": "2025-08-17T02:53:34.859341Z",
     "start_time": "2025-08-17T02:53:34.854445Z"
    }
   },
   "cell_type": "code",
   "source": [
    "import pandas as pd\n",
    "\n",
    "data = {\n",
    "    '姓名': [\"张三\", \"李四\", \"王五\", \"赵六\", \"钱七\"],\n",
    "    '数学': [85, 92, 78, 88, 95],\n",
    "    '英语': [90, 88, 85, 92, 80],\n",
    "    '物理': [75, 80, 88, 85, 90]\n",
    "}\n",
    "stuInfo = pd.DataFrame(data)\n",
    "stuInfo\n"
   ],
   "id": "5a4bebb28734fef9",
   "outputs": [
    {
     "data": {
      "text/plain": [
       "   姓名  数学  英语  物理\n",
       "0  张三  85  90  75\n",
       "1  李四  92  88  80\n",
       "2  王五  78  85  88\n",
       "3  赵六  88  92  85\n",
       "4  钱七  95  80  90"
      ],
      "text/html": [
       "<div>\n",
       "<style scoped>\n",
       "    .dataframe tbody tr th:only-of-type {\n",
       "        vertical-align: middle;\n",
       "    }\n",
       "\n",
       "    .dataframe tbody tr th {\n",
       "        vertical-align: top;\n",
       "    }\n",
       "\n",
       "    .dataframe thead th {\n",
       "        text-align: right;\n",
       "    }\n",
       "</style>\n",
       "<table border=\"1\" class=\"dataframe\">\n",
       "  <thead>\n",
       "    <tr style=\"text-align: right;\">\n",
       "      <th></th>\n",
       "      <th>姓名</th>\n",
       "      <th>数学</th>\n",
       "      <th>英语</th>\n",
       "      <th>物理</th>\n",
       "    </tr>\n",
       "  </thead>\n",
       "  <tbody>\n",
       "    <tr>\n",
       "      <th>0</th>\n",
       "      <td>张三</td>\n",
       "      <td>85</td>\n",
       "      <td>90</td>\n",
       "      <td>75</td>\n",
       "    </tr>\n",
       "    <tr>\n",
       "      <th>1</th>\n",
       "      <td>李四</td>\n",
       "      <td>92</td>\n",
       "      <td>88</td>\n",
       "      <td>80</td>\n",
       "    </tr>\n",
       "    <tr>\n",
       "      <th>2</th>\n",
       "      <td>王五</td>\n",
       "      <td>78</td>\n",
       "      <td>85</td>\n",
       "      <td>88</td>\n",
       "    </tr>\n",
       "    <tr>\n",
       "      <th>3</th>\n",
       "      <td>赵六</td>\n",
       "      <td>88</td>\n",
       "      <td>92</td>\n",
       "      <td>85</td>\n",
       "    </tr>\n",
       "    <tr>\n",
       "      <th>4</th>\n",
       "      <td>钱七</td>\n",
       "      <td>95</td>\n",
       "      <td>80</td>\n",
       "      <td>90</td>\n",
       "    </tr>\n",
       "  </tbody>\n",
       "</table>\n",
       "</div>"
      ]
     },
     "execution_count": 44,
     "metadata": {},
     "output_type": "execute_result"
    }
   ],
   "execution_count": 44
  },
  {
   "metadata": {
    "ExecuteTime": {
     "end_time": "2025-08-17T02:53:35.022602Z",
     "start_time": "2025-08-17T02:53:35.018085Z"
    }
   },
   "cell_type": "code",
   "source": [
    "OperateStuInfo=stuInfo.T\n",
    "OperateStuInfo"
   ],
   "id": "8b8ea95ea55213ae",
   "outputs": [
    {
     "data": {
      "text/plain": [
       "     0   1   2   3   4\n",
       "姓名  张三  李四  王五  赵六  钱七\n",
       "数学  85  92  78  88  95\n",
       "英语  90  88  85  92  80\n",
       "物理  75  80  88  85  90"
      ],
      "text/html": [
       "<div>\n",
       "<style scoped>\n",
       "    .dataframe tbody tr th:only-of-type {\n",
       "        vertical-align: middle;\n",
       "    }\n",
       "\n",
       "    .dataframe tbody tr th {\n",
       "        vertical-align: top;\n",
       "    }\n",
       "\n",
       "    .dataframe thead th {\n",
       "        text-align: right;\n",
       "    }\n",
       "</style>\n",
       "<table border=\"1\" class=\"dataframe\">\n",
       "  <thead>\n",
       "    <tr style=\"text-align: right;\">\n",
       "      <th></th>\n",
       "      <th>0</th>\n",
       "      <th>1</th>\n",
       "      <th>2</th>\n",
       "      <th>3</th>\n",
       "      <th>4</th>\n",
       "    </tr>\n",
       "  </thead>\n",
       "  <tbody>\n",
       "    <tr>\n",
       "      <th>姓名</th>\n",
       "      <td>张三</td>\n",
       "      <td>李四</td>\n",
       "      <td>王五</td>\n",
       "      <td>赵六</td>\n",
       "      <td>钱七</td>\n",
       "    </tr>\n",
       "    <tr>\n",
       "      <th>数学</th>\n",
       "      <td>85</td>\n",
       "      <td>92</td>\n",
       "      <td>78</td>\n",
       "      <td>88</td>\n",
       "      <td>95</td>\n",
       "    </tr>\n",
       "    <tr>\n",
       "      <th>英语</th>\n",
       "      <td>90</td>\n",
       "      <td>88</td>\n",
       "      <td>85</td>\n",
       "      <td>92</td>\n",
       "      <td>80</td>\n",
       "    </tr>\n",
       "    <tr>\n",
       "      <th>物理</th>\n",
       "      <td>75</td>\n",
       "      <td>80</td>\n",
       "      <td>88</td>\n",
       "      <td>85</td>\n",
       "      <td>90</td>\n",
       "    </tr>\n",
       "  </tbody>\n",
       "</table>\n",
       "</div>"
      ]
     },
     "execution_count": 45,
     "metadata": {},
     "output_type": "execute_result"
    }
   ],
   "execution_count": 45
  },
  {
   "metadata": {
    "ExecuteTime": {
     "end_time": "2025-08-17T02:53:35.174253Z",
     "start_time": "2025-08-17T02:53:35.170700Z"
    }
   },
   "cell_type": "code",
   "source": [
    "for i in stuInfo.T.columns:\n",
    "    Student=stuInfo.loc[i]\n",
    "    Grade=Student[1:]\n",
    "    print(Student['姓名'],\",\",Grade.mean())\n"
   ],
   "id": "cb312c23bff33e69",
   "outputs": [
    {
     "name": "stdout",
     "output_type": "stream",
     "text": [
      "张三 , 83.33333333333333\n",
      "李四 , 86.66666666666667\n",
      "王五 , 83.66666666666667\n",
      "赵六 , 88.33333333333333\n",
      "钱七 , 88.33333333333333\n"
     ]
    }
   ],
   "execution_count": 46
  },
  {
   "metadata": {
    "ExecuteTime": {
     "end_time": "2025-08-17T02:53:35.297297Z",
     "start_time": "2025-08-17T02:53:35.293632Z"
    }
   },
   "cell_type": "code",
   "source": "stuInfo",
   "id": "7f9e133c8c6874d0",
   "outputs": [
    {
     "data": {
      "text/plain": [
       "   姓名  数学  英语  物理\n",
       "0  张三  85  90  75\n",
       "1  李四  92  88  80\n",
       "2  王五  78  85  88\n",
       "3  赵六  88  92  85\n",
       "4  钱七  95  80  90"
      ],
      "text/html": [
       "<div>\n",
       "<style scoped>\n",
       "    .dataframe tbody tr th:only-of-type {\n",
       "        vertical-align: middle;\n",
       "    }\n",
       "\n",
       "    .dataframe tbody tr th {\n",
       "        vertical-align: top;\n",
       "    }\n",
       "\n",
       "    .dataframe thead th {\n",
       "        text-align: right;\n",
       "    }\n",
       "</style>\n",
       "<table border=\"1\" class=\"dataframe\">\n",
       "  <thead>\n",
       "    <tr style=\"text-align: right;\">\n",
       "      <th></th>\n",
       "      <th>姓名</th>\n",
       "      <th>数学</th>\n",
       "      <th>英语</th>\n",
       "      <th>物理</th>\n",
       "    </tr>\n",
       "  </thead>\n",
       "  <tbody>\n",
       "    <tr>\n",
       "      <th>0</th>\n",
       "      <td>张三</td>\n",
       "      <td>85</td>\n",
       "      <td>90</td>\n",
       "      <td>75</td>\n",
       "    </tr>\n",
       "    <tr>\n",
       "      <th>1</th>\n",
       "      <td>李四</td>\n",
       "      <td>92</td>\n",
       "      <td>88</td>\n",
       "      <td>80</td>\n",
       "    </tr>\n",
       "    <tr>\n",
       "      <th>2</th>\n",
       "      <td>王五</td>\n",
       "      <td>78</td>\n",
       "      <td>85</td>\n",
       "      <td>88</td>\n",
       "    </tr>\n",
       "    <tr>\n",
       "      <th>3</th>\n",
       "      <td>赵六</td>\n",
       "      <td>88</td>\n",
       "      <td>92</td>\n",
       "      <td>85</td>\n",
       "    </tr>\n",
       "    <tr>\n",
       "      <th>4</th>\n",
       "      <td>钱七</td>\n",
       "      <td>95</td>\n",
       "      <td>80</td>\n",
       "      <td>90</td>\n",
       "    </tr>\n",
       "  </tbody>\n",
       "</table>\n",
       "</div>"
      ]
     },
     "execution_count": 47,
     "metadata": {},
     "output_type": "execute_result"
    }
   ],
   "execution_count": 47
  },
  {
   "metadata": {
    "ExecuteTime": {
     "end_time": "2025-08-17T02:53:35.405437Z",
     "start_time": "2025-08-17T02:53:35.400407Z"
    }
   },
   "cell_type": "code",
   "source": "stuInfo[(stuInfo['数学']>90)|(stuInfo['英语']>85)]",
   "id": "4e96c7f24d265d4a",
   "outputs": [
    {
     "data": {
      "text/plain": [
       "   姓名  数学  英语  物理\n",
       "0  张三  85  90  75\n",
       "1  李四  92  88  80\n",
       "3  赵六  88  92  85\n",
       "4  钱七  95  80  90"
      ],
      "text/html": [
       "<div>\n",
       "<style scoped>\n",
       "    .dataframe tbody tr th:only-of-type {\n",
       "        vertical-align: middle;\n",
       "    }\n",
       "\n",
       "    .dataframe tbody tr th {\n",
       "        vertical-align: top;\n",
       "    }\n",
       "\n",
       "    .dataframe thead th {\n",
       "        text-align: right;\n",
       "    }\n",
       "</style>\n",
       "<table border=\"1\" class=\"dataframe\">\n",
       "  <thead>\n",
       "    <tr style=\"text-align: right;\">\n",
       "      <th></th>\n",
       "      <th>姓名</th>\n",
       "      <th>数学</th>\n",
       "      <th>英语</th>\n",
       "      <th>物理</th>\n",
       "    </tr>\n",
       "  </thead>\n",
       "  <tbody>\n",
       "    <tr>\n",
       "      <th>0</th>\n",
       "      <td>张三</td>\n",
       "      <td>85</td>\n",
       "      <td>90</td>\n",
       "      <td>75</td>\n",
       "    </tr>\n",
       "    <tr>\n",
       "      <th>1</th>\n",
       "      <td>李四</td>\n",
       "      <td>92</td>\n",
       "      <td>88</td>\n",
       "      <td>80</td>\n",
       "    </tr>\n",
       "    <tr>\n",
       "      <th>3</th>\n",
       "      <td>赵六</td>\n",
       "      <td>88</td>\n",
       "      <td>92</td>\n",
       "      <td>85</td>\n",
       "    </tr>\n",
       "    <tr>\n",
       "      <th>4</th>\n",
       "      <td>钱七</td>\n",
       "      <td>95</td>\n",
       "      <td>80</td>\n",
       "      <td>90</td>\n",
       "    </tr>\n",
       "  </tbody>\n",
       "</table>\n",
       "</div>"
      ]
     },
     "execution_count": 48,
     "metadata": {},
     "output_type": "execute_result"
    }
   ],
   "execution_count": 48
  },
  {
   "metadata": {
    "ExecuteTime": {
     "end_time": "2025-08-17T02:53:35.535148Z",
     "start_time": "2025-08-17T02:53:35.530370Z"
    }
   },
   "cell_type": "code",
   "source": [
    "stuInfo['总分']=stuInfo.数学+stuInfo.物理+stuInfo.英语\n",
    "stuInfo.sort_values(by=['总分'],ascending=False).head(3)"
   ],
   "id": "1ecc69cef9928b2a",
   "outputs": [
    {
     "data": {
      "text/plain": [
       "   姓名  数学  英语  物理   总分\n",
       "4  钱七  95  80  90  265\n",
       "3  赵六  88  92  85  265\n",
       "1  李四  92  88  80  260"
      ],
      "text/html": [
       "<div>\n",
       "<style scoped>\n",
       "    .dataframe tbody tr th:only-of-type {\n",
       "        vertical-align: middle;\n",
       "    }\n",
       "\n",
       "    .dataframe tbody tr th {\n",
       "        vertical-align: top;\n",
       "    }\n",
       "\n",
       "    .dataframe thead th {\n",
       "        text-align: right;\n",
       "    }\n",
       "</style>\n",
       "<table border=\"1\" class=\"dataframe\">\n",
       "  <thead>\n",
       "    <tr style=\"text-align: right;\">\n",
       "      <th></th>\n",
       "      <th>姓名</th>\n",
       "      <th>数学</th>\n",
       "      <th>英语</th>\n",
       "      <th>物理</th>\n",
       "      <th>总分</th>\n",
       "    </tr>\n",
       "  </thead>\n",
       "  <tbody>\n",
       "    <tr>\n",
       "      <th>4</th>\n",
       "      <td>钱七</td>\n",
       "      <td>95</td>\n",
       "      <td>80</td>\n",
       "      <td>90</td>\n",
       "      <td>265</td>\n",
       "    </tr>\n",
       "    <tr>\n",
       "      <th>3</th>\n",
       "      <td>赵六</td>\n",
       "      <td>88</td>\n",
       "      <td>92</td>\n",
       "      <td>85</td>\n",
       "      <td>265</td>\n",
       "    </tr>\n",
       "    <tr>\n",
       "      <th>1</th>\n",
       "      <td>李四</td>\n",
       "      <td>92</td>\n",
       "      <td>88</td>\n",
       "      <td>80</td>\n",
       "      <td>260</td>\n",
       "    </tr>\n",
       "  </tbody>\n",
       "</table>\n",
       "</div>"
      ]
     },
     "execution_count": 49,
     "metadata": {},
     "output_type": "execute_result"
    }
   ],
   "execution_count": 49
  },
  {
   "metadata": {
    "ExecuteTime": {
     "end_time": "2025-08-17T02:53:35.709159Z",
     "start_time": "2025-08-17T02:53:35.702264Z"
    }
   },
   "cell_type": "code",
   "source": [
    "scores=pd.DataFrame(data)\n",
    "scores['总分']=scores[['数学','英语','物理']].sum(axis=1)\n",
    "scores['平均分1']=scores['总分']/3\n",
    "scores['平均分2']=scores[['数学','英语','物理']].mean(axis=1)\n",
    "scores"
   ],
   "id": "2fd20520107da81b",
   "outputs": [
    {
     "data": {
      "text/plain": [
       "   姓名  数学  英语  物理   总分       平均分1       平均分2\n",
       "0  张三  85  90  75  250  83.333333  83.333333\n",
       "1  李四  92  88  80  260  86.666667  86.666667\n",
       "2  王五  78  85  88  251  83.666667  83.666667\n",
       "3  赵六  88  92  85  265  88.333333  88.333333\n",
       "4  钱七  95  80  90  265  88.333333  88.333333"
      ],
      "text/html": [
       "<div>\n",
       "<style scoped>\n",
       "    .dataframe tbody tr th:only-of-type {\n",
       "        vertical-align: middle;\n",
       "    }\n",
       "\n",
       "    .dataframe tbody tr th {\n",
       "        vertical-align: top;\n",
       "    }\n",
       "\n",
       "    .dataframe thead th {\n",
       "        text-align: right;\n",
       "    }\n",
       "</style>\n",
       "<table border=\"1\" class=\"dataframe\">\n",
       "  <thead>\n",
       "    <tr style=\"text-align: right;\">\n",
       "      <th></th>\n",
       "      <th>姓名</th>\n",
       "      <th>数学</th>\n",
       "      <th>英语</th>\n",
       "      <th>物理</th>\n",
       "      <th>总分</th>\n",
       "      <th>平均分1</th>\n",
       "      <th>平均分2</th>\n",
       "    </tr>\n",
       "  </thead>\n",
       "  <tbody>\n",
       "    <tr>\n",
       "      <th>0</th>\n",
       "      <td>张三</td>\n",
       "      <td>85</td>\n",
       "      <td>90</td>\n",
       "      <td>75</td>\n",
       "      <td>250</td>\n",
       "      <td>83.333333</td>\n",
       "      <td>83.333333</td>\n",
       "    </tr>\n",
       "    <tr>\n",
       "      <th>1</th>\n",
       "      <td>李四</td>\n",
       "      <td>92</td>\n",
       "      <td>88</td>\n",
       "      <td>80</td>\n",
       "      <td>260</td>\n",
       "      <td>86.666667</td>\n",
       "      <td>86.666667</td>\n",
       "    </tr>\n",
       "    <tr>\n",
       "      <th>2</th>\n",
       "      <td>王五</td>\n",
       "      <td>78</td>\n",
       "      <td>85</td>\n",
       "      <td>88</td>\n",
       "      <td>251</td>\n",
       "      <td>83.666667</td>\n",
       "      <td>83.666667</td>\n",
       "    </tr>\n",
       "    <tr>\n",
       "      <th>3</th>\n",
       "      <td>赵六</td>\n",
       "      <td>88</td>\n",
       "      <td>92</td>\n",
       "      <td>85</td>\n",
       "      <td>265</td>\n",
       "      <td>88.333333</td>\n",
       "      <td>88.333333</td>\n",
       "    </tr>\n",
       "    <tr>\n",
       "      <th>4</th>\n",
       "      <td>钱七</td>\n",
       "      <td>95</td>\n",
       "      <td>80</td>\n",
       "      <td>90</td>\n",
       "      <td>265</td>\n",
       "      <td>88.333333</td>\n",
       "      <td>88.333333</td>\n",
       "    </tr>\n",
       "  </tbody>\n",
       "</table>\n",
       "</div>"
      ]
     },
     "execution_count": 50,
     "metadata": {},
     "output_type": "execute_result"
    }
   ],
   "execution_count": 50
  },
  {
   "metadata": {},
   "cell_type": "markdown",
   "source": [
    "案例2:销售数据分析\n",
    "场景:某公司销售数据如下,请完成以下任务:\n",
    "1. 计算每种产品的总销售额(销售额=单价 ×销量)。\n",
    "2. 找出销售额最高的产品。\n",
    "3. 按销售额从高到低排序,并输出所有产品信息。"
   ],
   "id": "54c6bc168905cf0b"
  },
  {
   "metadata": {
    "ExecuteTime": {
     "end_time": "2025-08-17T02:53:35.886505Z",
     "start_time": "2025-08-17T02:53:35.882498Z"
    }
   },
   "cell_type": "code",
   "source": [
    "data = {\n",
    "'产品名称':['A','B','C','D'],\n",
    "'单价':[100,150,200,120],\n",
    "'销量':[50,30,20,40]\n",
    "}\n",
    "sales=pd.DataFrame(data)\n",
    "sales\n"
   ],
   "id": "6caa3bf74b38aa2a",
   "outputs": [
    {
     "data": {
      "text/plain": [
       "  产品名称   单价  销量\n",
       "0    A  100  50\n",
       "1    B  150  30\n",
       "2    C  200  20\n",
       "3    D  120  40"
      ],
      "text/html": [
       "<div>\n",
       "<style scoped>\n",
       "    .dataframe tbody tr th:only-of-type {\n",
       "        vertical-align: middle;\n",
       "    }\n",
       "\n",
       "    .dataframe tbody tr th {\n",
       "        vertical-align: top;\n",
       "    }\n",
       "\n",
       "    .dataframe thead th {\n",
       "        text-align: right;\n",
       "    }\n",
       "</style>\n",
       "<table border=\"1\" class=\"dataframe\">\n",
       "  <thead>\n",
       "    <tr style=\"text-align: right;\">\n",
       "      <th></th>\n",
       "      <th>产品名称</th>\n",
       "      <th>单价</th>\n",
       "      <th>销量</th>\n",
       "    </tr>\n",
       "  </thead>\n",
       "  <tbody>\n",
       "    <tr>\n",
       "      <th>0</th>\n",
       "      <td>A</td>\n",
       "      <td>100</td>\n",
       "      <td>50</td>\n",
       "    </tr>\n",
       "    <tr>\n",
       "      <th>1</th>\n",
       "      <td>B</td>\n",
       "      <td>150</td>\n",
       "      <td>30</td>\n",
       "    </tr>\n",
       "    <tr>\n",
       "      <th>2</th>\n",
       "      <td>C</td>\n",
       "      <td>200</td>\n",
       "      <td>20</td>\n",
       "    </tr>\n",
       "    <tr>\n",
       "      <th>3</th>\n",
       "      <td>D</td>\n",
       "      <td>120</td>\n",
       "      <td>40</td>\n",
       "    </tr>\n",
       "  </tbody>\n",
       "</table>\n",
       "</div>"
      ]
     },
     "execution_count": 51,
     "metadata": {},
     "output_type": "execute_result"
    }
   ],
   "execution_count": 51
  },
  {
   "metadata": {
    "ExecuteTime": {
     "end_time": "2025-08-17T02:53:36.054041Z",
     "start_time": "2025-08-17T02:53:36.049808Z"
    }
   },
   "cell_type": "code",
   "source": [
    "sales['销售额']=sales['单价']*sales['销量']\n",
    "sales"
   ],
   "id": "680c13fe9040e47",
   "outputs": [
    {
     "data": {
      "text/plain": [
       "  产品名称   单价  销量   销售额\n",
       "0    A  100  50  5000\n",
       "1    B  150  30  4500\n",
       "2    C  200  20  4000\n",
       "3    D  120  40  4800"
      ],
      "text/html": [
       "<div>\n",
       "<style scoped>\n",
       "    .dataframe tbody tr th:only-of-type {\n",
       "        vertical-align: middle;\n",
       "    }\n",
       "\n",
       "    .dataframe tbody tr th {\n",
       "        vertical-align: top;\n",
       "    }\n",
       "\n",
       "    .dataframe thead th {\n",
       "        text-align: right;\n",
       "    }\n",
       "</style>\n",
       "<table border=\"1\" class=\"dataframe\">\n",
       "  <thead>\n",
       "    <tr style=\"text-align: right;\">\n",
       "      <th></th>\n",
       "      <th>产品名称</th>\n",
       "      <th>单价</th>\n",
       "      <th>销量</th>\n",
       "      <th>销售额</th>\n",
       "    </tr>\n",
       "  </thead>\n",
       "  <tbody>\n",
       "    <tr>\n",
       "      <th>0</th>\n",
       "      <td>A</td>\n",
       "      <td>100</td>\n",
       "      <td>50</td>\n",
       "      <td>5000</td>\n",
       "    </tr>\n",
       "    <tr>\n",
       "      <th>1</th>\n",
       "      <td>B</td>\n",
       "      <td>150</td>\n",
       "      <td>30</td>\n",
       "      <td>4500</td>\n",
       "    </tr>\n",
       "    <tr>\n",
       "      <th>2</th>\n",
       "      <td>C</td>\n",
       "      <td>200</td>\n",
       "      <td>20</td>\n",
       "      <td>4000</td>\n",
       "    </tr>\n",
       "    <tr>\n",
       "      <th>3</th>\n",
       "      <td>D</td>\n",
       "      <td>120</td>\n",
       "      <td>40</td>\n",
       "      <td>4800</td>\n",
       "    </tr>\n",
       "  </tbody>\n",
       "</table>\n",
       "</div>"
      ]
     },
     "execution_count": 52,
     "metadata": {},
     "output_type": "execute_result"
    }
   ],
   "execution_count": 52
  },
  {
   "metadata": {
    "ExecuteTime": {
     "end_time": "2025-08-17T02:53:36.215315Z",
     "start_time": "2025-08-17T02:53:36.210331Z"
    }
   },
   "cell_type": "code",
   "source": "sales.nlargest(1,['销售额'])",
   "id": "c10a9e388f4ac84b",
   "outputs": [
    {
     "data": {
      "text/plain": [
       "  产品名称   单价  销量   销售额\n",
       "0    A  100  50  5000"
      ],
      "text/html": [
       "<div>\n",
       "<style scoped>\n",
       "    .dataframe tbody tr th:only-of-type {\n",
       "        vertical-align: middle;\n",
       "    }\n",
       "\n",
       "    .dataframe tbody tr th {\n",
       "        vertical-align: top;\n",
       "    }\n",
       "\n",
       "    .dataframe thead th {\n",
       "        text-align: right;\n",
       "    }\n",
       "</style>\n",
       "<table border=\"1\" class=\"dataframe\">\n",
       "  <thead>\n",
       "    <tr style=\"text-align: right;\">\n",
       "      <th></th>\n",
       "      <th>产品名称</th>\n",
       "      <th>单价</th>\n",
       "      <th>销量</th>\n",
       "      <th>销售额</th>\n",
       "    </tr>\n",
       "  </thead>\n",
       "  <tbody>\n",
       "    <tr>\n",
       "      <th>0</th>\n",
       "      <td>A</td>\n",
       "      <td>100</td>\n",
       "      <td>50</td>\n",
       "      <td>5000</td>\n",
       "    </tr>\n",
       "  </tbody>\n",
       "</table>\n",
       "</div>"
      ]
     },
     "execution_count": 53,
     "metadata": {},
     "output_type": "execute_result"
    }
   ],
   "execution_count": 53
  },
  {
   "metadata": {
    "ExecuteTime": {
     "end_time": "2025-08-17T02:53:36.365028Z",
     "start_time": "2025-08-17T02:53:36.360572Z"
    }
   },
   "cell_type": "code",
   "source": "sales.sort_values(by=['销售额'],ascending=False)",
   "id": "4de626f9e4eca6b7",
   "outputs": [
    {
     "data": {
      "text/plain": [
       "  产品名称   单价  销量   销售额\n",
       "0    A  100  50  5000\n",
       "3    D  120  40  4800\n",
       "1    B  150  30  4500\n",
       "2    C  200  20  4000"
      ],
      "text/html": [
       "<div>\n",
       "<style scoped>\n",
       "    .dataframe tbody tr th:only-of-type {\n",
       "        vertical-align: middle;\n",
       "    }\n",
       "\n",
       "    .dataframe tbody tr th {\n",
       "        vertical-align: top;\n",
       "    }\n",
       "\n",
       "    .dataframe thead th {\n",
       "        text-align: right;\n",
       "    }\n",
       "</style>\n",
       "<table border=\"1\" class=\"dataframe\">\n",
       "  <thead>\n",
       "    <tr style=\"text-align: right;\">\n",
       "      <th></th>\n",
       "      <th>产品名称</th>\n",
       "      <th>单价</th>\n",
       "      <th>销量</th>\n",
       "      <th>销售额</th>\n",
       "    </tr>\n",
       "  </thead>\n",
       "  <tbody>\n",
       "    <tr>\n",
       "      <th>0</th>\n",
       "      <td>A</td>\n",
       "      <td>100</td>\n",
       "      <td>50</td>\n",
       "      <td>5000</td>\n",
       "    </tr>\n",
       "    <tr>\n",
       "      <th>3</th>\n",
       "      <td>D</td>\n",
       "      <td>120</td>\n",
       "      <td>40</td>\n",
       "      <td>4800</td>\n",
       "    </tr>\n",
       "    <tr>\n",
       "      <th>1</th>\n",
       "      <td>B</td>\n",
       "      <td>150</td>\n",
       "      <td>30</td>\n",
       "      <td>4500</td>\n",
       "    </tr>\n",
       "    <tr>\n",
       "      <th>2</th>\n",
       "      <td>C</td>\n",
       "      <td>200</td>\n",
       "      <td>20</td>\n",
       "      <td>4000</td>\n",
       "    </tr>\n",
       "  </tbody>\n",
       "</table>\n",
       "</div>"
      ]
     },
     "execution_count": 54,
     "metadata": {},
     "output_type": "execute_result"
    }
   ],
   "execution_count": 54
  },
  {
   "metadata": {
    "ExecuteTime": {
     "end_time": "2025-08-17T02:53:36.531700Z",
     "start_time": "2025-08-17T02:53:36.527766Z"
    }
   },
   "cell_type": "code",
   "source": "sales.loc[1:2]",
   "id": "696d2bc3f15bb1fe",
   "outputs": [
    {
     "data": {
      "text/plain": [
       "  产品名称   单价  销量   销售额\n",
       "1    B  150  30  4500\n",
       "2    C  200  20  4000"
      ],
      "text/html": [
       "<div>\n",
       "<style scoped>\n",
       "    .dataframe tbody tr th:only-of-type {\n",
       "        vertical-align: middle;\n",
       "    }\n",
       "\n",
       "    .dataframe tbody tr th {\n",
       "        vertical-align: top;\n",
       "    }\n",
       "\n",
       "    .dataframe thead th {\n",
       "        text-align: right;\n",
       "    }\n",
       "</style>\n",
       "<table border=\"1\" class=\"dataframe\">\n",
       "  <thead>\n",
       "    <tr style=\"text-align: right;\">\n",
       "      <th></th>\n",
       "      <th>产品名称</th>\n",
       "      <th>单价</th>\n",
       "      <th>销量</th>\n",
       "      <th>销售额</th>\n",
       "    </tr>\n",
       "  </thead>\n",
       "  <tbody>\n",
       "    <tr>\n",
       "      <th>1</th>\n",
       "      <td>B</td>\n",
       "      <td>150</td>\n",
       "      <td>30</td>\n",
       "      <td>4500</td>\n",
       "    </tr>\n",
       "    <tr>\n",
       "      <th>2</th>\n",
       "      <td>C</td>\n",
       "      <td>200</td>\n",
       "      <td>20</td>\n",
       "      <td>4000</td>\n",
       "    </tr>\n",
       "  </tbody>\n",
       "</table>\n",
       "</div>"
      ]
     },
     "execution_count": 55,
     "metadata": {},
     "output_type": "execute_result"
    }
   ],
   "execution_count": 55
  },
  {
   "metadata": {
    "ExecuteTime": {
     "end_time": "2025-08-17T02:53:36.672636Z",
     "start_time": "2025-08-17T02:53:36.668587Z"
    }
   },
   "cell_type": "code",
   "source": "sales[['单价','销售额']]",
   "id": "bd2cd8fb7c7db683",
   "outputs": [
    {
     "data": {
      "text/plain": [
       "    单价   销售额\n",
       "0  100  5000\n",
       "1  150  4500\n",
       "2  200  4000\n",
       "3  120  4800"
      ],
      "text/html": [
       "<div>\n",
       "<style scoped>\n",
       "    .dataframe tbody tr th:only-of-type {\n",
       "        vertical-align: middle;\n",
       "    }\n",
       "\n",
       "    .dataframe tbody tr th {\n",
       "        vertical-align: top;\n",
       "    }\n",
       "\n",
       "    .dataframe thead th {\n",
       "        text-align: right;\n",
       "    }\n",
       "</style>\n",
       "<table border=\"1\" class=\"dataframe\">\n",
       "  <thead>\n",
       "    <tr style=\"text-align: right;\">\n",
       "      <th></th>\n",
       "      <th>单价</th>\n",
       "      <th>销售额</th>\n",
       "    </tr>\n",
       "  </thead>\n",
       "  <tbody>\n",
       "    <tr>\n",
       "      <th>0</th>\n",
       "      <td>100</td>\n",
       "      <td>5000</td>\n",
       "    </tr>\n",
       "    <tr>\n",
       "      <th>1</th>\n",
       "      <td>150</td>\n",
       "      <td>4500</td>\n",
       "    </tr>\n",
       "    <tr>\n",
       "      <th>2</th>\n",
       "      <td>200</td>\n",
       "      <td>4000</td>\n",
       "    </tr>\n",
       "    <tr>\n",
       "      <th>3</th>\n",
       "      <td>120</td>\n",
       "      <td>4800</td>\n",
       "    </tr>\n",
       "  </tbody>\n",
       "</table>\n",
       "</div>"
      ]
     },
     "execution_count": 56,
     "metadata": {},
     "output_type": "execute_result"
    }
   ],
   "execution_count": 56
  },
  {
   "metadata": {},
   "cell_type": "markdown",
   "source": [
    "案例3:电商用户行为分析\n",
    "场景:某电商平台的用户行为数据如下,请完成以下任务:\n",
    "1. 计算每位用户的总消费金额(消费金额=商品单价 ×购买数量)\n",
    "2. 找出消费金额最高的用户,并输出其所有信息\n",
    "3. 计算所有用户的平均消费金额(保留2位小数)\n",
    "4. 统计电子产品的总购买数量"
   ],
   "id": "84c5fc53a3080890"
  },
  {
   "metadata": {
    "ExecuteTime": {
     "end_time": "2025-08-17T02:53:43.148237Z",
     "start_time": "2025-08-17T02:53:43.144542Z"
    }
   },
   "cell_type": "code",
   "source": "sales",
   "id": "f6239282b212b378",
   "outputs": [
    {
     "data": {
      "text/plain": [
       "  产品名称   单价  销量   销售额\n",
       "0    A  100  50  5000\n",
       "1    B  150  30  4500\n",
       "2    C  200  20  4000\n",
       "3    D  120  40  4800"
      ],
      "text/html": [
       "<div>\n",
       "<style scoped>\n",
       "    .dataframe tbody tr th:only-of-type {\n",
       "        vertical-align: middle;\n",
       "    }\n",
       "\n",
       "    .dataframe tbody tr th {\n",
       "        vertical-align: top;\n",
       "    }\n",
       "\n",
       "    .dataframe thead th {\n",
       "        text-align: right;\n",
       "    }\n",
       "</style>\n",
       "<table border=\"1\" class=\"dataframe\">\n",
       "  <thead>\n",
       "    <tr style=\"text-align: right;\">\n",
       "      <th></th>\n",
       "      <th>产品名称</th>\n",
       "      <th>单价</th>\n",
       "      <th>销量</th>\n",
       "      <th>销售额</th>\n",
       "    </tr>\n",
       "  </thead>\n",
       "  <tbody>\n",
       "    <tr>\n",
       "      <th>0</th>\n",
       "      <td>A</td>\n",
       "      <td>100</td>\n",
       "      <td>50</td>\n",
       "      <td>5000</td>\n",
       "    </tr>\n",
       "    <tr>\n",
       "      <th>1</th>\n",
       "      <td>B</td>\n",
       "      <td>150</td>\n",
       "      <td>30</td>\n",
       "      <td>4500</td>\n",
       "    </tr>\n",
       "    <tr>\n",
       "      <th>2</th>\n",
       "      <td>C</td>\n",
       "      <td>200</td>\n",
       "      <td>20</td>\n",
       "      <td>4000</td>\n",
       "    </tr>\n",
       "    <tr>\n",
       "      <th>3</th>\n",
       "      <td>D</td>\n",
       "      <td>120</td>\n",
       "      <td>40</td>\n",
       "      <td>4800</td>\n",
       "    </tr>\n",
       "  </tbody>\n",
       "</table>\n",
       "</div>"
      ]
     },
     "execution_count": 57,
     "metadata": {},
     "output_type": "execute_result"
    }
   ],
   "execution_count": 57
  },
  {
   "metadata": {
    "ExecuteTime": {
     "end_time": "2025-08-17T02:56:11.492260Z",
     "start_time": "2025-08-17T02:56:11.487353Z"
    }
   },
   "cell_type": "code",
   "source": [
    "data = {\n",
    "'用户ID':[101,102,103,104,105],\n",
    "'用户名':['Alice','Bob','Charlie', 'David', 'Eve'],\n",
    "'商品类别':['电子产品','服饰','电子产品','家居','服饰'],\n",
    "'商品单价':[1200,300,800,150,200],\n",
    "'购买数量':[1,3,2,5,4]\n",
    "}\n",
    "\n",
    "userForm=pd.DataFrame(data)\n",
    "userForm"
   ],
   "id": "30bd5652ef115121",
   "outputs": [
    {
     "data": {
      "text/plain": [
       "   用户ID      用户名  商品类别  商品单价  购买数量\n",
       "0   101    Alice  电子产品  1200     1\n",
       "1   102      Bob    服饰   300     3\n",
       "2   103  Charlie  电子产品   800     2\n",
       "3   104    David    家居   150     5\n",
       "4   105      Eve    服饰   200     4"
      ],
      "text/html": [
       "<div>\n",
       "<style scoped>\n",
       "    .dataframe tbody tr th:only-of-type {\n",
       "        vertical-align: middle;\n",
       "    }\n",
       "\n",
       "    .dataframe tbody tr th {\n",
       "        vertical-align: top;\n",
       "    }\n",
       "\n",
       "    .dataframe thead th {\n",
       "        text-align: right;\n",
       "    }\n",
       "</style>\n",
       "<table border=\"1\" class=\"dataframe\">\n",
       "  <thead>\n",
       "    <tr style=\"text-align: right;\">\n",
       "      <th></th>\n",
       "      <th>用户ID</th>\n",
       "      <th>用户名</th>\n",
       "      <th>商品类别</th>\n",
       "      <th>商品单价</th>\n",
       "      <th>购买数量</th>\n",
       "    </tr>\n",
       "  </thead>\n",
       "  <tbody>\n",
       "    <tr>\n",
       "      <th>0</th>\n",
       "      <td>101</td>\n",
       "      <td>Alice</td>\n",
       "      <td>电子产品</td>\n",
       "      <td>1200</td>\n",
       "      <td>1</td>\n",
       "    </tr>\n",
       "    <tr>\n",
       "      <th>1</th>\n",
       "      <td>102</td>\n",
       "      <td>Bob</td>\n",
       "      <td>服饰</td>\n",
       "      <td>300</td>\n",
       "      <td>3</td>\n",
       "    </tr>\n",
       "    <tr>\n",
       "      <th>2</th>\n",
       "      <td>103</td>\n",
       "      <td>Charlie</td>\n",
       "      <td>电子产品</td>\n",
       "      <td>800</td>\n",
       "      <td>2</td>\n",
       "    </tr>\n",
       "    <tr>\n",
       "      <th>3</th>\n",
       "      <td>104</td>\n",
       "      <td>David</td>\n",
       "      <td>家居</td>\n",
       "      <td>150</td>\n",
       "      <td>5</td>\n",
       "    </tr>\n",
       "    <tr>\n",
       "      <th>4</th>\n",
       "      <td>105</td>\n",
       "      <td>Eve</td>\n",
       "      <td>服饰</td>\n",
       "      <td>200</td>\n",
       "      <td>4</td>\n",
       "    </tr>\n",
       "  </tbody>\n",
       "</table>\n",
       "</div>"
      ]
     },
     "execution_count": 58,
     "metadata": {},
     "output_type": "execute_result"
    }
   ],
   "execution_count": 58
  },
  {
   "metadata": {
    "ExecuteTime": {
     "end_time": "2025-08-17T02:57:30.818682Z",
     "start_time": "2025-08-17T02:57:30.814100Z"
    }
   },
   "cell_type": "code",
   "source": [
    "userForm['消费金额']=userForm['商品单价']*userForm['购买数量']\n",
    "userForm"
   ],
   "id": "bcc9057e8865403b",
   "outputs": [
    {
     "data": {
      "text/plain": [
       "   用户ID      用户名  商品类别  商品单价  购买数量  消费金额\n",
       "0   101    Alice  电子产品  1200     1  1200\n",
       "1   102      Bob    服饰   300     3   900\n",
       "2   103  Charlie  电子产品   800     2  1600\n",
       "3   104    David    家居   150     5   750\n",
       "4   105      Eve    服饰   200     4   800"
      ],
      "text/html": [
       "<div>\n",
       "<style scoped>\n",
       "    .dataframe tbody tr th:only-of-type {\n",
       "        vertical-align: middle;\n",
       "    }\n",
       "\n",
       "    .dataframe tbody tr th {\n",
       "        vertical-align: top;\n",
       "    }\n",
       "\n",
       "    .dataframe thead th {\n",
       "        text-align: right;\n",
       "    }\n",
       "</style>\n",
       "<table border=\"1\" class=\"dataframe\">\n",
       "  <thead>\n",
       "    <tr style=\"text-align: right;\">\n",
       "      <th></th>\n",
       "      <th>用户ID</th>\n",
       "      <th>用户名</th>\n",
       "      <th>商品类别</th>\n",
       "      <th>商品单价</th>\n",
       "      <th>购买数量</th>\n",
       "      <th>消费金额</th>\n",
       "    </tr>\n",
       "  </thead>\n",
       "  <tbody>\n",
       "    <tr>\n",
       "      <th>0</th>\n",
       "      <td>101</td>\n",
       "      <td>Alice</td>\n",
       "      <td>电子产品</td>\n",
       "      <td>1200</td>\n",
       "      <td>1</td>\n",
       "      <td>1200</td>\n",
       "    </tr>\n",
       "    <tr>\n",
       "      <th>1</th>\n",
       "      <td>102</td>\n",
       "      <td>Bob</td>\n",
       "      <td>服饰</td>\n",
       "      <td>300</td>\n",
       "      <td>3</td>\n",
       "      <td>900</td>\n",
       "    </tr>\n",
       "    <tr>\n",
       "      <th>2</th>\n",
       "      <td>103</td>\n",
       "      <td>Charlie</td>\n",
       "      <td>电子产品</td>\n",
       "      <td>800</td>\n",
       "      <td>2</td>\n",
       "      <td>1600</td>\n",
       "    </tr>\n",
       "    <tr>\n",
       "      <th>3</th>\n",
       "      <td>104</td>\n",
       "      <td>David</td>\n",
       "      <td>家居</td>\n",
       "      <td>150</td>\n",
       "      <td>5</td>\n",
       "      <td>750</td>\n",
       "    </tr>\n",
       "    <tr>\n",
       "      <th>4</th>\n",
       "      <td>105</td>\n",
       "      <td>Eve</td>\n",
       "      <td>服饰</td>\n",
       "      <td>200</td>\n",
       "      <td>4</td>\n",
       "      <td>800</td>\n",
       "    </tr>\n",
       "  </tbody>\n",
       "</table>\n",
       "</div>"
      ]
     },
     "execution_count": 59,
     "metadata": {},
     "output_type": "execute_result"
    }
   ],
   "execution_count": 59
  },
  {
   "metadata": {
    "ExecuteTime": {
     "end_time": "2025-08-17T02:58:41.151728Z",
     "start_time": "2025-08-17T02:58:41.147228Z"
    }
   },
   "cell_type": "code",
   "source": "userForm.sort_values(by=['消费金额'],ascending=False)",
   "id": "196c7cfbf1f35fab",
   "outputs": [
    {
     "data": {
      "text/plain": [
       "   用户ID      用户名  商品类别  商品单价  购买数量  消费金额\n",
       "2   103  Charlie  电子产品   800     2  1600\n",
       "0   101    Alice  电子产品  1200     1  1200\n",
       "1   102      Bob    服饰   300     3   900\n",
       "4   105      Eve    服饰   200     4   800\n",
       "3   104    David    家居   150     5   750"
      ],
      "text/html": [
       "<div>\n",
       "<style scoped>\n",
       "    .dataframe tbody tr th:only-of-type {\n",
       "        vertical-align: middle;\n",
       "    }\n",
       "\n",
       "    .dataframe tbody tr th {\n",
       "        vertical-align: top;\n",
       "    }\n",
       "\n",
       "    .dataframe thead th {\n",
       "        text-align: right;\n",
       "    }\n",
       "</style>\n",
       "<table border=\"1\" class=\"dataframe\">\n",
       "  <thead>\n",
       "    <tr style=\"text-align: right;\">\n",
       "      <th></th>\n",
       "      <th>用户ID</th>\n",
       "      <th>用户名</th>\n",
       "      <th>商品类别</th>\n",
       "      <th>商品单价</th>\n",
       "      <th>购买数量</th>\n",
       "      <th>消费金额</th>\n",
       "    </tr>\n",
       "  </thead>\n",
       "  <tbody>\n",
       "    <tr>\n",
       "      <th>2</th>\n",
       "      <td>103</td>\n",
       "      <td>Charlie</td>\n",
       "      <td>电子产品</td>\n",
       "      <td>800</td>\n",
       "      <td>2</td>\n",
       "      <td>1600</td>\n",
       "    </tr>\n",
       "    <tr>\n",
       "      <th>0</th>\n",
       "      <td>101</td>\n",
       "      <td>Alice</td>\n",
       "      <td>电子产品</td>\n",
       "      <td>1200</td>\n",
       "      <td>1</td>\n",
       "      <td>1200</td>\n",
       "    </tr>\n",
       "    <tr>\n",
       "      <th>1</th>\n",
       "      <td>102</td>\n",
       "      <td>Bob</td>\n",
       "      <td>服饰</td>\n",
       "      <td>300</td>\n",
       "      <td>3</td>\n",
       "      <td>900</td>\n",
       "    </tr>\n",
       "    <tr>\n",
       "      <th>4</th>\n",
       "      <td>105</td>\n",
       "      <td>Eve</td>\n",
       "      <td>服饰</td>\n",
       "      <td>200</td>\n",
       "      <td>4</td>\n",
       "      <td>800</td>\n",
       "    </tr>\n",
       "    <tr>\n",
       "      <th>3</th>\n",
       "      <td>104</td>\n",
       "      <td>David</td>\n",
       "      <td>家居</td>\n",
       "      <td>150</td>\n",
       "      <td>5</td>\n",
       "      <td>750</td>\n",
       "    </tr>\n",
       "  </tbody>\n",
       "</table>\n",
       "</div>"
      ]
     },
     "execution_count": 60,
     "metadata": {},
     "output_type": "execute_result"
    }
   ],
   "execution_count": 60
  },
  {
   "metadata": {
    "ExecuteTime": {
     "end_time": "2025-08-17T03:00:44.260883Z",
     "start_time": "2025-08-17T03:00:44.258004Z"
    }
   },
   "cell_type": "code",
   "source": "print('平均金额',userForm['消费金额'].mean())",
   "id": "570084edb8bd1f6f",
   "outputs": [
    {
     "name": "stdout",
     "output_type": "stream",
     "text": [
      "平均金额 1050.0\n"
     ]
    }
   ],
   "execution_count": 61
  },
  {
   "metadata": {
    "ExecuteTime": {
     "end_time": "2025-08-17T03:02:25.125747Z",
     "start_time": "2025-08-17T03:02:25.123283Z"
    }
   },
   "cell_type": "code",
   "source": "print('购买数量',userForm['购买数量'].cumsum()[4])",
   "id": "23141bc75b467123",
   "outputs": [
    {
     "name": "stdout",
     "output_type": "stream",
     "text": [
      "购买数量 15\n"
     ]
    }
   ],
   "execution_count": 66
  },
  {
   "metadata": {},
   "cell_type": "code",
   "outputs": [],
   "execution_count": null,
   "source": "",
   "id": "c58dfa47535e7878"
  }
 ],
 "metadata": {
  "kernelspec": {
   "display_name": "Python 3",
   "language": "python",
   "name": "python3"
  },
  "language_info": {
   "codemirror_mode": {
    "name": "ipython",
    "version": 2
   },
   "file_extension": ".py",
   "mimetype": "text/x-python",
   "name": "python",
   "nbconvert_exporter": "python",
   "pygments_lexer": "ipython2",
   "version": "2.7.6"
  }
 },
 "nbformat": 4,
 "nbformat_minor": 5
}
