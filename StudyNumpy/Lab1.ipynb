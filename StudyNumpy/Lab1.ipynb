{
 "cells": [
  {
   "cell_type": "code",
   "id": "initial_id",
   "metadata": {
    "collapsed": true,
    "ExecuteTime": {
     "end_time": "2025-08-08T08:11:39.080942Z",
     "start_time": "2025-08-08T08:11:39.079143Z"
    }
   },
   "source": "",
   "outputs": [],
   "execution_count": 1
  },
  {
   "metadata": {},
   "cell_type": "markdown",
   "source": [
    "# 一.ndarray\n",
    "## 1.ndarray的特性\n",
    "### 多维性"
   ],
   "id": "864458510267fd90"
  },
  {
   "metadata": {
    "jupyter": {
     "is_executing": true
    }
   },
   "cell_type": "code",
   "source": [
    "import numpy as np\n",
    "from certifi import where"
   ],
   "id": "fdd64ceff307b486",
   "outputs": [],
   "execution_count": null
  },
  {
   "metadata": {
    "ExecuteTime": {
     "end_time": "2025-08-08T09:09:34.884689Z",
     "start_time": "2025-08-08T09:09:34.882124Z"
    }
   },
   "cell_type": "code",
   "source": [
    "arr=np.array(5) #只有一个数字0维度\n",
    "print(arr)\n",
    "print(\"arr的维度：\",np.ndim) #ndim是维度"
   ],
   "id": "7daa5ed423b98316",
   "outputs": [
    {
     "name": "stdout",
     "output_type": "stream",
     "text": [
      "5\n",
      "arr的维度： <function ndim at 0x1133382c0>\n"
     ]
    }
   ],
   "execution_count": 4
  },
  {
   "metadata": {
    "ExecuteTime": {
     "end_time": "2025-08-08T09:10:58.398503Z",
     "start_time": "2025-08-08T09:10:58.395509Z"
    }
   },
   "cell_type": "code",
   "source": [
    "arr=np.array([1,2,3])\n",
    "print(arr)\n",
    "print(\"the dimension of arr is \",arr.ndim)"
   ],
   "id": "4f1f9dda8aa69799",
   "outputs": [
    {
     "name": "stdout",
     "output_type": "stream",
     "text": [
      "[1 2 3]\n",
      "the dimension of arr is  1\n"
     ]
    }
   ],
   "execution_count": 5
  },
  {
   "metadata": {
    "ExecuteTime": {
     "end_time": "2025-08-08T09:11:36.866858Z",
     "start_time": "2025-08-08T09:11:36.864876Z"
    }
   },
   "cell_type": "code",
   "source": [
    "arr=np.array([[1,2,3],[4,5,6]])\n",
    "print(arr)\n",
    "print(\"the dimension of arr is \",arr.ndim)"
   ],
   "id": "86f0328a5f914dd4",
   "outputs": [
    {
     "name": "stdout",
     "output_type": "stream",
     "text": [
      "[[1 2 3]\n",
      " [4 5 6]]\n",
      "the dimension of arr is  2\n"
     ]
    }
   ],
   "execution_count": 6
  },
  {
   "metadata": {},
   "cell_type": "markdown",
   "source": "### 同质性",
   "id": "ecb3ab53a56c5cc5"
  },
  {
   "metadata": {
    "ExecuteTime": {
     "end_time": "2025-08-08T09:13:15.788579Z",
     "start_time": "2025-08-08T09:13:15.785944Z"
    }
   },
   "cell_type": "code",
   "source": [
    "arr = np.array([1,'hello']) #虽然数组创建成功， 不同的数据类型会被创建成相同的数据类型\n",
    "print(arr)"
   ],
   "id": "b3f1fb2991cd16ff",
   "outputs": [
    {
     "name": "stdout",
     "output_type": "stream",
     "text": [
      "['1' 'hello']\n"
     ]
    }
   ],
   "execution_count": 7
  },
  {
   "metadata": {
    "ExecuteTime": {
     "end_time": "2025-08-08T09:14:33.145637Z",
     "start_time": "2025-08-08T09:14:33.142981Z"
    }
   },
   "cell_type": "code",
   "source": [
    "arr = np.array([1,1.2]) #虽然数组创建成功， 不同的数据类型会被创建成相同的数据类型\n",
    "print(arr)"
   ],
   "id": "1fe110bb61b5b2ad",
   "outputs": [
    {
     "name": "stdout",
     "output_type": "stream",
     "text": [
      "[1.  1.2]\n"
     ]
    }
   ],
   "execution_count": 8
  },
  {
   "metadata": {},
   "cell_type": "markdown",
   "source": "## 2.ndarray的属性",
   "id": "b1c6ab2023cf6a4c"
  },
  {
   "metadata": {
    "ExecuteTime": {
     "end_time": "2025-08-08T09:22:39.060594Z",
     "start_time": "2025-08-08T09:22:39.057105Z"
    }
   },
   "cell_type": "code",
   "source": [
    "arr=np.array(1)\n",
    "print(arr)\n",
    "print(\"数组的形状:\",arr.shape)\n",
    "print(\"数组的维度\",arr.ndim)\n",
    "print(\"数组的个数\",arr.size)\n",
    "print(\"元素的数据类型\",arr.dtype)\n",
    "print(\"元素的转置\",arr.T)"
   ],
   "id": "8358755a777cf560",
   "outputs": [
    {
     "name": "stdout",
     "output_type": "stream",
     "text": [
      "1\n",
      "数组的形状: ()\n",
      "数组的维度 0\n",
      "数组的个数 1\n",
      "元素的数据类型 int64\n",
      "元素的转置 1\n"
     ]
    }
   ],
   "execution_count": 21
  },
  {
   "metadata": {
    "ExecuteTime": {
     "end_time": "2025-08-08T09:23:02.882019Z",
     "start_time": "2025-08-08T09:23:02.879227Z"
    }
   },
   "cell_type": "code",
   "source": [
    "arr=np.array([1,2,3])\n",
    "print(arr)\n",
    "print(\"数组的形状:\",arr.shape)\n",
    "print(\"数组的维度\",arr.ndim)\n",
    "print(\"数组的个数\",arr.size)\n",
    "print(\"元素的数据类型\",arr.dtype)\n",
    "print(\"元素的转置\",arr.T)"
   ],
   "id": "ad5878663022b9dd",
   "outputs": [
    {
     "name": "stdout",
     "output_type": "stream",
     "text": [
      "[1 2 3]\n",
      "数组的形状: (3,)\n",
      "数组的维度 1\n",
      "数组的个数 3\n",
      "元素的数据类型 int64\n",
      "元素的转置 [1 2 3]\n"
     ]
    }
   ],
   "execution_count": 22
  },
  {
   "metadata": {
    "ExecuteTime": {
     "end_time": "2025-08-08T09:23:04.996802Z",
     "start_time": "2025-08-08T09:23:04.993695Z"
    }
   },
   "cell_type": "code",
   "source": [
    "arr=np.array([[1,2,3],[4,5,6]])\n",
    "print(arr)\n",
    "print(\"数组的形状:\",arr.shape)\n",
    "print(\"数组的维度\",arr.ndim)\n",
    "print(\"数组的个数\",arr.size)\n",
    "print(\"元素的数据类型\",arr.dtype)\n",
    "print(\"元素的转置\",arr.T)"
   ],
   "id": "67d1747368b00444",
   "outputs": [
    {
     "name": "stdout",
     "output_type": "stream",
     "text": [
      "[[1 2 3]\n",
      " [4 5 6]]\n",
      "数组的形状: (2, 3)\n",
      "数组的维度 2\n",
      "数组的个数 6\n",
      "元素的数据类型 int64\n",
      "元素的转置 [[1 4]\n",
      " [2 5]\n",
      " [3 6]]\n"
     ]
    }
   ],
   "execution_count": 23
  },
  {
   "metadata": {},
   "cell_type": "markdown",
   "source": "## 3.ndarray的创建",
   "id": "14f0a394d43c81f2"
  },
  {
   "metadata": {
    "ExecuteTime": {
     "end_time": "2025-08-08T09:31:23.781698Z",
     "start_time": "2025-08-08T09:31:23.778410Z"
    }
   },
   "cell_type": "code",
   "source": [
    "#基础语法\n",
    "arr=np.array([[1,2,3],[4,5,6],[7,8,9]])\n",
    "list1=[1,2,3]\n",
    "print(arr.ndim)\n",
    "print(arr)"
   ],
   "id": "cb3d8aa068646ed9",
   "outputs": [
    {
     "name": "stdout",
     "output_type": "stream",
     "text": [
      "2\n",
      "[[1 2 3]\n",
      " [4 5 6]\n",
      " [7 8 9]]\n"
     ]
    }
   ],
   "execution_count": 30
  },
  {
   "metadata": {
    "ExecuteTime": {
     "end_time": "2025-08-08T09:31:15.323303Z",
     "start_time": "2025-08-08T09:31:15.321496Z"
    }
   },
   "cell_type": "code",
   "source": [
    "#copy\n",
    "arr1=np.copy(arr)# 深拷贝\n",
    "print(arr1)\n",
    "arr1[1][1]=2\n",
    "print(arr1)"
   ],
   "id": "bad2fd1026618886",
   "outputs": [
    {
     "name": "stdout",
     "output_type": "stream",
     "text": [
      "[[1 2 3]\n",
      " [4 5 6]\n",
      " [7 8 9]]\n",
      "[[1 2 3]\n",
      " [4 2 6]\n",
      " [7 8 9]]\n"
     ]
    }
   ],
   "execution_count": 29
  },
  {
   "metadata": {
    "ExecuteTime": {
     "end_time": "2025-08-08T09:33:32.305326Z",
     "start_time": "2025-08-08T09:33:32.303232Z"
    }
   },
   "cell_type": "code",
   "source": [
    "# 预定义形状（全0， 全1）\n",
    "\n",
    "#全0\n",
    "arr=np.zeros((2,3),dtype=int)\n",
    "print(arr)\n"
   ],
   "id": "3be575a28eefdc23",
   "outputs": [
    {
     "name": "stdout",
     "output_type": "stream",
     "text": [
      "[[0 0 0]\n",
      " [0 0 0]]\n"
     ]
    }
   ],
   "execution_count": 33
  },
  {
   "metadata": {
    "ExecuteTime": {
     "end_time": "2025-08-08T09:34:21.740Z",
     "start_time": "2025-08-08T09:34:21.737056Z"
    }
   },
   "cell_type": "code",
   "source": [
    "# 全1\n",
    "arr=np.ones((5,8),dtype=int)\n",
    "print(arr)"
   ],
   "id": "b41ce131f9fad17b",
   "outputs": [
    {
     "name": "stdout",
     "output_type": "stream",
     "text": [
      "[[1 1 1 1 1 1 1 1]\n",
      " [1 1 1 1 1 1 1 1]\n",
      " [1 1 1 1 1 1 1 1]\n",
      " [1 1 1 1 1 1 1 1]\n",
      " [1 1 1 1 1 1 1 1]]\n"
     ]
    }
   ],
   "execution_count": 35
  },
  {
   "metadata": {
    "ExecuteTime": {
     "end_time": "2025-08-08T09:34:55.921845Z",
     "start_time": "2025-08-08T09:34:55.919425Z"
    }
   },
   "cell_type": "code",
   "source": [
    "# 创建一个空数组\n",
    "arr=np.empty((5,8),dtype=int)\n",
    "print(arr)"
   ],
   "id": "e8488670b33db828",
   "outputs": [
    {
     "name": "stdout",
     "output_type": "stream",
     "text": [
      "[[4607182418800017408 4607182418800017408 4607182418800017408\n",
      "  4607182418800017408 4607182418800017408 4607182418800017408\n",
      "  4607182418800017408 4607182418800017408]\n",
      " [4607182418800017408 4607182418800017408 4607182418800017408\n",
      "  4607182418800017408 4607182418800017408 4607182418800017408\n",
      "  4607182418800017408 4607182418800017408]\n",
      " [4607182418800017408 4607182418800017408 4607182418800017408\n",
      "  4607182418800017408 4607182418800017408 4607182418800017408\n",
      "  4607182418800017408 4607182418800017408]\n",
      " [4607182418800017408 4607182418800017408 4607182418800017408\n",
      "  4607182418800017408 4607182418800017408 4607182418800017408\n",
      "  4607182418800017408 4607182418800017408]\n",
      " [4607182418800017408 4607182418800017408 4607182418800017408\n",
      "  4607182418800017408 4607182418800017408 4607182418800017408\n",
      "  4607182418800017408 4607182418800017408]]\n"
     ]
    }
   ],
   "execution_count": 36
  },
  {
   "metadata": {
    "ExecuteTime": {
     "end_time": "2025-08-08T09:35:27.208295Z",
     "start_time": "2025-08-08T09:35:27.206285Z"
    }
   },
   "cell_type": "code",
   "source": [
    "# 创建自定义\n",
    "arr=np.full((3,4),5)\n",
    "print(arr)"
   ],
   "id": "658a930266f68baf",
   "outputs": [
    {
     "name": "stdout",
     "output_type": "stream",
     "text": [
      "[[5 5 5 5]\n",
      " [5 5 5 5]\n",
      " [5 5 5 5]]\n"
     ]
    }
   ],
   "execution_count": 37
  },
  {
   "metadata": {
    "ExecuteTime": {
     "end_time": "2025-08-08T09:38:56.242161Z",
     "start_time": "2025-08-08T09:38:56.239154Z"
    }
   },
   "cell_type": "code",
   "source": [
    "# 得到形状一致的矩阵\n",
    "arr2=np.zeros_like(arr)\n",
    "print(arr2)\n",
    "arr2=np.empty_like(arr)\n",
    "print(arr2)\n",
    "arr2=np.ones_like(arr)\n",
    "print(arr2)\n",
    "arr2=np.full_like(arr,2025)\n",
    "print(arr2)"
   ],
   "id": "53b21a2cc3afdf74",
   "outputs": [
    {
     "name": "stdout",
     "output_type": "stream",
     "text": [
      "[[0 0 0 0]\n",
      " [0 0 0 0]\n",
      " [0 0 0 0]]\n",
      "[[1 1 1 1]\n",
      " [1 1 1 1]\n",
      " [1 1 1 1]]\n",
      "[[1 1 1 1]\n",
      " [1 1 1 1]\n",
      " [1 1 1 1]]\n",
      "[[2025 2025 2025 2025]\n",
      " [2025 2025 2025 2025]\n",
      " [2025 2025 2025 2025]]\n"
     ]
    }
   ],
   "execution_count": 39
  },
  {
   "metadata": {
    "ExecuteTime": {
     "end_time": "2025-08-08T09:41:35.282645Z",
     "start_time": "2025-08-08T09:41:35.280006Z"
    }
   },
   "cell_type": "code",
   "source": [
    "# 等差数列 2 4 6 8 10\n",
    "arr=np.arange(2,11,2) #末尾不包含\n",
    "print(arr)\n"
   ],
   "id": "4c6ef56e9d71fb4a",
   "outputs": [
    {
     "name": "stdout",
     "output_type": "stream",
     "text": [
      "[ 2  4  6  8 10]\n"
     ]
    }
   ],
   "execution_count": 43
  },
  {
   "metadata": {
    "ExecuteTime": {
     "end_time": "2025-08-08T09:43:24.302877Z",
     "start_time": "2025-08-08T09:43:24.300092Z"
    }
   },
   "cell_type": "code",
   "source": [
    "# 等间隔的序列\n",
    "arr=np.linspace(0,10,5) #包含末尾\n",
    "print(arr)"
   ],
   "id": "2cf8eb28b119f99b",
   "outputs": [
    {
     "name": "stdout",
     "output_type": "stream",
     "text": [
      "[ 0.   2.5  5.   7.5 10. ]\n"
     ]
    }
   ],
   "execution_count": 45
  },
  {
   "metadata": {
    "ExecuteTime": {
     "end_time": "2025-08-08T09:49:40.977992Z",
     "start_time": "2025-08-08T09:49:40.974915Z"
    }
   },
   "cell_type": "code",
   "source": [
    "arr=np.linspace(0,100,5,dtype=int)\n",
    "print(arr)"
   ],
   "id": "1015b73f2cc3d355",
   "outputs": [
    {
     "name": "stdout",
     "output_type": "stream",
     "text": [
      "[  0  25  50  75 100]\n"
     ]
    }
   ],
   "execution_count": 47
  },
  {
   "metadata": {
    "ExecuteTime": {
     "end_time": "2025-08-08T09:50:09.587119Z",
     "start_time": "2025-08-08T09:50:09.584770Z"
    }
   },
   "cell_type": "code",
   "source": [
    "arr=np.arange(0,101,25)\n",
    "print(arr)"
   ],
   "id": "bdfb3f80283cfc20",
   "outputs": [
    {
     "name": "stdout",
     "output_type": "stream",
     "text": [
      "[  0  25  50  75 100]\n"
     ]
    }
   ],
   "execution_count": 50
  },
  {
   "metadata": {
    "ExecuteTime": {
     "end_time": "2025-08-08T09:57:24.599626Z",
     "start_time": "2025-08-08T09:57:24.596706Z"
    }
   },
   "cell_type": "code",
   "source": [
    "# 对数间隔数列\n",
    "arr=np.logspace(0,4,3,base=2)\n",
    "print(arr)"
   ],
   "id": "4778d7764f1eef61",
   "outputs": [
    {
     "name": "stdout",
     "output_type": "stream",
     "text": [
      "[ 1.  4. 16.]\n"
     ]
    }
   ],
   "execution_count": 52
  },
  {
   "metadata": {
    "ExecuteTime": {
     "end_time": "2025-08-14T06:30:02.306994Z",
     "start_time": "2025-08-14T06:30:02.304265Z"
    }
   },
   "cell_type": "code",
   "source": [
    "import numpy as np\n",
    "arr=np.linspace(0,4,3,dtype=int)\n",
    "print(arr)"
   ],
   "id": "a20e332a3438957b",
   "outputs": [
    {
     "name": "stdout",
     "output_type": "stream",
     "text": [
      "[0 2 4]\n"
     ]
    }
   ],
   "execution_count": 10
  },
  {
   "metadata": {},
   "cell_type": "markdown",
   "source": "## 5.索引与切片",
   "id": "e2e97d72490d38e4"
  },
  {
   "metadata": {
    "ExecuteTime": {
     "end_time": "2025-08-11T11:30:00.095996Z",
     "start_time": "2025-08-11T11:29:59.946823Z"
    }
   },
   "cell_type": "code",
   "source": [
    "# 一维数组\n",
    "arr=np.random.randint(1,100,20)\n",
    "print(arr)"
   ],
   "id": "c3589c6ec5e31163",
   "outputs": [
    {
     "name": "stdout",
     "output_type": "stream",
     "text": [
      "[67 63 39  5  9 67 70 74 57 41 91  5 37 24 92 73 17 97 54 87]\n"
     ]
    }
   ],
   "execution_count": 3
  },
  {
   "metadata": {
    "ExecuteTime": {
     "end_time": "2025-08-11T11:30:11.039646Z",
     "start_time": "2025-08-11T11:30:11.037500Z"
    }
   },
   "cell_type": "code",
   "source": "print(arr[0])",
   "id": "8cb3b21df42720e0",
   "outputs": [
    {
     "name": "stdout",
     "output_type": "stream",
     "text": [
      "67\n"
     ]
    }
   ],
   "execution_count": 4
  },
  {
   "metadata": {
    "ExecuteTime": {
     "end_time": "2025-08-11T11:41:30.194210Z",
     "start_time": "2025-08-11T11:41:30.191421Z"
    }
   },
   "cell_type": "code",
   "source": [
    "print(arr[:])\n",
    "print(arr[2:10:2])\n",
    "print(arr[slice(2,10,2)])\n",
    "print(arr[(arr>10) & (arr<20)])"
   ],
   "id": "b7be5b91d67b116",
   "outputs": [
    {
     "name": "stdout",
     "output_type": "stream",
     "text": [
      "[67 63 39  5  9 67 70 74 57 41 91  5 37 24 92 73 17 97 54 87]\n",
      "[39  9 70 57]\n",
      "[39  9 70 57]\n",
      "[17]\n"
     ]
    }
   ],
   "execution_count": 9
  },
  {
   "metadata": {
    "ExecuteTime": {
     "end_time": "2025-08-13T10:15:02.931585Z",
     "start_time": "2025-08-13T10:15:02.926656Z"
    }
   },
   "cell_type": "code",
   "source": [
    "#二维数组\n",
    "\n",
    "arr=np.random.randint(1,100,(4,8))\n",
    "print(arr)"
   ],
   "id": "e65397c2c2280bbe",
   "outputs": [
    {
     "name": "stdout",
     "output_type": "stream",
     "text": [
      "[[79 98 86 80  9 85 74 43]\n",
      " [83 86  4 65 79 78 19 85]\n",
      " [12 44 19 29 53  8 88 12]\n",
      " [53 44 93 92 29 83 22  8]]\n"
     ]
    }
   ],
   "execution_count": 10
  },
  {
   "metadata": {
    "ExecuteTime": {
     "end_time": "2025-08-13T10:15:47.761770Z",
     "start_time": "2025-08-13T10:15:47.760134Z"
    }
   },
   "cell_type": "code",
   "source": "print(arr[2,1])",
   "id": "46202d67a6bf776",
   "outputs": [
    {
     "name": "stdout",
     "output_type": "stream",
     "text": [
      "44\n"
     ]
    }
   ],
   "execution_count": 12
  },
  {
   "metadata": {
    "ExecuteTime": {
     "end_time": "2025-08-13T10:16:28.172716Z",
     "start_time": "2025-08-13T10:16:28.170094Z"
    }
   },
   "cell_type": "code",
   "source": "print(arr[1,0:3])",
   "id": "1261cf9d2e09f046",
   "outputs": [
    {
     "name": "stdout",
     "output_type": "stream",
     "text": [
      "[83 86  4]\n"
     ]
    }
   ],
   "execution_count": 14
  },
  {
   "metadata": {
    "ExecuteTime": {
     "end_time": "2025-08-13T10:20:43.331801Z",
     "start_time": "2025-08-13T10:20:43.329342Z"
    }
   },
   "cell_type": "code",
   "source": "print(arr[2][arr[2]>50])",
   "id": "b777815ef259dfbc",
   "outputs": [
    {
     "name": "stdout",
     "output_type": "stream",
     "text": [
      "[53 88]\n"
     ]
    }
   ],
   "execution_count": 16
  },
  {
   "metadata": {
    "ExecuteTime": {
     "end_time": "2025-08-13T10:22:10.256685Z",
     "start_time": "2025-08-13T10:22:10.255014Z"
    }
   },
   "cell_type": "code",
   "source": "print(arr[:,2][arr[:,2]>50])",
   "id": "bd6245cfcd1247bc",
   "outputs": [
    {
     "name": "stdout",
     "output_type": "stream",
     "text": [
      "[86 93]\n"
     ]
    }
   ],
   "execution_count": 17
  },
  {
   "metadata": {},
   "cell_type": "markdown",
   "source": "## 6.ndarray的运算",
   "id": "a52086a116c474f2"
  },
  {
   "metadata": {
    "ExecuteTime": {
     "end_time": "2025-08-13T10:24:00.414675Z",
     "start_time": "2025-08-13T10:24:00.412571Z"
    }
   },
   "cell_type": "code",
   "source": [
    "a=np.array([1,2,3])\n",
    "b=np.array([4,5,6])\n",
    "print(a+b)"
   ],
   "id": "c964e0fafae0eca0",
   "outputs": [
    {
     "name": "stdout",
     "output_type": "stream",
     "text": [
      "[5 7 9]\n"
     ]
    }
   ],
   "execution_count": 18
  },
  {
   "metadata": {
    "ExecuteTime": {
     "end_time": "2025-08-13T10:27:15.705936Z",
     "start_time": "2025-08-13T10:27:15.703658Z"
    }
   },
   "cell_type": "code",
   "source": [
    "print(a-b)\n",
    "print(a*b)\n",
    "print(a/b)\n",
    "print(a**2)"
   ],
   "id": "eb2396846b5d56ea",
   "outputs": [
    {
     "name": "stdout",
     "output_type": "stream",
     "text": [
      "[-3 -3 -3]\n",
      "[ 4 10 18]\n",
      "[0.25 0.4  0.5 ]\n",
      "[1 4 9]\n"
     ]
    }
   ],
   "execution_count": 20
  },
  {
   "metadata": {
    "ExecuteTime": {
     "end_time": "2025-08-13T10:28:18.654621Z",
     "start_time": "2025-08-13T10:28:18.651614Z"
    }
   },
   "cell_type": "code",
   "source": [
    "a=np.array([[1,2,3],[4,5,6],[7,8,9]])\n",
    "b=np.array([[4,5,6],[7,8,9],[1,2,3]])\n",
    "print(a+b)\n",
    "print(a-b)\n",
    "print(a*b)\n",
    "print(a/b)"
   ],
   "id": "716c38d29ecdf079",
   "outputs": [
    {
     "name": "stdout",
     "output_type": "stream",
     "text": [
      "[[ 5  7  9]\n",
      " [11 13 15]\n",
      " [ 8 10 12]]\n",
      "[[-3 -3 -3]\n",
      " [-3 -3 -3]\n",
      " [ 6  6  6]]\n",
      "[[ 4 10 18]\n",
      " [28 40 54]\n",
      " [ 7 16 27]]\n",
      "[[0.25       0.4        0.5       ]\n",
      " [0.57142857 0.625      0.66666667]\n",
      " [7.         4.         3.        ]]\n"
     ]
    }
   ],
   "execution_count": 21
  },
  {
   "metadata": {
    "ExecuteTime": {
     "end_time": "2025-08-13T10:29:08.907896Z",
     "start_time": "2025-08-13T10:29:08.905625Z"
    }
   },
   "cell_type": "code",
   "source": "print(a+3)",
   "id": "30eded50002596a",
   "outputs": [
    {
     "name": "stdout",
     "output_type": "stream",
     "text": [
      "[[ 4  5  6]\n",
      " [ 7  8  9]\n",
      " [10 11 12]]\n"
     ]
    }
   ],
   "execution_count": 22
  },
  {
   "metadata": {
    "ExecuteTime": {
     "end_time": "2025-08-13T10:31:24.961856Z",
     "start_time": "2025-08-13T10:31:24.959537Z"
    }
   },
   "cell_type": "code",
   "source": [
    "#广播机制\n",
    "a = np.array([1,2,3])\n",
    "b = np.array([[1],[2],[3]])\n",
    "print(a+b)"
   ],
   "id": "6438af27b4f8e20d",
   "outputs": [
    {
     "name": "stdout",
     "output_type": "stream",
     "text": [
      "[[2 3 4]\n",
      " [3 4 5]\n",
      " [4 5 6]]\n"
     ]
    }
   ],
   "execution_count": 23
  },
  {
   "metadata": {
    "ExecuteTime": {
     "end_time": "2025-08-13T10:40:54.132854Z",
     "start_time": "2025-08-13T10:40:54.130117Z"
    }
   },
   "cell_type": "code",
   "source": [
    "# 矩阵的运算\n",
    "a=np.array([[1,2,3],[4,5,6],[7,8,9]])\n",
    "b=np.array([[4,5,6],[7,8,9],[1,2,3]])\n",
    "print(a@b)"
   ],
   "id": "40bfa80f0cbc0ca2",
   "outputs": [
    {
     "name": "stdout",
     "output_type": "stream",
     "text": [
      "[[ 21  27  33]\n",
      " [ 57  72  87]\n",
      " [ 93 117 141]]\n"
     ]
    }
   ],
   "execution_count": 24
  },
  {
   "metadata": {},
   "cell_type": "markdown",
   "source": "# 2.3 numpy中常用的函数\n",
   "id": "245ae179fd5965db"
  },
  {
   "metadata": {
    "ExecuteTime": {
     "end_time": "2025-08-13T10:43:26.167638Z",
     "start_time": "2025-08-13T10:43:26.164861Z"
    }
   },
   "cell_type": "code",
   "source": [
    "# 计算平方根\n",
    "print(np.sqrt(9))"
   ],
   "id": "384ceb1028915183",
   "outputs": [
    {
     "name": "stdout",
     "output_type": "stream",
     "text": [
      "3.0\n"
     ]
    }
   ],
   "execution_count": 26
  },
  {
   "metadata": {
    "ExecuteTime": {
     "end_time": "2025-08-13T10:43:44.308630Z",
     "start_time": "2025-08-13T10:43:44.306902Z"
    }
   },
   "cell_type": "code",
   "source": "print(np.sqrt([1,4,9]))",
   "id": "5aa0bcba4df7eebd",
   "outputs": [
    {
     "name": "stdout",
     "output_type": "stream",
     "text": [
      "[1. 2. 3.]\n"
     ]
    }
   ],
   "execution_count": 27
  },
  {
   "metadata": {
    "ExecuteTime": {
     "end_time": "2025-08-13T10:45:23.836112Z",
     "start_time": "2025-08-13T10:45:23.833041Z"
    }
   },
   "cell_type": "code",
   "source": [
    "# 计算指数 默认以e为底\n",
    "print(np.exp(1))"
   ],
   "id": "a0dd51538a043ea3",
   "outputs": [
    {
     "name": "stdout",
     "output_type": "stream",
     "text": [
      "7.38905609893065\n"
     ]
    }
   ],
   "execution_count": 29
  },
  {
   "metadata": {
    "ExecuteTime": {
     "end_time": "2025-08-13T10:46:31.310736Z",
     "start_time": "2025-08-13T10:46:31.308796Z"
    }
   },
   "cell_type": "code",
   "source": [
    "# 计算自然对数 lnx\n",
    "print(np.log(np.exp(1)))"
   ],
   "id": "42e6dca486705016",
   "outputs": [
    {
     "name": "stdout",
     "output_type": "stream",
     "text": [
      "1.0\n"
     ]
    }
   ],
   "execution_count": 31
  },
  {
   "metadata": {
    "ExecuteTime": {
     "end_time": "2025-08-13T10:48:31.558435Z",
     "start_time": "2025-08-13T10:48:31.556689Z"
    }
   },
   "cell_type": "code",
   "source": [
    "# 计算正弦余弦\n",
    "print(np.sin(np.pi/2))\n"
   ],
   "id": "73ab1fd5343816c3",
   "outputs": [
    {
     "name": "stdout",
     "output_type": "stream",
     "text": [
      "1.0\n"
     ]
    }
   ],
   "execution_count": 33
  },
  {
   "metadata": {
    "ExecuteTime": {
     "end_time": "2025-08-13T10:49:04.096384Z",
     "start_time": "2025-08-13T10:49:04.094478Z"
    }
   },
   "cell_type": "code",
   "source": [
    "arr=np.array([-1,1,2,-3])\n",
    "print(np.abs(arr))"
   ],
   "id": "b4d7b45c6514e2d5",
   "outputs": [
    {
     "name": "stdout",
     "output_type": "stream",
     "text": [
      "[1 1 2 3]\n"
     ]
    }
   ],
   "execution_count": 34
  },
  {
   "metadata": {
    "ExecuteTime": {
     "end_time": "2025-08-13T10:49:57.086700Z",
     "start_time": "2025-08-13T10:49:57.085003Z"
    }
   },
   "cell_type": "code",
   "source": [
    "# 计算a的b次幂\n",
    "print(np.power(arr,2))"
   ],
   "id": "2ec7a4e27707ab9b",
   "outputs": [
    {
     "name": "stdout",
     "output_type": "stream",
     "text": [
      "[1 1 4 9]\n"
     ]
    }
   ],
   "execution_count": 35
  },
  {
   "metadata": {
    "ExecuteTime": {
     "end_time": "2025-08-13T10:50:31.629968Z",
     "start_time": "2025-08-13T10:50:31.627744Z"
    }
   },
   "cell_type": "code",
   "source": [
    "# 四舍五入\n",
    "print(np.round([3.2,4.5,8.1,9.6]))"
   ],
   "id": "20fa78248152caf9",
   "outputs": [
    {
     "name": "stdout",
     "output_type": "stream",
     "text": [
      "[ 3.  4.  8. 10.]\n"
     ]
    }
   ],
   "execution_count": 36
  },
  {
   "metadata": {
    "ExecuteTime": {
     "end_time": "2025-08-13T10:52:17.407006Z",
     "start_time": "2025-08-13T10:52:17.405192Z"
    }
   },
   "cell_type": "code",
   "source": [
    "# 向上取整， 向下取整\n",
    "arr=np.array([1.6,25.1,81.7])\n",
    "print(np.ceil(arr))\n",
    "print(np.floor(arr))"
   ],
   "id": "4fab820845da4073",
   "outputs": [
    {
     "name": "stdout",
     "output_type": "stream",
     "text": [
      "[ 2. 26. 82.]\n",
      "[ 1. 25. 81.]\n"
     ]
    }
   ],
   "execution_count": 37
  },
  {
   "metadata": {
    "ExecuteTime": {
     "end_time": "2025-08-13T10:53:13.247267Z",
     "start_time": "2025-08-13T10:53:13.243189Z"
    }
   },
   "cell_type": "code",
   "source": [
    "# 检测缺失值\n",
    "np.isnan([1,2,np.nan,3])"
   ],
   "id": "da027c86003a828d",
   "outputs": [
    {
     "data": {
      "text/plain": [
       "array([False, False,  True, False])"
      ]
     },
     "execution_count": 38,
     "metadata": {},
     "output_type": "execute_result"
    }
   ],
   "execution_count": 38
  },
  {
   "metadata": {},
   "cell_type": "markdown",
   "source": "## 统计函数",
   "id": "8b9c6ec668b17e1c"
  },
  {
   "metadata": {
    "ExecuteTime": {
     "end_time": "2025-08-13T10:54:53.329618Z",
     "start_time": "2025-08-13T10:54:53.327893Z"
    }
   },
   "cell_type": "code",
   "source": [
    "arr = np.random.randint(1,20,8)\n",
    "print(arr)"
   ],
   "id": "1f6ad4bf7b5d2f12",
   "outputs": [
    {
     "name": "stdout",
     "output_type": "stream",
     "text": [
      "[ 8  2  4 16 15 19 15  8]\n"
     ]
    }
   ],
   "execution_count": 39
  },
  {
   "metadata": {
    "ExecuteTime": {
     "end_time": "2025-08-13T10:55:25.072834Z",
     "start_time": "2025-08-13T10:55:25.070950Z"
    }
   },
   "cell_type": "code",
   "source": [
    "#求和\n",
    "print(np.sum(arr))"
   ],
   "id": "4d976705df73347b",
   "outputs": [
    {
     "name": "stdout",
     "output_type": "stream",
     "text": [
      "87\n"
     ]
    }
   ],
   "execution_count": 40
  },
  {
   "metadata": {
    "ExecuteTime": {
     "end_time": "2025-08-13T10:56:16.104624Z",
     "start_time": "2025-08-13T10:56:16.101949Z"
    }
   },
   "cell_type": "code",
   "source": [
    "# 计算平均值\n",
    "print(np.mean(arr))"
   ],
   "id": "462d8f13000255ad",
   "outputs": [
    {
     "name": "stdout",
     "output_type": "stream",
     "text": [
      "10.875\n"
     ]
    }
   ],
   "execution_count": 42
  },
  {
   "metadata": {
    "ExecuteTime": {
     "end_time": "2025-08-13T10:56:34.887471Z",
     "start_time": "2025-08-13T10:56:34.884490Z"
    }
   },
   "cell_type": "code",
   "source": "print(np.median(arr))",
   "id": "786e5d47c952f244",
   "outputs": [
    {
     "name": "stdout",
     "output_type": "stream",
     "text": [
      "11.5\n"
     ]
    }
   ],
   "execution_count": 44
  },
  {
   "metadata": {
    "ExecuteTime": {
     "end_time": "2025-08-13T11:00:11.604577Z",
     "start_time": "2025-08-13T11:00:11.602223Z"
    }
   },
   "cell_type": "code",
   "source": [
    "# 计算标准差和方差\n",
    "print(np.var([1,2,3]))\n",
    "print(np.std([1,2,3]))\n"
   ],
   "id": "ae086839190266a4",
   "outputs": [
    {
     "name": "stdout",
     "output_type": "stream",
     "text": [
      "0.6666666666666666\n",
      "0.816496580927726\n"
     ]
    }
   ],
   "execution_count": 45
  },
  {
   "metadata": {
    "ExecuteTime": {
     "end_time": "2025-08-13T11:03:53.948464Z",
     "start_time": "2025-08-13T11:03:53.945330Z"
    }
   },
   "cell_type": "code",
   "source": [
    "# 最大值最小值\n",
    "print(np.max(arr),np.argmin(arr))\n",
    "print(np.min(arr),np.argmax(arr))"
   ],
   "id": "f836634bacfde181",
   "outputs": [
    {
     "name": "stdout",
     "output_type": "stream",
     "text": [
      "19 1\n",
      "2 5\n"
     ]
    }
   ],
   "execution_count": 47
  },
  {
   "metadata": {
    "ExecuteTime": {
     "end_time": "2025-08-13T11:07:06.361842Z",
     "start_time": "2025-08-13T11:07:06.355166Z"
    }
   },
   "cell_type": "code",
   "source": [
    "# 分位数\n",
    "print(np.percentile(arr,20))"
   ],
   "id": "5fb9c752eb8bb59",
   "outputs": [
    {
     "name": "stdout",
     "output_type": "stream",
     "text": [
      "5.6000000000000005\n"
     ]
    }
   ],
   "execution_count": 48
  },
  {
   "metadata": {
    "ExecuteTime": {
     "end_time": "2025-08-13T11:38:57.803902Z",
     "start_time": "2025-08-13T11:38:57.801592Z"
    }
   },
   "cell_type": "code",
   "source": [
    "arr=np.array([1,2,3])\n",
    "print(np.sum(arr))"
   ],
   "id": "8a8d80c54be4b464",
   "outputs": [
    {
     "name": "stdout",
     "output_type": "stream",
     "text": [
      "6\n"
     ]
    }
   ],
   "execution_count": 49
  },
  {
   "metadata": {},
   "cell_type": "markdown",
   "source": "## 比较函数",
   "id": "f3739e00564664f6"
  },
  {
   "metadata": {
    "ExecuteTime": {
     "end_time": "2025-08-13T11:41:04.550745Z",
     "start_time": "2025-08-13T11:41:04.548302Z"
    }
   },
   "cell_type": "code",
   "source": [
    "# 是否大于\n",
    "\n",
    "print(np.greater([3,4,5,6,7],4))\n",
    "\n",
    "#是否小于\n",
    "print(np.less([3,4,5,6,7],4))\n",
    "\n",
    "#是否等于\n",
    "print(np.equal([3,4,5,6,7],[3,4,5,6,7]))\n",
    "print(np.equal([1,2,3],2))\n"
   ],
   "id": "dfc9b653022a2082",
   "outputs": [
    {
     "name": "stdout",
     "output_type": "stream",
     "text": [
      "[False False  True  True  True]\n",
      "[ True False False False False]\n",
      "[ True  True  True  True  True]\n",
      "[False  True False]\n"
     ]
    }
   ],
   "execution_count": 52
  },
  {
   "metadata": {
    "ExecuteTime": {
     "end_time": "2025-08-13T11:42:05.337846Z",
     "start_time": "2025-08-13T11:42:05.335928Z"
    }
   },
   "cell_type": "code",
   "source": [
    "\n",
    "print(np.logical_and([1,0],[1,1]))\n",
    "print(np.logical_or([1,0],[1,1]))\n",
    "print(np.logical_xor([1,0],[1,1]))\n",
    "print(np.logical_not([1,0,0]))"
   ],
   "id": "1af1d8fb1e8b584d",
   "outputs": [
    {
     "name": "stdout",
     "output_type": "stream",
     "text": [
      "[ True False]\n",
      "[ True  True]\n",
      "[False  True]\n",
      "[False  True  True]\n"
     ]
    }
   ],
   "execution_count": 53
  },
  {
   "metadata": {
    "ExecuteTime": {
     "end_time": "2025-08-13T11:43:47.547150Z",
     "start_time": "2025-08-13T11:43:47.544730Z"
    }
   },
   "cell_type": "code",
   "source": [
    "# 检测是否有一个为true\n",
    "print(np.any([0,0,0,0,0]))\n",
    "# 检测是否全为true\n",
    "print(np.all([1,0,0]))"
   ],
   "id": "ec09ee4c8c3c1b93",
   "outputs": [
    {
     "name": "stdout",
     "output_type": "stream",
     "text": [
      "False\n",
      "False\n"
     ]
    }
   ],
   "execution_count": 54
  },
  {
   "metadata": {
    "ExecuteTime": {
     "end_time": "2025-08-13T11:45:58.911023Z",
     "start_time": "2025-08-13T11:45:58.908645Z"
    }
   },
   "cell_type": "code",
   "source": [
    "# 自定义条件\n",
    "arr=np.array([[1,2,3,4,5]])\n",
    "print(np.where(arr>3,arr,0)) #where(条件，满足是什么，不满足设为什么)"
   ],
   "id": "af68042642196939",
   "outputs": [
    {
     "name": "stdout",
     "output_type": "stream",
     "text": [
      "[[0 0 0 4 5]]\n"
     ]
    }
   ],
   "execution_count": 56
  },
  {
   "metadata": {
    "ExecuteTime": {
     "end_time": "2025-08-13T12:02:22.781217Z",
     "start_time": "2025-08-13T12:02:22.778788Z"
    }
   },
   "cell_type": "code",
   "source": "arr=np.random.randint(40,100,20)",
   "id": "b3db916f5aa128f5",
   "outputs": [],
   "execution_count": 59
  },
  {
   "metadata": {
    "ExecuteTime": {
     "end_time": "2025-08-13T12:02:25.486036Z",
     "start_time": "2025-08-13T12:02:25.483240Z"
    }
   },
   "cell_type": "code",
   "source": [
    "print(arr)\n",
    "print(np.where(arr < 60,'不及格', np.where(arr < 80,'良',np.where(arr<90,'不错','优秀'))))\n"
   ],
   "id": "a8a710f1e8172615",
   "outputs": [
    {
     "name": "stdout",
     "output_type": "stream",
     "text": [
      "[56 48 99 50 46 61 66 80 66 49 59 54 59 65 88 86 87 83 63 81]\n",
      "['不及格' '不及格' '优秀' '不及格' '不及格' '良' '良' '不错' '良' '不及格' '不及格' '不及格' '不及格' '良'\n",
      " '不错' '不错' '不错' '不错' '良' '不错']\n"
     ]
    }
   ],
   "execution_count": 60
  },
  {
   "metadata": {
    "ExecuteTime": {
     "end_time": "2025-08-13T12:05:56.558479Z",
     "start_time": "2025-08-13T12:05:56.555506Z"
    }
   },
   "cell_type": "code",
   "source": [
    "print(np.select(\n",
    "    [arr<60,(60<=arr) & (arr<=79),arr>=80],\n",
    "    ['不及格','良','优秀'],\n",
    "    default='null'))"
   ],
   "id": "17642c7ccbe8c08d",
   "outputs": [
    {
     "name": "stdout",
     "output_type": "stream",
     "text": [
      "['不及格' '不及格' '优秀' '不及格' '不及格' '良' '良' '优秀' '良' '不及格' '不及格' '不及格' '不及格' '良'\n",
      " '优秀' '优秀' '优秀' '优秀' '良' '优秀']\n"
     ]
    }
   ],
   "execution_count": 62
  },
  {
   "metadata": {
    "ExecuteTime": {
     "end_time": "2025-08-14T06:30:15.649674Z",
     "start_time": "2025-08-14T06:30:15.646379Z"
    }
   },
   "cell_type": "code",
   "source": [
    "arr = np.random.randint(1,100,20)\n",
    "print(arr)"
   ],
   "id": "a12cebeae041abc5",
   "outputs": [
    {
     "name": "stdout",
     "output_type": "stream",
     "text": [
      "[ 3 70 42 41 96 56 10 26 43 52 49 74 58 78 69 56 28  8 28 39]\n"
     ]
    }
   ],
   "execution_count": 11
  },
  {
   "metadata": {
    "ExecuteTime": {
     "end_time": "2025-08-13T12:09:30.813298Z",
     "start_time": "2025-08-13T12:09:30.811384Z"
    }
   },
   "cell_type": "code",
   "source": [
    "print(np.sort(arr))\n",
    "print(np.argsort(arr))\n",
    "arr.sort()\n",
    "print(arr)"
   ],
   "id": "411e02932ae1a0cf",
   "outputs": [
    {
     "name": "stdout",
     "output_type": "stream",
     "text": [
      "[ 4 15 20 24 35 37 42 45 58 59 77 77 77 80 82 83 86 90 91 94]\n",
      "[ 0  1  2  3  4  5  6  7  8  9 10 11 12 13 14 15 16 17 18 19]\n",
      "[ 4 15 20 24 35 37 42 45 58 59 77 77 77 80 82 83 86 90 91 94]\n"
     ]
    }
   ],
   "execution_count": 67
  },
  {
   "metadata": {
    "ExecuteTime": {
     "end_time": "2025-08-13T12:09:54.166512Z",
     "start_time": "2025-08-13T12:09:54.164140Z"
    }
   },
   "cell_type": "code",
   "source": [
    "#去重函数\n",
    "print(np.unique(arr))"
   ],
   "id": "ab8ebba57973fc81",
   "outputs": [
    {
     "name": "stdout",
     "output_type": "stream",
     "text": [
      "[ 4 15 20 24 35 37 42 45 58 59 77 80 82 83 86 90 91 94]\n"
     ]
    }
   ],
   "execution_count": 68
  },
  {
   "metadata": {
    "ExecuteTime": {
     "end_time": "2025-08-13T12:12:35.118279Z",
     "start_time": "2025-08-13T12:12:35.116249Z"
    }
   },
   "cell_type": "code",
   "source": [
    "#数组拼接\n",
    "arr1=np.array([1,2,3])\n",
    "arr2=np.array([4,5,6])\n",
    "print(arr1+arr2)\n",
    "print(np.concatenate([arr1,arr2]))"
   ],
   "id": "fc19ef247a2e6dfa",
   "outputs": [
    {
     "name": "stdout",
     "output_type": "stream",
     "text": [
      "[5 7 9]\n",
      "[1 2 3 4 5 6]\n"
     ]
    }
   ],
   "execution_count": 69
  },
  {
   "metadata": {
    "ExecuteTime": {
     "end_time": "2025-08-13T12:21:28.237623Z",
     "start_time": "2025-08-13T12:21:28.234584Z"
    }
   },
   "cell_type": "code",
   "source": [
    "# 数组的分割\n",
    "print(np.split(arr,2))\n",
    "print(np.split(arr,[6,12,18]))"
   ],
   "id": "447413d88d4ab75",
   "outputs": [
    {
     "name": "stdout",
     "output_type": "stream",
     "text": [
      "[array([ 4, 15, 20, 24, 35, 37, 42, 45, 58, 59]), array([77, 77, 77, 80, 82, 83, 86, 90, 91, 94])]\n",
      "[array([ 4, 15, 20, 24, 35, 37]), array([42, 45, 58, 59, 77, 77]), array([77, 80, 82, 83, 86, 90]), array([91, 94])]\n"
     ]
    }
   ],
   "execution_count": 71
  },
  {
   "metadata": {
    "ExecuteTime": {
     "end_time": "2025-08-14T06:30:18.583953Z",
     "start_time": "2025-08-14T06:30:18.581382Z"
    }
   },
   "cell_type": "code",
   "source": "print(np.reshape(arr,(5,4)))",
   "id": "51ce802ed9c2ad5b",
   "outputs": [
    {
     "name": "stdout",
     "output_type": "stream",
     "text": [
      "[[ 3 70 42 41]\n",
      " [96 56 10 26]\n",
      " [43 52 49 74]\n",
      " [58 78 69 56]\n",
      " [28  8 28 39]]\n"
     ]
    }
   ],
   "execution_count": 12
  },
  {
   "metadata": {},
   "cell_type": "markdown",
   "source": "",
   "id": "2f77ea8968c4b900"
  },
  {
   "metadata": {},
   "cell_type": "markdown",
   "source": [
    "# 综合练习\n",
    "\n",
    "题目 1:温度数据分析\n",
    "某城市一周的最高气温(°C)为[28,30,29,31,32,30,29]。\n",
    "- 计算平均气温、最高气温和最低气温。\n",
    "- 找出气温超过 30°℃ 的天数。"
   ],
   "id": "3da9093a27c36697"
  },
  {
   "metadata": {
    "ExecuteTime": {
     "end_time": "2025-08-14T06:21:16.510919Z",
     "start_time": "2025-08-14T06:21:16.148686Z"
    }
   },
   "cell_type": "code",
   "source": [
    "import numpy as np\n",
    "arr=np.array([28,30,29,31,32,30,29])\n",
    "print(\"平均气温:\",np.mean(arr),\" 最高/低气温:\", np.max(arr),\"/\",np.min(arr))\n",
    "print(np.where(arr>30,arr,0))\n",
    "# 可以使用变为1累加\n",
    "print(np.cumsum(np.where(arr>30,1,0))[-1])"
   ],
   "id": "fd8578bb3f2689b",
   "outputs": [
    {
     "name": "stdout",
     "output_type": "stream",
     "text": [
      "平均气温: 29.857142857142858  最高/低气温: 32 / 28\n",
      "[ 0  0  0 31 32  0  0]\n",
      "2\n"
     ]
    }
   ],
   "execution_count": 3
  },
  {
   "metadata": {
    "ExecuteTime": {
     "end_time": "2025-08-13T14:59:54.245109Z",
     "start_time": "2025-08-13T14:59:54.242321Z"
    }
   },
   "cell_type": "code",
   "source": [
    "# 平均数可以做一个保留处理\n",
    "print(\"%.3f\"%np.mean(arr))"
   ],
   "id": "1360e2d51a78b9d1",
   "outputs": [
    {
     "name": "stdout",
     "output_type": "stream",
     "text": [
      "29.857\n"
     ]
    }
   ],
   "execution_count": 3
  },
  {
   "metadata": {
    "ExecuteTime": {
     "end_time": "2025-08-13T15:00:59.348286Z",
     "start_time": "2025-08-13T15:00:59.345688Z"
    }
   },
   "cell_type": "code",
   "source": "print(len(arr[arr>30]))",
   "id": "ccfd8892a48b171a",
   "outputs": [
    {
     "name": "stdout",
     "output_type": "stream",
     "text": [
      "2\n"
     ]
    }
   ],
   "execution_count": 4
  },
  {
   "metadata": {},
   "cell_type": "markdown",
   "source": [
    "题目 2:学生成绩统计\n",
    "某班级 5 名学生的数学成绩为[85,90,78,92,88]。\n",
    "- 计算成绩的平均分、中位数和标准差。\n",
    "- 将成绩转换为百分制(假设满分为 10)。"
   ],
   "id": "b42780d055c8ab7a"
  },
  {
   "metadata": {
    "ExecuteTime": {
     "end_time": "2025-08-13T15:10:01.815746Z",
     "start_time": "2025-08-13T15:10:01.811728Z"
    }
   },
   "cell_type": "code",
   "source": [
    "arr=np.array([85,90,78,92,88])\n",
    "print(np.mean(arr))\n",
    "print(np.median(arr))\n",
    "print(\"%.3f\"%np.std(arr))\n",
    "print(np.where(arr>0,arr/10,0))"
   ],
   "id": "6641e9b671069bb3",
   "outputs": [
    {
     "name": "stdout",
     "output_type": "stream",
     "text": [
      "86.6\n",
      "88.0\n",
      "4.883\n",
      "[8.5 9.  7.8 9.2 8.8]\n"
     ]
    }
   ],
   "execution_count": 10
  },
  {
   "metadata": {},
   "cell_type": "markdown",
   "source": [
    ":\n",
    "\n",
    "题目 3:矩阵运算\n",
    "给定矩阵 A=[[1,2],[3,4]]和B=[[5,6],[7,8]]。\n",
    "- 计算 A+B和A*B(逐元素乘法)。\n",
    "- 计算 A和 B 的矩阵乘法(点积)。"
   ],
   "id": "79fa555b7658bcc5"
  },
  {
   "metadata": {
    "ExecuteTime": {
     "end_time": "2025-08-13T15:14:44.275960Z",
     "start_time": "2025-08-13T15:14:44.272609Z"
    }
   },
   "cell_type": "code",
   "source": [
    "arr1=np.array([[1,2],[3,4]])\n",
    "arr2=np.array([[5,6],[7,8]])\n",
    "print(\"A+B\")\n",
    "print(arr1+arr2)\n",
    "print(\"A*B\")\n",
    "print(arr1@arr2)\n",
    "print(\"A.B\")\n",
    "print(arr1*arr2)"
   ],
   "id": "4fdec81b4908510d",
   "outputs": [
    {
     "name": "stdout",
     "output_type": "stream",
     "text": [
      "A+B\n",
      "[[ 6  8]\n",
      " [10 12]]\n",
      "A*B\n",
      "[[19 22]\n",
      " [43 50]]\n",
      "A.B\n",
      "[[ 5 12]\n",
      " [21 32]]\n"
     ]
    }
   ],
   "execution_count": 13
  },
  {
   "metadata": {},
   "cell_type": "markdown",
   "source": [
    "题目 4:随机数据生成\n",
    "生成一个(3,4)的随机整数数组,范围[0,10)。\n",
    "- 计算每列的最大值和每行的最小值。\n",
    "- 将数组中的所有奇数替换为 -1。"
   ],
   "id": "d3c4fa7e1bee80b4"
  },
  {
   "metadata": {
    "ExecuteTime": {
     "end_time": "2025-08-14T06:21:20.760593Z",
     "start_time": "2025-08-14T06:21:20.616495Z"
    }
   },
   "cell_type": "code",
   "source": "arr=np.random.randint(0,10,(3,4))\n",
   "id": "ad99e188cfb64e8b",
   "outputs": [],
   "execution_count": 4
  },
  {
   "metadata": {
    "ExecuteTime": {
     "end_time": "2025-08-14T06:21:22.809321Z",
     "start_time": "2025-08-14T06:21:22.806191Z"
    }
   },
   "cell_type": "code",
   "source": [
    "print(arr)\n",
    "for i in range(4):\n",
    "    print(\"--------------------\")\n",
    "    print(\"max:\",np.max(arr[:,i]))\n",
    "    print(\"min:\",np.min(arr[:,i]))\n",
    "    print(\"substitution:\",np.where(arr%2==1,-1,arr))"
   ],
   "id": "30ed47d6289e91a",
   "outputs": [
    {
     "name": "stdout",
     "output_type": "stream",
     "text": [
      "[[1 5 4 8]\n",
      " [9 9 2 2]\n",
      " [0 5 1 1]]\n",
      "--------------------\n",
      "max: 9\n",
      "min: 0\n",
      "substitution: [[-1 -1  4  8]\n",
      " [-1 -1  2  2]\n",
      " [ 0 -1 -1 -1]]\n",
      "--------------------\n",
      "max: 9\n",
      "min: 5\n",
      "substitution: [[-1 -1  4  8]\n",
      " [-1 -1  2  2]\n",
      " [ 0 -1 -1 -1]]\n",
      "--------------------\n",
      "max: 4\n",
      "min: 1\n",
      "substitution: [[-1 -1  4  8]\n",
      " [-1 -1  2  2]\n",
      " [ 0 -1 -1 -1]]\n",
      "--------------------\n",
      "max: 8\n",
      "min: 1\n",
      "substitution: [[-1 -1  4  8]\n",
      " [-1 -1  2  2]\n",
      " [ 0 -1 -1 -1]]\n"
     ]
    }
   ],
   "execution_count": 5
  },
  {
   "metadata": {
    "ExecuteTime": {
     "end_time": "2025-08-14T06:25:24.143612Z",
     "start_time": "2025-08-14T06:25:24.141133Z"
    }
   },
   "cell_type": "code",
   "source": [
    "print(arr)\n",
    "print(np.max(arr,axis=0))"
   ],
   "id": "a93f7147d2cb5f87",
   "outputs": [
    {
     "name": "stdout",
     "output_type": "stream",
     "text": [
      "[[1 5 4 8]\n",
      " [9 9 2 2]\n",
      " [0 5 1 1]]\n",
      "[9 9 4 8]\n"
     ]
    }
   ],
   "execution_count": 7
  },
  {
   "metadata": {
    "ExecuteTime": {
     "end_time": "2025-08-14T06:27:39.942515Z",
     "start_time": "2025-08-14T06:27:39.939130Z"
    }
   },
   "cell_type": "code",
   "source": [
    "arr[arr%2==1]=-1\n",
    "print(arr)"
   ],
   "id": "e59666385cb9143c",
   "outputs": [
    {
     "name": "stdout",
     "output_type": "stream",
     "text": [
      "[[-1 -1  4  8]\n",
      " [-1 -1  2  2]\n",
      " [ 0 -1 -1 -1]]\n"
     ]
    }
   ],
   "execution_count": 8
  },
  {
   "metadata": {},
   "cell_type": "markdown",
   "source": [
    "题目 5:数组变形\n",
    "创建一个 1到 12 的一维数组,并转换为(3,4)的二维数组。\n",
    "- 计算每行的和与每列的平均值。\n",
    "- 将数组展平为一维数组。"
   ],
   "id": "4a39c57071a6a30"
  },
  {
   "metadata": {
    "ExecuteTime": {
     "end_time": "2025-08-14T06:31:24.427577Z",
     "start_time": "2025-08-14T06:31:24.424224Z"
    }
   },
   "cell_type": "code",
   "source": [
    "arr=np.array([1,2,3,4,5,6,7,8,9,10,11,12])\n",
    "newArr=np.reshape(arr,(3,4))\n",
    "print(newArr)"
   ],
   "id": "9ab6ff8b6be7e6bd",
   "outputs": [
    {
     "name": "stdout",
     "output_type": "stream",
     "text": [
      "[[ 1  2  3  4]\n",
      " [ 5  6  7  8]\n",
      " [ 9 10 11 12]]\n"
     ]
    }
   ],
   "execution_count": 13
  },
  {
   "metadata": {
    "ExecuteTime": {
     "end_time": "2025-08-14T06:32:46.365571Z",
     "start_time": "2025-08-14T06:32:46.362500Z"
    }
   },
   "cell_type": "code",
   "source": [
    "for i in range(4):\n",
    "    print(\"colum mean:\",np.mean(newArr[:,i]))\n",
    "for i in range(3):\n",
    "    print(\"row mean:\",np.mean(newArr[i,:]))"
   ],
   "id": "e732fe9b4aab5525",
   "outputs": [
    {
     "name": "stdout",
     "output_type": "stream",
     "text": [
      "colum mean: 5.0\n",
      "colum mean: 6.0\n",
      "colum mean: 7.0\n",
      "colum mean: 8.0\n",
      "row mean: 2.5\n",
      "row mean: 6.5\n",
      "row mean: 10.5\n"
     ]
    }
   ],
   "execution_count": 14
  },
  {
   "metadata": {
    "ExecuteTime": {
     "end_time": "2025-08-14T06:37:16.191175Z",
     "start_time": "2025-08-14T06:37:16.188915Z"
    }
   },
   "cell_type": "code",
   "source": [
    "sourceArr=np.reshape(arr,(12))\n",
    "print(sourceArr)"
   ],
   "id": "e51bd6fde7364e0c",
   "outputs": [
    {
     "name": "stdout",
     "output_type": "stream",
     "text": [
      "[ 1  2  3  4  5  6  7  8  9 10 11 12]\n"
     ]
    }
   ],
   "execution_count": 20
  },
  {
   "metadata": {
    "ExecuteTime": {
     "end_time": "2025-08-14T06:34:45.102085Z",
     "start_time": "2025-08-14T06:34:45.099002Z"
    }
   },
   "cell_type": "code",
   "source": [
    "arr=np.arange(1,13)\n",
    "print(arr)"
   ],
   "id": "bfe61e8c7b90429c",
   "outputs": [
    {
     "name": "stdout",
     "output_type": "stream",
     "text": [
      "[ 1  2  3  4  5  6  7  8  9 10 11 12]\n"
     ]
    }
   ],
   "execution_count": 19
  },
  {
   "metadata": {},
   "cell_type": "code",
   "outputs": [],
   "execution_count": null,
   "source": "newArr=np.reshape(arr,(3,4))",
   "id": "e9773db568020753"
  },
  {
   "metadata": {},
   "cell_type": "markdown",
   "source": [
    "题目 6:布尔索引\n",
    "生成一个(5,5)的随机数组,范围 [0,20)。\n",
    "- 找出数组中大于 10 的元素。\n",
    "- 将所有大于 10 的元素替换为 0。"
   ],
   "id": "a614cbcb258fcb4a",
   "attachments": {
    "3d84e1db-e9be-4cf2-b253-093541db2a20.png": {
     "image/png": "[encoded data removed]"
    }
   }
  },
  {
   "metadata": {
    "ExecuteTime": {
     "end_time": "2025-08-14T06:38:36.624066Z",
     "start_time": "2025-08-14T06:38:36.621284Z"
    }
   },
   "cell_type": "code",
   "source": [
    "arr=np.random.randint(0,20,(5,5))\n",
    "print(arr)"
   ],
   "id": "55a745a28df68de6",
   "outputs": [
    {
     "name": "stdout",
     "output_type": "stream",
     "text": [
      "[[ 2  8 11 11 10]\n",
      " [ 9 13 15 16 15]\n",
      " [ 8  8 10 18 14]\n",
      " [19  6  0 19  7]\n",
      " [15 19 11  3  0]]\n"
     ]
    }
   ],
   "execution_count": 21
  },
  {
   "metadata": {
    "ExecuteTime": {
     "end_time": "2025-08-14T06:39:00.497387Z",
     "start_time": "2025-08-14T06:39:00.494902Z"
    }
   },
   "cell_type": "code",
   "source": "print(arr[arr>10])",
   "id": "7bfc11e6f2f9407f",
   "outputs": [
    {
     "name": "stdout",
     "output_type": "stream",
     "text": [
      "[11 11 13 15 16 15 18 14 19 19 15 19 11]\n"
     ]
    }
   ],
   "execution_count": 22
  },
  {
   "metadata": {
    "ExecuteTime": {
     "end_time": "2025-08-14T06:39:24.451356Z",
     "start_time": "2025-08-14T06:39:24.448576Z"
    }
   },
   "cell_type": "code",
   "source": "print(np.where(arr>10,0,arr))",
   "id": "8aa9bd2f889c592b",
   "outputs": [
    {
     "name": "stdout",
     "output_type": "stream",
     "text": [
      "[[ 2  8  0  0 10]\n",
      " [ 9  0  0  0  0]\n",
      " [ 8  8 10  0  0]\n",
      " [ 0  6  0  0  7]\n",
      " [ 0  0  0  3  0]]\n"
     ]
    }
   ],
   "execution_count": 23
  },
  {
   "metadata": {},
   "cell_type": "markdown",
   "source": [
    "题目 7:统计函数应用\n",
    "某公司 6 个月的销售额(万元)为[120,135,110,125,130,140]。\n",
    "- 计算销售额的总和、均值和方差。\n",
    "- 找出销售额最高的月份和最低的月份。"
   ],
   "id": "a27b1cfdb5923ef9"
  },
  {
   "metadata": {
    "ExecuteTime": {
     "end_time": "2025-08-14T06:44:29.569900Z",
     "start_time": "2025-08-14T06:44:29.566913Z"
    }
   },
   "cell_type": "code",
   "source": [
    "arr=np.array([120,135,110,125,130,140])\n",
    "print(np.sum(arr))\n",
    "print(np.mean(arr))\n",
    "print(np.var(arr))\n",
    "print(np.argmax(arr)+1)\n",
    "print(np.argmin(arr)+1)"
   ],
   "id": "e9df9661ddce2549",
   "outputs": [
    {
     "name": "stdout",
     "output_type": "stream",
     "text": [
      "760\n",
      "126.66666666666667\n",
      "97.22222222222223\n",
      "6\n",
      "3\n"
     ]
    }
   ],
   "execution_count": 25
  },
  {
   "metadata": {},
   "cell_type": "markdown",
   "source": [
    "题目 8:数组拼接\n",
    "给定 A=[1,2,3]和B=[4,5,6]。\n",
    "-将A和 B 水平拼接为一个新数组。\n",
    "-将A和 B 垂直拼接为一个新数组。"
   ],
   "id": "41006cd074e82245"
  },
  {
   "metadata": {
    "ExecuteTime": {
     "end_time": "2025-08-14T06:47:24.265500Z",
     "start_time": "2025-08-14T06:47:24.261906Z"
    }
   },
   "cell_type": "code",
   "source": [
    "arr1=np.array([1,2,3])\n",
    "arr2=np.array([4,5,6])\n",
    "print(np.concatenate([arr1,arr2]))\n",
    "print(np.reshape(np.concatenate([arr1,arr2]),(2,3)))"
   ],
   "id": "2ac324c3f3bd750a",
   "outputs": [
    {
     "name": "stdout",
     "output_type": "stream",
     "text": [
      "[1 2 3 4 5 6]\n",
      "[[1 2 3]\n",
      " [4 5 6]]\n"
     ]
    }
   ],
   "execution_count": 31
  },
  {
   "metadata": {},
   "cell_type": "markdown",
   "source": [
    "\"I“题目 9:唯一值与排序\n",
    "给定数组 [2,1,2,3,1,4,3]。\n",
    "- 找出数组中的唯一值并排序。\n",
    "- 计算每个唯一值出现的次数。"
   ],
   "id": "5b7952c28fe4d40a"
  },
  {
   "metadata": {
    "ExecuteTime": {
     "end_time": "2025-08-14T06:56:19.261323Z",
     "start_time": "2025-08-14T06:56:19.258373Z"
    }
   },
   "cell_type": "code",
   "source": [
    "arr=np.array([2,1,2,3,1,4,3])\n",
    "uniqueArr=np.unique(arr)\n",
    "print(uniqueArr)"
   ],
   "id": "bb75b324f0e17596",
   "outputs": [
    {
     "name": "stdout",
     "output_type": "stream",
     "text": [
      "[1 2 3 4]\n"
     ]
    }
   ],
   "execution_count": 35
  },
  {
   "metadata": {
    "ExecuteTime": {
     "end_time": "2025-08-14T06:58:22.375428Z",
     "start_time": "2025-08-14T06:58:22.372546Z"
    }
   },
   "cell_type": "code",
   "source": [
    "countArr=np.zeros_like(uniqueArr)\n",
    "for i in uniqueArr:\n",
    "    count=np.cumsum(np.where(arr==i,1,0))[-1]\n",
    "    countArr[i-1]=count\n",
    "print(countArr)"
   ],
   "id": "999d329f5cfafa15",
   "outputs": [
    {
     "name": "stdout",
     "output_type": "stream",
     "text": [
      "[2 2 2 1]\n"
     ]
    }
   ],
   "execution_count": 41
  }
 ],
 "metadata": {
  "kernelspec": {
   "display_name": "Python 3",
   "language": "python",
   "name": "python3"
  },
  "language_info": {
   "codemirror_mode": {
    "name": "ipython",
    "version": 2
   },
   "file_extension": ".py",
   "mimetype": "text/x-python",
   "name": "python",
   "nbconvert_exporter": "python",
   "pygments_lexer": "ipython2",
   "version": "2.7.6"
  }
 },
 "nbformat": 4,
 "nbformat_minor": 5
}
